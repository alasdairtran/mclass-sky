{
 "cells": [
  {
   "cell_type": "markdown",
   "metadata": {},
   "source": [
    "# Subclasses"
   ]
  },
  {
   "cell_type": "code",
   "execution_count": 1,
   "metadata": {
    "collapsed": true
   },
   "outputs": [],
   "source": [
    "# remove after testing\n",
    "%load_ext autoreload\n",
    "%autoreload 2"
   ]
  },
  {
   "cell_type": "code",
   "execution_count": 2,
   "metadata": {
    "collapsed": true
   },
   "outputs": [],
   "source": [
    "import mclearn\n",
    "import pickle\n",
    "import numpy as np\n",
    "import pandas as pd\n",
    "import matplotlib.pyplot as plt\n",
    "from itertools import product\n",
    "from sklearn.svm import SVC, LinearSVC\n",
    "from sklearn.linear_model import LogisticRegression\n",
    "from sklearn.ensemble import RandomForestClassifier\n",
    "from sklearn.preprocessing import StandardScaler\n",
    "from sklearn.utils import shuffle\n",
    "%matplotlib inline\n",
    "plt.style.use('ggplot')"
   ]
  },
  {
   "cell_type": "code",
   "execution_count": 3,
   "metadata": {
    "collapsed": true
   },
   "outputs": [],
   "source": [
    "sdss = pd.read_hdf('data/sdss_subclass.h5', 'sdss_subclass')\n",
    "\n",
    "feature_cols = ['psfMag_u_sf11', 'psfMag_g_sf11', 'psfMag_r_sf11', 'psfMag_i_sf11',\n",
    "                 'psfMag_z_sf11', 'psf_u_g_sf11', 'psf_g_r_sf11', 'psf_g_i_sf11', 'psf_r_i_sf11', 'psf_i_z_sf11',\n",
    "                 'petroMag_u_sf11', 'petroMag_g_sf11', 'petroMag_r_sf11', 'petroMag_i_sf11',\n",
    "                 'petroMag_z_sf11', 'petro_i_z_sf11', 'petroRad_r']"
   ]
  },
  {
   "cell_type": "code",
   "execution_count": 4,
   "metadata": {
    "collapsed": false
   },
   "outputs": [
    {
     "data": {
      "text/plain": [
       "0                     Star A0\n",
       "1                     Star F5\n",
       "2                     Star F5\n",
       "6                     Star M1\n",
       "7                     Star M3\n",
       "8                     Star M3\n",
       "9                     Star M3\n",
       "10                    Star M0\n",
       "11                    Star M3\n",
       "15                    Star A0\n",
       "16                    Star F5\n",
       "17                    Star F5\n",
       "18                    Star F9\n",
       "19         Galaxy Starforming\n",
       "20                    Star G0\n",
       "21         Galaxy Starforming\n",
       "22                   Star K3V\n",
       "27                    Star F9\n",
       "28                    Star F5\n",
       "29                    Star G2\n",
       "30                    Star F5\n",
       "31                    Star F9\n",
       "33              Star M4.5:III\n",
       "39                 Galaxy AGN\n",
       "41         Galaxy Starforming\n",
       "42                    Star F2\n",
       "44           Galaxy Starburst\n",
       "48           Quasar Broadline\n",
       "52           Galaxy Starburst\n",
       "57           Quasar Broadline\n",
       "                  ...        \n",
       "2800925    Galaxy Starforming\n",
       "2800927               Star F5\n",
       "2800933    Galaxy Starforming\n",
       "2800938    Galaxy Starforming\n",
       "2800939    Galaxy Starforming\n",
       "2800940    Galaxy Starforming\n",
       "2800941      Galaxy Starburst\n",
       "2800943               Star F5\n",
       "2800944    Galaxy Starforming\n",
       "2800946               Star M4\n",
       "2800957               Star K3\n",
       "2800960      Quasar Broadline\n",
       "2800961      Quasar Broadline\n",
       "2800962             Star F0IV\n",
       "2800964               Star K5\n",
       "2800966               Star G0\n",
       "2800967               Star F9\n",
       "2800969           Star F3/F5V\n",
       "2800971           Star F3/F5V\n",
       "2800972      Quasar Broadline\n",
       "2800977               Star F9\n",
       "2800979               Star CV\n",
       "2800982      Quasar Broadline\n",
       "2800985      Quasar Broadline\n",
       "2800988      Galaxy Starburst\n",
       "2800990            Galaxy AGN\n",
       "2800991    Galaxy Starforming\n",
       "2800992      Galaxy Starburst\n",
       "2800996            Star M3III\n",
       "2800997           Star F3/F5V\n",
       "Name: subclass, dtype: object"
      ]
     },
     "execution_count": 4,
     "metadata": {},
     "output_type": "execute_result"
    }
   ],
   "source": [
    "sdss['subclass'].describe()"
   ]
  }
 ],
 "metadata": {
  "kernelspec": {
   "display_name": "Python 3",
   "language": "python",
   "name": "python3"
  },
  "language_info": {
   "codemirror_mode": {
    "name": "ipython",
    "version": 3
   },
   "file_extension": ".py",
   "mimetype": "text/x-python",
   "name": "python",
   "nbconvert_exporter": "python",
   "pygments_lexer": "ipython3",
   "version": "3.4.1"
  }
 },
 "nbformat": 4,
 "nbformat_minor": 0
}
