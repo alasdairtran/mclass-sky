{
 "cells": [
  {
   "cell_type": "markdown",
   "metadata": {},
   "source": [
    "# Multiclass classification with novel classes"
   ]
  },
  {
   "cell_type": "code",
   "execution_count": 25,
   "metadata": {
    "collapsed": true
   },
   "outputs": [],
   "source": [
    "import pandas as pd\n",
    "import numpy as np\n",
    "import gc\n",
    "from sklearn.linear_model import LogisticRegression\n",
    "from sklearn.preprocessing import PolynomialFeatures\n",
    "from sklearn.metrics import confusion_matrix\n",
    "from sklearn.utils import shuffle\n",
    "import matplotlib.pyplot as plt\n",
    "\n",
    "from mclearn.preprocessing import balanced_train_test_split\n",
    "%matplotlib inline"
   ]
  },
  {
   "cell_type": "markdown",
   "metadata": {},
   "source": [
    "## Loading and preprocessing data"
   ]
  },
  {
   "cell_type": "code",
   "execution_count": 2,
   "metadata": {
    "collapsed": false
   },
   "outputs": [
    {
     "name": "stdout",
     "output_type": "stream",
     "text": [
      "(2801002, 27)\n",
      "['ra' 'dec' 'class' 'redshift' 'redshiftErr' 'psfMag_u' 'psfMagErr_u'\n",
      " 'psfMag_g' 'psfMagErr_g' 'psfMag_r' 'psfMagErr_r' 'psfMag_i' 'psfMagErr_i'\n",
      " 'psfMag_z' 'psfMagErr_z' 'petroMag_u' 'petroMagErr_u' 'petroMag_g'\n",
      " 'petroMagErr_g' 'petroMag_r' 'petroMagErr_r' 'petroMag_i' 'petroMagErr_i'\n",
      " 'petroMag_z' 'petroMagErr_z' 'petroRad_r' 'petroRadErr_r']\n"
     ]
    }
   ],
   "source": [
    "sdss = pd.io.parsers.read_csv(\"../data/sdss_dr7_photometry.csv.gz\", compression=\"gzip\")\n",
    "print(sdss.shape)\n",
    "print(sdss.columns.values)"
   ]
  },
  {
   "cell_type": "code",
   "execution_count": 3,
   "metadata": {
    "collapsed": false
   },
   "outputs": [
    {
     "data": {
      "text/plain": [
       "(2801002, 15)"
      ]
     },
     "execution_count": 3,
     "metadata": {},
     "output_type": "execute_result"
    }
   ],
   "source": [
    "sdss['psf_u_g'] = sdss['psfMag_u'] - sdss['psfMag_g']\n",
    "sdss['psf_g_r'] = sdss['psfMag_g'] - sdss['psfMag_r']\n",
    "sdss['psf_r_i'] = sdss['psfMag_r'] - sdss['psfMag_i']\n",
    "sdss['psf_i_z'] = sdss['psfMag_i'] - sdss['psfMag_z']\n",
    "\n",
    "sdss['petro_u_g'] = sdss['petroMag_u'] - sdss['petroMag_g']\n",
    "sdss['petro_g_r'] = sdss['petroMag_g'] - sdss['petroMag_r']\n",
    "sdss['petro_r_i'] = sdss['petroMag_r'] - sdss['petroMag_i']\n",
    "sdss['petro_i_z'] = sdss['petroMag_i'] - sdss['petroMag_z']\n",
    "\n",
    "colour_features = ['psfMag_i', 'petroMag_i', 'petroRad_r',\n",
    "                   'psf_u_g', 'psf_g_r', 'psf_r_i', 'psf_i_z',\n",
    "                   'petroMag_r', 'petro_u_g', 'petro_g_r', 'petro_r_i',\n",
    "                   'petro_i_z']\n",
    "relevant_inputs = ['ra', 'dec', 'class'] + colour_features\n",
    "\n",
    "sdss = sdss[relevant_inputs]\n",
    "gc.collect()\n",
    "sdss.shape"
   ]
  },
  {
   "cell_type": "markdown",
   "metadata": {},
   "source": [
    "## Train a committee of Logistic Regression classifiers"
   ]
  },
  {
   "cell_type": "code",
   "execution_count": 13,
   "metadata": {
    "collapsed": false
   },
   "outputs": [],
   "source": [
    "committee_size = 11\n",
    "logistic_committee=[]\n",
    "for ix in range(committee_size):\n",
    "    logistic_committee.append(LogisticRegression(random_state=2, class_weight='auto'))\n",
    "\n",
    "    \n",
    "train_size = 100000\n",
    "test_size = 200000\n",
    "sub_train_size = 10000\n",
    "X_train, X_test, y_train, y_test = balanced_train_test_split(sdss, colour_features, \"class\", train_size, test_size)\n",
    "\n",
    "poly_features = PolynomialFeatures(degree=3, interaction_only=False, include_bias=False)\n",
    "sdss_poly_features_3 = poly_features.fit_transform(X_train)\n",
    "\n"
   ]
  },
  {
   "cell_type": "code",
   "execution_count": 14,
   "metadata": {
    "collapsed": false
   },
   "outputs": [],
   "source": [
    "test_features = poly_features.fit_transform(X_test)\n",
    "y_pred = []\n",
    "for classifier in logistic_committee:\n",
    "    feat, lab = shuffle(sdss_poly_features_3, y_train)\n",
    "    classifier.fit(feat[:sub_train_size], lab[:sub_train_size])\n",
    "    y_pred.append(classifier.predict(test_features))"
   ]
  },
  {
   "cell_type": "markdown",
   "metadata": {},
   "source": [
    "Some sanity checking"
   ]
  },
  {
   "cell_type": "code",
   "execution_count": 15,
   "metadata": {
    "collapsed": false
   },
   "outputs": [
    {
     "name": "stdout",
     "output_type": "stream",
     "text": [
      "[[193371   4347   2282]\n",
      " [  6775 174735  18490]\n",
      " [  3221  24294 172485]]\n",
      "Accuracy = 0.901\n",
      "[[193156   4829   2015]\n",
      " [  6701 174040  19259]\n",
      " [  3600  24508 171892]]\n",
      "Accuracy = 0.898\n",
      "[[193604   4458   1938]\n",
      " [  7068 173292  19640]\n",
      " [  3587  23945 172468]]\n",
      "Accuracy = 0.899\n"
     ]
    }
   ],
   "source": [
    "for ix in range(3):\n",
    "    cur_pred = y_pred[ix]\n",
    "    conf_mat = confusion_matrix(y_test, cur_pred)\n",
    "    print(conf_mat)\n",
    "    print('Accuracy = %1.3f' % (conf_mat.trace()/conf_mat.sum()))"
   ]
  },
  {
   "cell_type": "code",
   "execution_count": 16,
   "metadata": {
    "collapsed": false
   },
   "outputs": [
    {
     "data": {
      "text/plain": [
       "array([[11, 11, 11, 11, 11, 11, 11, 11, 11,  0, 11, 11,  0, 11, 11],\n",
       "       [ 0,  0,  0,  0,  0,  0,  0,  0,  0, 11,  0,  0,  2,  0,  0],\n",
       "       [ 0,  0,  0,  0,  0,  0,  0,  0,  0,  0,  0,  0,  9,  0,  0]])"
      ]
     },
     "execution_count": 16,
     "metadata": {},
     "output_type": "execute_result"
    }
   ],
   "source": [
    "y_pred = np.array(y_pred)\n",
    "pred_count = np.zeros((3,3*test_size), dtype=int)\n",
    "for ix,lab in enumerate(['Galaxy', 'Star', 'Quasar']):\n",
    "    pred_count[ix,:] = np.sum(y_pred == lab, axis=0)\n",
    "pred_count[:,:15]"
   ]
  },
  {
   "cell_type": "code",
   "execution_count": 21,
   "metadata": {
    "collapsed": false
   },
   "outputs": [
    {
     "name": "stdout",
     "output_type": "stream",
     "text": [
      "16661\n",
      "124\n"
     ]
    }
   ],
   "source": [
    "disagree_max = np.max(pred_count, axis=0) < committee_size-2\n",
    "print(np.sum(disagree_max))\n",
    "disagree_min = np.min(pred_count, axis=0) > 2\n",
    "print(np.sum(disagree_min))"
   ]
  },
  {
   "cell_type": "code",
   "execution_count": 39,
   "metadata": {
    "collapsed": false
   },
   "outputs": [
    {
     "data": {
      "text/plain": [
       "<matplotlib.image.AxesImage at 0x10f2c0710>"
      ]
     },
     "execution_count": 39,
     "metadata": {},
     "output_type": "execute_result"
    },
    {
     "data": {
      "image/png": "[encoded data removed]",
      "text/plain": [
       "<matplotlib.figure.Figure at 0x1108904a8>"
      ]
     },
     "metadata": {},
     "output_type": "display_data"
    }
   ],
   "source": [
    "y_disagree = np.zeros((committee_size, np.sum(disagree_min)))\n",
    "y_disagree[y_pred[:, disagree_min] == 'Galaxy'] = 0\n",
    "y_disagree[y_pred[:, disagree_min] == 'Star'] = 1\n",
    "y_disagree[y_pred[:, disagree_min] == 'Quasar'] = 2\n",
    "plt.matshow(y_disagree)"
   ]
  },
  {
   "cell_type": "code",
   "execution_count": null,
   "metadata": {
    "collapsed": true
   },
   "outputs": [],
   "source": []
  }
 ],
 "metadata": {
  "kernelspec": {
   "display_name": "Python 3",
   "language": "python",
   "name": "python3"
  },
  "language_info": {
   "codemirror_mode": {
    "name": "ipython",
    "version": 3
   },
   "file_extension": ".py",
   "mimetype": "text/x-python",
   "name": "python",
   "nbconvert_exporter": "python",
   "pygments_lexer": "ipython3",
   "version": "3.4.3"
  }
 },
 "nbformat": 4,
 "nbformat_minor": 0
}
