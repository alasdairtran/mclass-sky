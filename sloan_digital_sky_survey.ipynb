{
 "metadata": {
  "name": "",
  "signature": "sha256:e8fef631ff98d22515a3d34a80c5548ea079d96526841a8c98d9093b63700cc0"
 },
 "nbformat": 3,
 "nbformat_minor": 0,
 "worksheets": [
  {
   "cells": [
    {
     "cell_type": "heading",
     "level": 1,
     "metadata": {},
     "source": [
      "Contents"
     ]
    },
    {
     "cell_type": "heading",
     "level": 2,
     "metadata": {},
     "source": [
      "Implementation Details"
     ]
    },
    {
     "cell_type": "markdown",
     "metadata": {},
     "source": [
      "* <a href=\"performance_measures.ipynb\" target=\"_blank\">Performance Measures</a>: This notebook explains the implementation of various performance measures, including the posterior balanced accuracy."
     ]
    },
    {
     "cell_type": "heading",
     "level": 2,
     "metadata": {},
     "source": [
      "SDSS Classification"
     ]
    },
    {
     "cell_type": "markdown",
     "metadata": {},
     "source": [
      "* <a href=\"sdss_about_the_data.ipynb\" target=\"_blank\">SDSS - About the Data</a>: Some information about the SDSS dataset and how to obtain them.\n",
      "* <a href=\"sdss_classification.ipynb\" target=\"_blank\">SDSS - Classification</a>: We apply some of the standard classifiers on the SDSS dataset."
     ]
    }
   ],
   "metadata": {}
  }
 ]
}