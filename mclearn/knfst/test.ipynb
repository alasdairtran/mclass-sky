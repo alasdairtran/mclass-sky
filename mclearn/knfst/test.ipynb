{
 "cells": [
  {
   "cell_type": "code",
   "execution_count": 14,
   "metadata": {
    "collapsed": true
   },
   "outputs": [],
   "source": [
    "import numpy as np\n",
    "import scipy as sp\n",
    "import pandas as pd\n",
    "import os\n",
    "from learn_multiClassNovelty_knfst import learn_multiclass_novelty_knfst\n",
    "from sklearn import datasets, metrics"
   ]
  },
  {
   "cell_type": "code",
   "execution_count": 47,
   "metadata": {
    "collapsed": true
   },
   "outputs": [],
   "source": [
    "def null(a, rtol=1e-5):\n",
    "    u, s, v = np.linalg.svd(a)\n",
    "    rank = (s > rtol*s[0]).sum()\n",
    "    return v[rank:].T.copy()\n",
    "\n",
    "\n",
    "def calculate_knfst(K, labels):\n",
    "    '''\n",
    "    Calculates projection matrix of KNFST\n",
    "    '''\n",
    "    classes = np.unique(labels)\n",
    "    if len(classes) < 2:\n",
    "        raise Exception(\"KNFST requires 2 or more classes\")\n",
    "    n, m = K.shape\n",
    "    if n != m:\n",
    "        raise Exception(\"Kernel matrix must be quadratic\")\n",
    "        \n",
    "    centered_k = center_kernel_matrix(K)\n",
    "    basis_values, basis_vecs = np.linalg.eig(centered_k)\n",
    "    \n",
    "    #basis_values = np.diag(basis_values)\n",
    "    \n",
    "\n",
    "    basis_vecs = basis_vecs[:,basis_values > 1e-12]\n",
    "    basis_values = basis_values[basis_values > 1e-12]\n",
    "    \n",
    "    basis_values = np.diag(1/np.sqrt(basis_values))\n",
    "    basis_vecs  = basis_vecs.dot(basis_values)\n",
    "    print(basis_vecs.shape)\n",
    "    print(basis_values.shape)        \n",
    "    L = np.zeros([n,n])\n",
    "    for cls in classes:\n",
    "        L[labels==cls, labels==cls] = 1/np.sum(labels==cls)\n",
    "    M = np.ones([m,m])/m\n",
    "#   #print(np.eye(m,m)-M)\n",
    "    H = (np.eye(m,m)-M).dot(basis_vecs).T.dot(K).dot(np.eye(m,m)-L)\n",
    "    #H = H.dot(basis_vecs)\n",
    "    #H = H.T.dot(K).dot(np.eye(np.size(K))-L)\n",
    "    \n",
    "    T = H.dot(H.T)\n",
    "    \n",
    "    eigenvecs = null(T)\n",
    "#     if eigenvecs.shape[1] < 1:\n",
    "#         eigenvals, eigenvecs = np.linalg.eig(T)\n",
    "        #eigenvals = np.diag(eigenvals)\n",
    "        \n",
    "    proj = (np.eye(m,m)-M).dot(basis_vecs).dot(eigenvecs)\n",
    "    return proj\n",
    "        \n",
    "        \n",
    "def center_kernel_matrix(kernel):\n",
    "    '''\n",
    "    Centers the data in the feature space only using the kernel matrix\n",
    "    '''\n",
    "    n = np.shape(kernel)[0]\n",
    "    column_means = np.mean(kernel, 0)\n",
    "    matrix_mean = np.mean(kernel)\n",
    "    centered = kernel\n",
    "    \n",
    "    for idx in range(n):\n",
    "        centered[idx, :] = centered[idx, :] - column_means\n",
    "        centered[:, idx] = centered[:, idx] - column_means\n",
    "        \n",
    "    centered += matrix_mean\n",
    "    return centered"
   ]
  },
  {
   "cell_type": "code",
   "execution_count": 111,
   "metadata": {
    "collapsed": true
   },
   "outputs": [],
   "source": [
    "def learn_multiclass_novelty_knfst(K, labels):\n",
    "    '''\n",
    "    Calculate multi-class KNFST model for multi-class novelty detection\n",
    "    \n",
    "    INPUT\n",
    "      K: NxN kernel matrix containing similarities of n training samples\n",
    "      labels: Nx1 column vector containing multi-class labels of N training samples\n",
    "\n",
    "    OUTPUT\n",
    "      proj: Projection of KNFST\n",
    "      target_points: The projections of training data into the null space\n",
    "    '''\n",
    "\n",
    "    classes = np.unique(labels)\n",
    "    proj = calculate_knfst(K, labels)\n",
    "    target_points = np.zeros((len(classes), proj.shape[0]))\n",
    "    for idx, cl in enumerate(classes):\n",
    "        k_cl = K[labels==cl,:]\n",
    "        target_points[idx, :] = np.mean(k_cl.dot(proj),1)\n",
    "    print(target_points)\n",
    "    return proj, target_points"
   ]
  },
  {
   "cell_type": "code",
   "execution_count": 112,
   "metadata": {
    "collapsed": false
   },
   "outputs": [],
   "source": [
    "PATH = r\"../Datasets/bow_1000_dense/\"\n",
    "SAMPLE_PATH = r\"../Datasets/Sample/\"\n",
    "\n",
    "train = datasets.load_files(SAMPLE_PATH)\n",
    "train.data = np.vstack([np.fromstring(txt, sep='\\t') for txt in train.data])"
   ]
  },
  {
   "cell_type": "code",
   "execution_count": 113,
   "metadata": {
    "collapsed": false
   },
   "outputs": [],
   "source": [
    "data = train.data\n",
    "target = train.target"
   ]
  },
  {
   "cell_type": "code",
   "execution_count": 114,
   "metadata": {
    "collapsed": false
   },
   "outputs": [
    {
     "name": "stdout",
     "output_type": "stream",
     "text": [
      "(473, 473)\n",
      "(473, 473)\n"
     ]
    },
    {
     "ename": "ValueError",
     "evalue": "could not broadcast input array from shape (98) into shape (473)",
     "output_type": "error",
     "traceback": [
      "\u001b[1;31m---------------------------------------------------------------------------\u001b[0m",
      "\u001b[1;31mValueError\u001b[0m                                Traceback (most recent call last)",
      "\u001b[1;32m<ipython-input-114-a48984ef2e9e>\u001b[0m in \u001b[0;36m<module>\u001b[1;34m()\u001b[0m\n\u001b[0;32m      3\u001b[0m \u001b[1;33m\u001b[0m\u001b[0m\n\u001b[0;32m      4\u001b[0m \u001b[0mk_hik\u001b[0m \u001b[1;33m=\u001b[0m \u001b[0mmetrics\u001b[0m\u001b[1;33m.\u001b[0m\u001b[0mpairwise_kernels\u001b[0m\u001b[1;33m(\u001b[0m\u001b[0mdata\u001b[0m\u001b[1;33m,\u001b[0m \u001b[0mmetric\u001b[0m\u001b[1;33m=\u001b[0m\u001b[0mhik\u001b[0m\u001b[1;33m)\u001b[0m\u001b[1;33m\u001b[0m\u001b[0m\n\u001b[1;32m----> 5\u001b[1;33m \u001b[0mproj\u001b[0m\u001b[1;33m,\u001b[0m \u001b[0mtarget_points\u001b[0m \u001b[1;33m=\u001b[0m \u001b[0mlearn_multiclass_novelty_knfst\u001b[0m\u001b[1;33m(\u001b[0m\u001b[0mk_hik\u001b[0m\u001b[1;33m,\u001b[0m \u001b[0mtarget\u001b[0m\u001b[1;33m)\u001b[0m\u001b[1;33m\u001b[0m\u001b[0m\n\u001b[0m",
      "\u001b[1;32m<ipython-input-111-a346b7628633>\u001b[0m in \u001b[0;36mlearn_multiclass_novelty_knfst\u001b[1;34m(K, labels)\u001b[0m\n\u001b[0;32m     17\u001b[0m     \u001b[1;32mfor\u001b[0m \u001b[0midx\u001b[0m\u001b[1;33m,\u001b[0m \u001b[0mcl\u001b[0m \u001b[1;32min\u001b[0m \u001b[0menumerate\u001b[0m\u001b[1;33m(\u001b[0m\u001b[0mclasses\u001b[0m\u001b[1;33m)\u001b[0m\u001b[1;33m:\u001b[0m\u001b[1;33m\u001b[0m\u001b[0m\n\u001b[0;32m     18\u001b[0m         \u001b[0mk_cl\u001b[0m \u001b[1;33m=\u001b[0m \u001b[0mK\u001b[0m\u001b[1;33m[\u001b[0m\u001b[0mlabels\u001b[0m\u001b[1;33m==\u001b[0m\u001b[0mcl\u001b[0m\u001b[1;33m,\u001b[0m\u001b[1;33m:\u001b[0m\u001b[1;33m]\u001b[0m\u001b[1;33m\u001b[0m\u001b[0m\n\u001b[1;32m---> 19\u001b[1;33m         \u001b[0mtarget_points\u001b[0m\u001b[1;33m[\u001b[0m\u001b[0midx\u001b[0m\u001b[1;33m,\u001b[0m \u001b[1;33m:\u001b[0m\u001b[1;33m]\u001b[0m \u001b[1;33m=\u001b[0m \u001b[0mnp\u001b[0m\u001b[1;33m.\u001b[0m\u001b[0mmean\u001b[0m\u001b[1;33m(\u001b[0m\u001b[0mk_cl\u001b[0m\u001b[1;33m.\u001b[0m\u001b[0mdot\u001b[0m\u001b[1;33m(\u001b[0m\u001b[0mproj\u001b[0m\u001b[1;33m)\u001b[0m\u001b[1;33m,\u001b[0m\u001b[1;36m1\u001b[0m\u001b[1;33m)\u001b[0m\u001b[1;33m\u001b[0m\u001b[0m\n\u001b[0m\u001b[0;32m     20\u001b[0m     \u001b[0mprint\u001b[0m\u001b[1;33m(\u001b[0m\u001b[0mtarget_points\u001b[0m\u001b[1;33m)\u001b[0m\u001b[1;33m\u001b[0m\u001b[0m\n\u001b[0;32m     21\u001b[0m     \u001b[1;32mreturn\u001b[0m \u001b[0mproj\u001b[0m\u001b[1;33m,\u001b[0m \u001b[0mtarget_points\u001b[0m\u001b[1;33m\u001b[0m\u001b[0m\n",
      "\u001b[1;31mValueError\u001b[0m: could not broadcast input array from shape (98) into shape (473)"
     ]
    }
   ],
   "source": [
    "def hik(x, y):\n",
    "    return np.minimum(x, y).sum()\n",
    "\n",
    "k_hik = metrics.pairwise_kernels(data, metric=hik)\n",
    "proj, target_points = learn_multiclass_novelty_knfst(k_hik, target)"
   ]
  },
  {
   "cell_type": "code",
   "execution_count": 106,
   "metadata": {
    "collapsed": false
   },
   "outputs": [
    {
     "data": {
      "text/plain": [
       "(473, 1)"
      ]
     },
     "execution_count": 106,
     "metadata": {},
     "output_type": "execute_result"
    }
   ],
   "source": [
    "proj.shape"
   ]
  },
  {
   "cell_type": "code",
   "execution_count": 101,
   "metadata": {
    "collapsed": false
   },
   "outputs": [
    {
     "data": {
      "text/plain": [
       "array([[ -5.96605824e-17],\n",
       "       [ -7.27733936e-17],\n",
       "       [ -2.40741243e-16],\n",
       "       [  3.87855756e-16]])"
      ]
     },
     "execution_count": 101,
     "metadata": {},
     "output_type": "execute_result"
    }
   ],
   "source": [
    "target_points"
   ]
  },
  {
   "cell_type": "code",
   "execution_count": null,
   "metadata": {
    "collapsed": true
   },
   "outputs": [],
   "source": []
  }
 ],
 "metadata": {
  "kernelspec": {
   "display_name": "Python 3",
   "language": "python",
   "name": "python3"
  },
  "language_info": {
   "codemirror_mode": {
    "name": "ipython",
    "version": 3
   },
   "file_extension": ".py",
   "mimetype": "text/x-python",
   "name": "python",
   "nbconvert_exporter": "python",
   "pygments_lexer": "ipython3",
   "version": "3.4.3"
  }
 },
 "nbformat": 4,
 "nbformat_minor": 0
}
