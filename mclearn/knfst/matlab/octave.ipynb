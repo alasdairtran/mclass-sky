{
 "cells": [
  {
   "cell_type": "code",
   "execution_count": 1,
   "metadata": {
    "collapsed": false
   },
   "outputs": [
    {
     "data": {
      "text/plain": [
       "    473   1000    473      1\r\n"
      ]
     },
     "execution_count": 1,
     "metadata": {},
     "output_type": "execute_result"
    }
   ],
   "source": [
    "Xs = [];\n",
    "Ys = [];\n",
    "PATH = \"/home/yen/Projects/masters/Datasets/Sample/\"\n",
    "files = dir(PATH);\n",
    "for cat = files';\n",
    "    disp(cat.name)\n",
    "    if cat.isdir & cat.name(1) != '.'\n",
    "        category = str2num(cat.name(1:3));\n",
    "        d = fullfile(PATH, cat.name);\n",
    "        for file = dir(d)';\n",
    "            if file.isdir != 1 & file.name(1) != '.'\n",
    "                disp(file.name);\n",
    "                row = dlmread(fullfile(d, file.name));\n",
    "                Xs = [Xs; row];\n",
    "                Ys = [Ys; category]\n",
    "            end\n",
    "        end\n",
    "    end\n",
    "end\n",
    "s_x = size(Xs);\n",
    "s_y = size(Ys);\n",
    "disp([s_x s_y]);"
   ]
  },
  {
   "cell_type": "code",
   "execution_count": 2,
   "metadata": {
    "collapsed": false
   },
   "outputs": [
    {
     "data": {},
     "execution_count": 2,
     "metadata": {},
     "output_type": "execute_result"
    }
   ],
   "source": [
    "function kernel = histint(A, B)\n",
    "    [m,d]=size(A);\n",
    "    [n,d1]=size(B);\n",
    "    if (d ~= d1)\n",
    "        error('column length of A (%d) != column length of B (%d)\\n',d,d1);\n",
    "    end\n",
    "\n",
    "    % With the MATLAB JIT compiler the trivial implementation turns out\n",
    "    % to be the fastest, especially for large matrices.\n",
    "    kernel = zeros(m,n);\n",
    "    for i=1:m % m is number of samples of A \n",
    "        if (0==mod(i,1000)) fprintf('.'); end\n",
    "        for j=1:n % n is number of samples of B\n",
    "            kernel(i,j) = sum(min([A(i,:);B(j,:)]));%./max(A(:,i),B(:,j)));\n",
    "        end            \n",
    "    end\n",
    "end"
   ]
  },
  {
   "cell_type": "code",
   "execution_count": 3,
   "metadata": {
    "collapsed": false
   },
   "outputs": [
    {
     "data": {
      "text/plain": [
       "ans =\r\n",
       "\r\n",
       "   473   473\r\n",
       "\r\n"
      ]
     },
     "execution_count": 3,
     "metadata": {},
     "output_type": "execute_result"
    }
   ],
   "source": [
    "k = histint(Xs, Xs);\n",
    "size(k)"
   ]
  },
  {
   "cell_type": "code",
   "execution_count": 4,
   "metadata": {
    "collapsed": false
   },
   "outputs": [
    {
     "data": {},
     "execution_count": 4,
     "metadata": {},
     "output_type": "execute_result"
    }
   ],
   "source": [
    "model = learn_multiClassNovelty_knfst(k, Ys);"
   ]
  },
  {
   "cell_type": "code",
   "execution_count": 5,
   "metadata": {
    "collapsed": false
   },
   "outputs": [
    {
     "data": {},
     "execution_count": 5,
     "metadata": {},
     "output_type": "execute_result"
    }
   ],
   "source": [
    "[n,_] = size(Xs);\n",
    "ind = randperm(n);\n",
    "split = floor(0.7 * n);\n",
    "train = Xs(ind<split, :);\n",
    "train_y = Ys(ind<split, :);\n",
    "test = Xs(ind>=split, :);\n",
    "test_y = Ys(ind>=split, :);"
   ]
  },
  {
   "cell_type": "code",
   "execution_count": 6,
   "metadata": {
    "collapsed": false
   },
   "outputs": [
    {
     "data": {},
     "execution_count": 6,
     "metadata": {},
     "output_type": "execute_result"
    }
   ],
   "source": [
    "% Training\n",
    "k = histint(train, train);\n",
    "model = learn_multiClassNovelty_knfst(k, train_y);\n"
   ]
  },
  {
   "cell_type": "code",
   "execution_count": 7,
   "metadata": {
    "collapsed": false
   },
   "outputs": [
    {
     "data": {},
     "execution_count": 7,
     "metadata": {},
     "output_type": "execute_result"
    }
   ],
   "source": [
    "ks = histint(train, test);\n",
    "score = test_multiClassNovelty_knfst(model, ks);"
   ]
  },
  {
   "cell_type": "code",
   "execution_count": 10,
   "metadata": {
    "collapsed": false
   },
   "outputs": [
    {
     "data": {
      "text/plain": [
       "ans =\r\n",
       "\r\n",
       "   143     1\r\n",
       "\r\n"
      ]
     },
     "execution_count": 10,
     "metadata": {},
     "output_type": "execute_result"
    }
   ],
   "source": [
    "size(score)"
   ]
  },
  {
   "cell_type": "code",
   "execution_count": 44,
   "metadata": {
    "collapsed": false
   },
   "outputs": [
    {
     "data": {
      "text/plain": [
       "a =\r\n",
       "\r\n",
       "   0   0   0\r\n",
       "\r\n"
      ]
     },
     "execution_count": 44,
     "metadata": {},
     "output_type": "execute_result"
    }
   ],
   "source": [
    "perfcurve()"
   ]
  },
  {
   "cell_type": "code",
   "execution_count": null,
   "metadata": {
    "collapsed": true
   },
   "outputs": [],
   "source": []
  }
 ],
 "metadata": {
  "kernelspec": {
   "display_name": "Octave",
   "language": "octave",
   "name": "octave_kernel"
  },
  "language_info": {
   "file_extension": ".m",
   "help_links": [
    {
     "text": "MetaKernel Magics",
     "url": "https://github.com/calysto/metakernel/blob/master/metakernel/magics/README.md"
    }
   ],
   "mimetype": "text/x-octave",
   "name": "octave_kernel"
  }
 },
 "nbformat": 4,
 "nbformat_minor": 0
}
