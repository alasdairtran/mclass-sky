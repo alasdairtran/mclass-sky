{
 "cells": [
  {
   "cell_type": "code",
   "execution_count": 26,
   "metadata": {
    "collapsed": false
   },
   "outputs": [],
   "source": [
    "import urllib.request\n",
    "import os\n",
    "import shutil\n",
    "import tarfile"
   ]
  },
  {
   "cell_type": "markdown",
   "metadata": {},
   "source": [
    "This is a simple script to download the Caltech256 image feature dataset."
   ]
  },
  {
   "cell_type": "code",
   "execution_count": 27,
   "metadata": {
    "collapsed": false
   },
   "outputs": [],
   "source": [
    "DATASET_URL = r\"http://homes.esat.kuleuven.be/~tuytelaa/\"\\\n",
    "\"unsup/unsup_caltech256_dense_sift_1000_bow.tar.gz\"\n",
    "DESTINATION_DIR = \"../../../projects/weiyen/data\""
   ]
  },
  {
   "cell_type": "code",
   "execution_count": 28,
   "metadata": {
    "collapsed": false
   },
   "outputs": [
    {
     "name": "stdout",
     "output_type": "stream",
     "text": [
      "Dataset downloaded. Extracting files...\n",
      "Files extracted.\n"
     ]
    }
   ],
   "source": [
    "filename = os.path.split(DATASET_URL)[1]\n",
    "dest_path = os.path.join(DESTINATION_DIR, filename)\n",
    "\n",
    "if os.path.exists(dest_path):\n",
    "    print(\"{} exists. Skipping download...\".format(dest_path))\n",
    "else:\n",
    "    with urllib.request.urlopen(DATASET_URL) as response, open(dest_path, 'wb') as out_file:\n",
    "        shutil.copyfileobj(response, out_file)\n",
    "        print(\"Dataset downloaded. Extracting files...\")\n",
    "\n",
    "tar = tarfile.open(dest_path)\n",
    "tar.extractall(path=DESTINATION_DIR)\n",
    "print(\"Files extracted.\")\n",
    "tar.close()"
   ]
  },
  {
   "cell_type": "code",
   "execution_count": null,
   "metadata": {
    "collapsed": true
   },
   "outputs": [],
   "source": []
  }
 ],
 "metadata": {
  "kernelspec": {
   "display_name": "Python 3",
   "language": "python",
   "name": "python3"
  },
  "language_info": {
   "codemirror_mode": {
    "name": "ipython",
    "version": 3
   },
   "file_extension": ".py",
   "mimetype": "text/x-python",
   "name": "python",
   "nbconvert_exporter": "python",
   "pygments_lexer": "ipython3",
   "version": "3.4.3"
  }
 },
 "nbformat": 4,
 "nbformat_minor": 0
}
