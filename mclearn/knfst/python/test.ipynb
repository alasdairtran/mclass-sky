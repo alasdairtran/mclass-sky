{
 "cells": [
  {
   "cell_type": "code",
   "execution_count": null,
   "metadata": {
    "collapsed": false
   },
   "outputs": [],
   "source": [
    "import numpy as np\n",
    "import scipy as sp\n",
    "import pandas as pd\n",
    "import os\n",
    "from sklearn import datasets, cross_validation, metrics\n",
    "from classifier import KernelNullSpaceClassifier"
   ]
  },
  {
   "cell_type": "code",
   "execution_count": null,
   "metadata": {
    "collapsed": true
   },
   "outputs": [],
   "source": [
    "PATH = r\"/home/yen/Projects/masters/Datasets/Sample/\""
   ]
  },
  {
   "cell_type": "code",
   "execution_count": null,
   "metadata": {
    "collapsed": false
   },
   "outputs": [],
   "source": [
    "ds = datasets.load_files(PATH)\n",
    "ds.data = np.vstack([np.fromstring(txt, sep='\\t') for txt in ds.data])\n",
    "\n",
    "idx = ds.target.argsort()\n",
    "ds.data = ds.data[:, idx]\n",
    "ds.target = ds.target[idx]\n"
   ]
  },
  {
   "cell_type": "code",
   "execution_count": null,
   "metadata": {
    "collapsed": false
   },
   "outputs": [],
   "source": [
    "# Train novelty classifier\n",
    "# Randomly select a few classes to represent the \"novel\" class.\n",
    "data = ds.data\n",
    "target = ds.target\n",
    "\n",
    "classes = np.unique(target)\n",
    "num_class = len(classes)\n",
    "num_novel = max(np.floor(num_class*0.2), 1) # 20% of classes will be \"novel\"\n",
    "novel = np.random.choice(target, num_novel)\n",
    "\n",
    "X_train, X_test, y_train, y_test = cross_validation.train_test_split(\\\n",
    "    data, target, test_size=0.4, random_state=0)\n",
    "\n",
    "# Remove all instances of the novel classes from the training set\n",
    "mask = np.array([y not in novel for y in y_train])\n",
    "X_train = X_train[mask]\n",
    "y_train = y_train[mask]\n",
    "\n",
    "# Test labels are 1 if novel, otherwise 0.\n",
    "y_test = np.array([1 if cl in novel else 0 for cl in y_test])\n",
    "\n",
    "X_train = data\n",
    "y_train = target"
   ]
  },
  {
   "cell_type": "code",
   "execution_count": null,
   "metadata": {
    "collapsed": false
   },
   "outputs": [],
   "source": [
    "classifier = KernelNullSpaceClassifier(threshold=0.5).fit(X_train, y_train)\n",
    "y_score = classifier.predict(X_test)\n",
    "y_score"
   ]
  },
  {
   "cell_type": "code",
   "execution_count": null,
   "metadata": {
    "collapsed": false
   },
   "outputs": [],
   "source": [
    "fpr, tpr, thresholds = metrics.roc_curve(y_test, y_score)"
   ]
  },
  {
   "cell_type": "code",
   "execution_count": null,
   "metadata": {
    "collapsed": false
   },
   "outputs": [],
   "source": [
    "fpr"
   ]
  },
  {
   "cell_type": "code",
   "execution_count": null,
   "metadata": {
    "collapsed": false
   },
   "outputs": [],
   "source": [
    "thresholds"
   ]
  }
 ],
 "metadata": {
  "kernelspec": {
   "display_name": "Python 3",
   "language": "python",
   "name": "python3"
  },
  "language_info": {
   "codemirror_mode": {
    "name": "ipython",
    "version": 3
   },
   "file_extension": ".py",
   "mimetype": "text/x-python",
   "name": "python",
   "nbconvert_exporter": "python",
   "pygments_lexer": "ipython3",
   "version": "3.4.3"
  }
 },
 "nbformat": 4,
 "nbformat_minor": 0
}
