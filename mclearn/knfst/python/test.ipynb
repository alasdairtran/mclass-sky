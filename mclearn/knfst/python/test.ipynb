{
 "cells": [
  {
   "cell_type": "code",
   "execution_count": 1,
   "metadata": {
    "collapsed": true
   },
   "outputs": [],
   "source": [
    "import numpy as np\n",
    "import scipy as sp\n",
    "import pandas as pd\n",
    "import os\n",
    "from learn_multiClassNovelty_knfst import learn_multiclass_novelty_knfst\n",
    "from test_multiclass_novelty import score\n",
    "from sklearn import datasets, metrics"
   ]
  },
  {
   "cell_type": "code",
   "execution_count": 10,
   "metadata": {
    "collapsed": false
   },
   "outputs": [],
   "source": [
    "# Load training samples\n",
    "SAMPLE_PATH = r\"/home/yen/Projects/masters/Datasets/Sample/\"\n",
    "\n",
    "train = datasets.load_files(SAMPLE_PATH)\n",
    "train.data = np.vstack([np.fromstring(txt, sep='\\t') for txt in train.data])\n",
    "data = train.data\n",
    "target = train.target"
   ]
  },
  {
   "cell_type": "code",
   "execution_count": 12,
   "metadata": {
    "collapsed": false
   },
   "outputs": [],
   "source": [
    "def hik(x, y):\n",
    "    return np.minimum(x, y).sum()\n",
    "\n",
    "k_hik = metrics.pairwise_kernels(data, metric=hik)\n",
    "proj, target_points = learn_multiclass_novelty_knfst(k_hik, target)"
   ]
  },
  {
   "cell_type": "code",
   "execution_count": 17,
   "metadata": {
    "collapsed": false
   },
   "outputs": [
    {
     "name": "stdout",
     "output_type": "stream",
     "text": [
      "(473,)\n"
     ]
    }
   ],
   "source": [
    "ks = metrics.pairwise_kernels(data, metric=hik)\n",
    "scores = score(proj, target_points, ks)\n",
    "print(scores.shape)"
   ]
  },
  {
   "cell_type": "code",
   "execution_count": null,
   "metadata": {
    "collapsed": true
   },
   "outputs": [],
   "source": []
  }
 ],
 "metadata": {
  "kernelspec": {
   "display_name": "Python 3",
   "language": "python",
   "name": "python3"
  },
  "language_info": {
   "codemirror_mode": {
    "name": "ipython",
    "version": 3
   },
   "file_extension": ".py",
   "mimetype": "text/x-python",
   "name": "python",
   "nbconvert_exporter": "python",
   "pygments_lexer": "ipython3",
   "version": "3.4.3"
  }
 },
 "nbformat": 4,
 "nbformat_minor": 0
}
