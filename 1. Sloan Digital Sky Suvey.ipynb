{
 "metadata": {
  "name": "",
  "signature": "sha256:2872b506272caed2ebf63397eda8d860bd420cf88ea37bfb08082de3b9675ea6"
 },
 "nbformat": 3,
 "nbformat_minor": 0,
 "worksheets": [
  {
   "cells": [
    {
     "cell_type": "heading",
     "level": 1,
     "metadata": {},
     "source": [
      "Sloan Digital Sky Survey Classification"
     ]
    },
    {
     "cell_type": "code",
     "collapsed": false,
     "input": [
      "import numpy as np\n",
      "import pandas as pd\n",
      "import matplotlib.pyplot as plt\n",
      "from sklearn.cross_validation import train_test_split\n",
      "from pandas import DataFrame\n",
      "%matplotlib inline"
     ],
     "language": "python",
     "metadata": {},
     "outputs": [],
     "prompt_number": 128
    },
    {
     "cell_type": "heading",
     "level": 2,
     "metadata": {},
     "source": [
      "Getting the Data"
     ]
    },
    {
     "cell_type": "markdown",
     "metadata": {},
     "source": [
      "For now, let's ignore the measurement errors and focus only on the objects that have been classified by experts. We select a sky area that is 5 degrees wide and 2 degrees tall. We also choose objects brighter than 21 mag to remove noise."
     ]
    },
    {
     "cell_type": "code",
     "collapsed": false,
     "input": [
      "sql_query = '''\"\n",
      "    SELECT\n",
      "        p.ra, p.dec, p.psfMag_u, p.psfMag_g, p.psfMag_r, p.psfMag_i, p.psfMag_z,\n",
      "        p.petroMag_u, p.petroMag_g, p.petroMag_r, p.petroMag_i, p.petroMag_z,\n",
      "        p.petroRad_r,\n",
      "        s.class, ISNULL(s.z,-1) as redshift, ISNULL(s.zErr,0) as red_Err\n",
      "    FROM PhotoObj AS p\n",
      "       JOIN SpecObj AS s ON s.bestobjid = p.objid\n",
      "    WHERE\n",
      "       p.psfMag_r < 21\n",
      "       AND (p.type = 3 OR p.type = 6)\n",
      "       AND p.ra BETWEEN 202 AND 207\n",
      "       AND p.dec BETWEEN 0 AND 2 \"'''"
     ],
     "language": "python",
     "metadata": {},
     "outputs": [],
     "prompt_number": 127
    },
    {
     "cell_type": "markdown",
     "metadata": {},
     "source": [
      "We can run the above SQL query against [SkyServer](http://skyserver.sdss.org/dr12/en/tools/search/sql.aspx) via the Python script `sloan_sql.py`."
     ]
    },
    {
     "cell_type": "code",
     "collapsed": false,
     "input": [
      "%run sloan_sql.py -l -o \"data/sloan_dr7.csv\" -q {sql_query}"
     ],
     "language": "python",
     "metadata": {},
     "outputs": [],
     "prompt_number": 108
    },
    {
     "cell_type": "markdown",
     "metadata": {},
     "source": [
      "This results in a csv file contains 1961 data points. Some information about the columns:\n",
      "\n",
      "* ra: right ascension in degrees\n",
      "* dec: declination in degrees\n",
      "* petroMag: Petrosian magnitude measurement assuming the object is an extended source\n",
      "* psfMag: PSF magnitude measurement assuming the object is a point source\n",
      "* petroRad: size measurement in arc seconds\n",
      "* class: spectroscopic class (galaxy, quasar, or star), determined by expert opinion\n",
      "* redshift: redshift of object, determined by expert opinion"
     ]
    },
    {
     "cell_type": "heading",
     "level": 2,
     "metadata": {},
     "source": [
      "Multiclass Classification"
     ]
    },
    {
     "cell_type": "markdown",
     "metadata": {},
     "source": [
      "There are 11 features that we can use: the Petrosian and PSF magnitude measurements in 5 passbands (ugriz) and the size measurement in the r-band. The target is the spectroscopic class. We'll use 25% of the data as our test set and the remaining as our training set."
     ]
    },
    {
     "cell_type": "code",
     "collapsed": false,
     "input": [
      "sloan = DataFrame.from_csv(\"data/sloan_dr7.csv\", index_col=False)\n",
      "sloan.data = sloan.ix[:, 2:13] # select the 11 feature columns\n",
      "sloan.target = sloan[\"class\"]\n",
      "X_train, X_test, y_train, y_test = train_test_split(sloan.data, sloan.target, \n",
      "                                                    test_size=0.25)"
     ],
     "language": "python",
     "metadata": {},
     "outputs": [],
     "prompt_number": 144
    }
   ],
   "metadata": {}
  }
 ]
}