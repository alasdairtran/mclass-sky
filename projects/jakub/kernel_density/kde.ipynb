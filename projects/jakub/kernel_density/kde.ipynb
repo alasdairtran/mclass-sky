{
 "cells": [
  {
   "cell_type": "markdown",
   "metadata": {},
   "source": [
    "Careful, these constants may be different for you:"
   ]
  },
  {
   "cell_type": "code",
   "execution_count": 1,
   "metadata": {
    "collapsed": true
   },
   "outputs": [],
   "source": [
    "DATA_PATH = '~/Desktop/sdss_dr7_photometry_source.csv.gz'"
   ]
  },
  {
   "cell_type": "code",
   "execution_count": 2,
   "metadata": {
    "collapsed": true
   },
   "outputs": [],
   "source": [
    "import matplotlib.pyplot as plt\n",
    "import numpy as np\n",
    "import pandas as pd\n",
    "import sklearn.neighbors\n",
    "\n",
    "%matplotlib inline"
   ]
  },
  {
   "cell_type": "markdown",
   "metadata": {},
   "source": [
    "First import the training and testing sets"
   ]
  },
  {
   "cell_type": "code",
   "execution_count": 3,
   "metadata": {},
   "outputs": [],
   "source": [
    "def load_data(x_cols=['psfMag_u', 'psfMag_g', 'psfMag_r', 'psfMag_i', 'psfMag_z'],\n",
    "              y_col='redshift',\n",
    "              class_col='class',\n",
    "              class_val='Galaxy',\n",
    "              train_samples_num=1000000,\n",
    "              test_samples_num=500000):\n",
    "\n",
    "    data_iter = pd.read_csv(\n",
    "        DATA_PATH,\n",
    "        iterator=True,\n",
    "        chunksize=100000,\n",
    "        usecols=x_cols + [y_col, class_col])\n",
    "\n",
    "\n",
    "    # Filter out anything that is not a galaxy without loading the whole file into memory.\n",
    "    data = pd.concat(chunk[chunk[class_col] == class_val]\n",
    "                     for chunk in data_iter)\n",
    "\n",
    "    train_y = data[:train_samples_num][y_col].as_matrix()\n",
    "    train_X = data[:train_samples_num][x_cols].as_matrix()\n",
    "    \n",
    "    test_y = data[-test_samples_num:][y_col].as_matrix()\n",
    "    test_X = data[-test_samples_num:][x_cols].as_matrix()\n",
    "    \n",
    "    return (train_y, train_X), (test_y, test_X)\n",
    "\n",
    "(train_y, train_X), (test_y, test_X) = load_data()"
   ]
  },
  {
   "cell_type": "markdown",
   "metadata": {},
   "source": [
    "Fit the training data."
   ]
  },
  {
   "cell_type": "code",
   "execution_count": 4,
   "metadata": {},
   "outputs": [],
   "source": [
    "kde = sklearn.neighbors.KernelDensity(\n",
    "        bandwidth=.2,  # By experimentation.\n",
    "        kernel='epanechnikov',  # Resembles Gaussian within short distance, but is faster.\n",
    "        leaf_size=400,  # For speed.\n",
    "        rtol=1e-5  # Slightly increased accuracy, but better speed.\n",
    "    ).fit(train_X)"
   ]
  },
  {
   "cell_type": "markdown",
   "metadata": {},
   "source": [
    "Find densities on the test set. __This can take a while.__"
   ]
  },
  {
   "cell_type": "code",
   "execution_count": 5,
   "metadata": {
    "collapsed": true
   },
   "outputs": [],
   "source": [
    "test_densities = kde.score_samples(test_X)\n",
    "test_densities = np.exp(test_densities)"
   ]
  },
  {
   "cell_type": "markdown",
   "metadata": {},
   "source": [
    "Plot."
   ]
  },
  {
   "cell_type": "code",
   "execution_count": 6,
   "metadata": {},
   "outputs": [
    {
     "data": {
      "image/png": "[encoded data removed]",
      "text/plain": [
       "<matplotlib.figure.Figure at 0x10927e3c8>"
      ]
     },
     "metadata": {},
     "output_type": "display_data"
    }
   ],
   "source": [
    "def plot():\n",
    "    x = range(len(test_densities))\n",
    "    y = sorted(test_densities)\n",
    "    plt.plot(x, y)\n",
    "    plt.ylabel('Density')\n",
    "    plt.xlabel('Index (sorted)')\n",
    "\n",
    "plot()"
   ]
  },
  {
   "cell_type": "markdown",
   "metadata": {},
   "source": [
    "This time a histogram."
   ]
  },
  {
   "cell_type": "code",
   "execution_count": 7,
   "metadata": {},
   "outputs": [
    {
     "data": {
      "image/png": "[encoded data removed]",
      "text/plain": [
       "<matplotlib.figure.Figure at 0x10927e128>"
      ]
     },
     "metadata": {},
     "output_type": "display_data"
    }
   ],
   "source": [
    "def histogram():\n",
    "    plt.hist(test_densities)\n",
    "    plt.ylabel('Count')\n",
    "    plt.xlabel('Density')\n",
    "    \n",
    "histogram()"
   ]
  },
  {
   "cell_type": "code",
   "execution_count": null,
   "metadata": {
    "collapsed": true
   },
   "outputs": [],
   "source": []
  }
 ],
 "metadata": {
  "kernelspec": {
   "display_name": "Python 3",
   "language": "python",
   "name": "python3"
  },
  "language_info": {
   "codemirror_mode": {
    "name": "ipython",
    "version": 3
   },
   "file_extension": ".py",
   "mimetype": "text/x-python",
   "name": "python",
   "nbconvert_exporter": "python",
   "pygments_lexer": "ipython3",
   "version": "3.6.0"
  }
 },
 "nbformat": 4,
 "nbformat_minor": 2
}
