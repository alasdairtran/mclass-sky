{
 "cells": [
  {
   "cell_type": "code",
   "execution_count": 28,
   "metadata": {
    "collapsed": false
   },
   "outputs": [
    {
     "name": "stdout",
     "output_type": "stream",
     "text": [
      "The autoreload extension is already loaded. To reload it, use:\n",
      "  %reload_ext autoreload\n"
     ]
    }
   ],
   "source": [
    "import numpy as np\n",
    "import pandas as pd\n",
    "import active\n",
    "from sklearn import datasets\n",
    "from IPython.display import display\n",
    "%load_ext autoreload\n",
    "%autoreload 1\n",
    "%aimport active"
   ]
  },
  {
   "cell_type": "code",
   "execution_count": 29,
   "metadata": {
    "collapsed": false
   },
   "outputs": [],
   "source": [
    "import matplotlib.pyplot as plt\n",
    "%matplotlib inline"
   ]
  },
  {
   "cell_type": "code",
   "execution_count": 30,
   "metadata": {
    "collapsed": true
   },
   "outputs": [],
   "source": [
    "np.set_printoptions(precision=4)"
   ]
  },
  {
   "cell_type": "code",
   "execution_count": 31,
   "metadata": {
    "collapsed": false
   },
   "outputs": [
    {
     "data": {
      "image/png": "[encoded data removed]",
      "text/plain": [
       "<matplotlib.figure.Figure at 0x119907b70>"
      ]
     },
     "metadata": {},
     "output_type": "display_data"
    }
   ],
   "source": [
    "iris = datasets.load_iris()\n",
    "X = iris.data[:, :2]  # Take the first two features.\n",
    "Y = iris.target\n",
    "\n",
    "x_min, x_max = X[:, 0].min() - .5, X[:, 0].max() + .5\n",
    "y_min, y_max = X[:, 1].min() - .5, X[:, 1].max() + .5\n",
    "\n",
    "plt.figure(2, figsize=(12, 10))\n",
    "plt.clf()\n",
    "plt.scatter(X[:, 0], X[:, 1], c=Y, cmap=plt.cm.Paired)\n",
    "plt.xlabel('Sepal length')\n",
    "plt.ylabel('Sepal width')\n",
    "plt.xlim(x_min, x_max)\n",
    "plt.ylim(y_min, y_max)\n",
    "plt.xticks(())\n",
    "plt.yticks(())\n",
    "\n",
    "plt.show()"
   ]
  },
  {
   "cell_type": "code",
   "execution_count": 32,
   "metadata": {
    "collapsed": false
   },
   "outputs": [],
   "source": [
    "bias = np.ones((X.shape[0], 1))\n",
    "X = np.hstack((X, bias))\n",
    "Y[Y==1] = -1\n",
    "Y[Y==2] = -1\n",
    "Y[Y==0] = +1\n",
    "\n",
    "np.random.seed(1)\n",
    "size = X.shape[0]\n",
    "index = np.arange(size)\n",
    "np.random.shuffle(index)\n",
    "training_index = index[:int(size/2)]\n",
    "testing_index = index[int(size/2):]\n",
    "\n",
    "X_iris_training = X[training_index]\n",
    "Y_iris_training = Y[training_index]\n",
    "X_iris_testing = X[training_index]\n",
    "Y_iris_testing = Y[training_index]"
   ]
  },
  {
   "cell_type": "code",
   "execution_count": null,
   "metadata": {
    "collapsed": false
   },
   "outputs": [],
   "source": [
    "# def average_accuracy(n, X_testing, Y_testing, \n",
    "#                      X_training, Y_training, iterations, center='ac', sample=1, M=None):\n",
    "#     testing = 3\n",
    "#     size = X_testing.shape[0]\n",
    "#     lower = np.inf\n",
    "#     upper = -1 * np.inf\n",
    "#     total = 0\n",
    "#     total_correct = 0\n",
    "#     accuracies = []\n",
    "#     for i in range(n):\n",
    "#         active_outcome = \\\n",
    "#             active.active(X_training, Y_training, iterations, \n",
    "#                           center=center, sample=sample, testing=testing, M=M)\n",
    "#         w = active_outcome[0]\n",
    "#         predictions = active.linear_predictor(X_testing, w)\n",
    "#         results = predictions == Y_testing\n",
    "#         correct = np.count_nonzero(results)\n",
    "#         # total_correct = total_correct + correct\n",
    "#         # total = total + X_testing.shape[0]\n",
    "#         accuracy = correct/size\n",
    "#         accuracies.append(accuracy)\n",
    "        \n",
    "#         n_cp = active_outcome[1]\n",
    "#         if n_cp > upper:\n",
    "#             upper = n_cp\n",
    "#         if n_cp < lower:\n",
    "#             lower = n_cp\n",
    "        \n",
    "#     # accuracy = total_correct/total\n",
    "#     average_acc = np.sum(accuracies)/n\n",
    "#     return (average_acc, lower, upper)"
   ]
  },
  {
   "cell_type": "code",
   "execution_count": null,
   "metadata": {
    "collapsed": false
   },
   "outputs": [],
   "source": [
    "# def experiment(n, test_iter, X_testing, Y_testing, X_training, Y_training,\n",
    "#                iterations, center='ac', sample = 1, M=None, plot=1):\n",
    "#     testing=3\n",
    "#     test_iterations = []\n",
    "#     test_averages = []\n",
    "#     test_lowers = []\n",
    "#     test_uppers = []\n",
    "    \n",
    "#     for i in range(test_iter):\n",
    "#         i = i + 1\n",
    "#         test_iterations.append(i)\n",
    "#         average_outcome = \\\n",
    "#             average_accuracy(n, X_testing, Y_testing, X_training, Y_training, \n",
    "#                              i, center=center, sample=sample, M=None)\n",
    "#         average = average_outcome[0]\n",
    "#         lower = average_outcome[1]\n",
    "#         upper = average_outcome[2]\n",
    "        \n",
    "#         test_averages.append(average)\n",
    "#         test_lowers.append(lower)\n",
    "#         test_uppers.append(upper)    \n",
    "        \n",
    "#     table = pd.DataFrame([test_iterations, test_lowers, \n",
    "#                           test_uppers, test_averages])\n",
    "#     table = table.transpose()\n",
    "#     table.columns = ['points queried', 'smallest #CPs', 'largest #CPs', 'accuracy']\n",
    "#     display(table)\n",
    "    \n",
    "#     if plot == 1:\n",
    "#         plt.plot(test_iterations, test_averages)\n",
    "#         plt.xlabel('Number of iterations')\n",
    "#         plt.ylabel('Average accuracy over %d tests' % n)\n",
    "#         plt.title('Average accuracy of a cutting plane active learning algorithm')\n",
    "#         plt.show()"
   ]
  },
  {
   "cell_type": "code",
   "execution_count": null,
   "metadata": {
    "collapsed": false
   },
   "outputs": [],
   "source": [
    "def compute_accuracy(w, X_testing, Y_testing):\n",
    "    size = X_testing.shape[0]\n",
    "    predictions = active.linear_predictor(X_testing, w)\n",
    "    results = predictions == Y_testing\n",
    "    correct = np.count_nonzero(results)\n",
    "    accuracy = correct/size\n",
    "    return accuracy\n",
    "    \n",
    "def weights_matrix(n, iterations, X_training, Y_training, center='ac', \n",
    "                   sample=1, M=None):\n",
    "    testing = 3\n",
    "    matrix_of_weights = []\n",
    "    for i in range(n):\n",
    "        weights = active.active(X_training, Y_training, iterations, center=center,\n",
    "                                sample = sample, testing=testing, M=M)[2]\n",
    "        matrix_of_weights.append(weights)\n",
    "    return matrix_of_weights\n",
    "\n",
    "def experiment(n, iterations, X_testing, Y_testing, X_training, Y_training,\n",
    "               center='ac', sample = 1, M=None):\n",
    "    testing=3\n",
    "    matrix_of_weights = weights_matrix(n, iterations, X_training, Y_training, \n",
    "                                       center=center, sample=sample, M=M)\n",
    "    matrix_of_accuracies = []\n",
    "    \n",
    "    for weights in matrix_of_weights:\n",
    "        accuracies = []\n",
    "        for weight in weights:\n",
    "            accuracy = compute_accuracy(weight, X_testing, Y_testing)\n",
    "            accuracies.append(accuracy)\n",
    "        matrix_of_accuracies.append(accuracies)\n",
    "    \n",
    "    matrix_of_accuracies = np.array(matrix_of_accuracies)\n",
    "    sum_of_accuracies = matrix_of_accuracies.sum(axis=0)\n",
    "    average_accuracies = sum_of_accuracies/n\n",
    "    return average_accuracies\n",
    "\n",
    "#     queries = np.arange(1, n + 1)\n",
    "#     plt.plot(table['points queried'], table['accuracy'])\n",
    "#     plt.xlabel('Number of iterations')\n",
    "#     plt.ylabel('Average accuracy over %d tests' % n)\n",
    "#     plt.title('Average accuracy of a cutting plane active learning algorithm')\n",
    "#     plt.show()"
   ]
  },
  {
   "cell_type": "code",
   "execution_count": null,
   "metadata": {
    "collapsed": false
   },
   "outputs": [],
   "source": [
    "n = 25\n",
    "iterations = 50\n",
    "\n",
    "X_training = X_iris_training\n",
    "Y_training = Y_iris_training\n",
    "X_testing = X_iris_testing\n",
    "Y_testing = Y_iris_testing\n",
    "\n",
    "queries = np.arange(1, iterations + 1)\n",
    "average_accuracies = experiment(n, iterations, X_testing, Y_testing, X_training, Y_training,\n",
    "                                  center='ac', sample = 1, M=None)\n",
    "\n",
    "plt.plot(queries, average_accuracies)\n",
    "plt.xlabel('Number of iterations')\n",
    "plt.ylabel('Average accuracy over %d tests' % n)\n",
    "plt.title('Average accuracy of a cutting plane active learning algorithm')\n",
    "plt.show()"
   ]
  },
  {
   "cell_type": "code",
   "execution_count": null,
   "metadata": {
    "collapsed": false
   },
   "outputs": [],
   "source": [
    "n = 25\n",
    "iterations = 50\n",
    "\n",
    "X_training = X_iris_training\n",
    "Y_training = Y_iris_training\n",
    "X_testing = X_iris_testing\n",
    "Y_testing = Y_iris_testing\n",
    "\n",
    "queries = np.arange(1, iterations + 1)\n",
    "average_accuracies = experiment(n, iterations, X_testing, Y_testing, X_training, Y_training,\n",
    "                                  center='random', sample = 1, M=None)\n",
    "\n",
    "plt.plot(queries, average_accuracies)\n",
    "plt.xlabel('Number of iterations')\n",
    "plt.ylabel('Average accuracy over %d tests' % n)\n",
    "plt.title('Average accuracy of a cutting plane active learning algorithm')\n",
    "plt.show()"
   ]
  },
  {
   "cell_type": "code",
   "execution_count": null,
   "metadata": {
    "collapsed": false,
    "scrolled": true
   },
   "outputs": [],
   "source": [
    "n = 25\n",
    "iterations = 50\n",
    "\n",
    "X_training = X_iris_training\n",
    "Y_training = Y_iris_training\n",
    "X_testing = X_iris_testing\n",
    "Y_testing = Y_iris_testing\n",
    "\n",
    "queries = np.arange(1, iterations + 1)\n",
    "average_accuracies = experiment(n, iterations, X_testing, Y_testing, X_training, Y_training,\n",
    "                                  center='cc', sample = 1, M=None)\n",
    "\n",
    "plt.plot(queries, average_accuracies)\n",
    "plt.xlabel('Number of iterations')\n",
    "plt.ylabel('Average accuracy over %d tests' % n)\n",
    "plt.title('Average accuracy of a cutting plane active learning algorithm')\n",
    "plt.show()"
   ]
  },
  {
   "cell_type": "code",
   "execution_count": null,
   "metadata": {
    "collapsed": false
   },
   "outputs": [],
   "source": [
    "n = 25\n",
    "iterations = 70\n",
    "\n",
    "configs = [('ac', 'ro'), ('cc', 'go'), ('random', 'bo')]\n",
    "\n",
    "X_training = X_iris_training\n",
    "Y_training = Y_iris_training\n",
    "X_testing = X_iris_testing\n",
    "Y_testing = Y_iris_testing\n",
    "\n",
    "queries = np.arange(1, iterations + 1)\n",
    "\n",
    "plt.figure(figsize=(20,10))\n",
    "\n",
    "for config in configs:\n",
    "    average_accuracies = experiment(n, iterations, X_testing, Y_testing, X_training, Y_training,\n",
    "                                  center=config[0], sample = 1, M=None)\n",
    "    plt.plot(queries, average_accuracies, config[1])\n",
    "\n",
    "plt.xlabel('Number of iterations')\n",
    "plt.ylabel('Average accuracy over %d tests' % n)\n",
    "plt.title('Average accuracy of a cutting plane active learning algorithm')\n",
    "plt.show()"
   ]
  },
  {
   "cell_type": "code",
   "execution_count": null,
   "metadata": {
    "collapsed": false
   },
   "outputs": [],
   "source": [
    "a = np.zeros(3)\n",
    "b = np.array([2])\n",
    "np.hstack((a, b))"
   ]
  },
  {
   "cell_type": "code",
   "execution_count": null,
   "metadata": {
    "collapsed": true
   },
   "outputs": [],
   "source": []
  },
  {
   "cell_type": "code",
   "execution_count": null,
   "metadata": {
    "collapsed": false
   },
   "outputs": [],
   "source": [
    "dimension = 3\n",
    "A = []\n",
    "b = []\n",
    "for i in range(dimension):\n",
    "    a_upper = [0]*dimension\n",
    "    a_lower = [0]*dimension\n",
    "    a_upper[i] = 1\n",
    "    a_lower[i] = -1\n",
    "    A.append(a_upper)\n",
    "    A.append(a_lower)\n",
    "    b.append(0.0001)\n",
    "    b.append(0.0001)\n",
    "A = np.array(A)\n",
    "b = np.array(b)"
   ]
  },
  {
   "cell_type": "code",
   "execution_count": null,
   "metadata": {
    "collapsed": false
   },
   "outputs": [],
   "source": [
    "active.chebyshev_center(A, b)"
   ]
  },
  {
   "cell_type": "code",
   "execution_count": null,
   "metadata": {
    "collapsed": false
   },
   "outputs": [],
   "source": [
    "x = np.array([1, 2, 3])\n",
    "x = x[:-1]\n",
    "x"
   ]
  },
  {
   "cell_type": "code",
   "execution_count": null,
   "metadata": {
    "collapsed": false
   },
   "outputs": [],
   "source": [
    "n = 5\n",
    "iterations = 30\n",
    "np.array(experiment(n, iterations, X_iris_testing, Y_iris_testing, X_iris_training, Y_iris_training,\n",
    "           center='ac', sample = 1, M=None, plot=1)).shape"
   ]
  },
  {
   "cell_type": "code",
   "execution_count": null,
   "metadata": {
    "collapsed": false
   },
   "outputs": [],
   "source": [
    "n = 25\n",
    "test_iter = 30\n",
    "experiment(n, test_iter, X_iris_testing, Y_iris_testing,\n",
    "           X_iris_training, Y_iris_training,\n",
    "           iterations, center='ac', sample = 1, M=None, plot=1)"
   ]
  },
  {
   "cell_type": "code",
   "execution_count": null,
   "metadata": {
    "collapsed": false
   },
   "outputs": [],
   "source": [
    "n = 50\n",
    "test_iter = 30\n",
    "experiment(n, test_iter, X_iris_testing, Y_iris_testing,\n",
    "           X_iris_training, Y_iris_training,\n",
    "           iterations, center='random', sample = 1, M=None, plot=1)"
   ]
  },
  {
   "cell_type": "code",
   "execution_count": null,
   "metadata": {
    "collapsed": false
   },
   "outputs": [],
   "source": []
  },
  {
   "cell_type": "code",
   "execution_count": null,
   "metadata": {
    "collapsed": true
   },
   "outputs": [],
   "source": []
  },
  {
   "cell_type": "code",
   "execution_count": null,
   "metadata": {
    "collapsed": false
   },
   "outputs": [],
   "source": [
    "names = ['diabetes', 'num preg', 'plasma', 'bp', 'skin fold', 'insulin', 'bmi', 'pedigree', 'age']\n",
    "data = pd.read_csv('diabetes_scale.csv', header=None, names=names)\n",
    "data['diabetes'].replace(-1, 0, inplace=True) # The target variable need be 1 or 0, not 1 or -1\n",
    "data['ones'] = np.ones((data.shape[0], 1)) # Add a column of ones\n",
    "data.head()"
   ]
  },
  {
   "cell_type": "code",
   "execution_count": null,
   "metadata": {
    "collapsed": true
   },
   "outputs": [],
   "source": [
    "Y = data['diabetes']\n",
    "X = data[['num preg', 'plasma', 'bp', 'skin fold', 'insulin', 'bmi', 'pedigree', 'age', 'ones']]"
   ]
  },
  {
   "cell_type": "code",
   "execution_count": null,
   "metadata": {
    "collapsed": false
   },
   "outputs": [],
   "source": [
    "X = np.array(X)\n",
    "Y = np.array(Y)"
   ]
  },
  {
   "cell_type": "code",
   "execution_count": null,
   "metadata": {
    "collapsed": false
   },
   "outputs": [],
   "source": [
    "Y[Y==0] = -1"
   ]
  },
  {
   "cell_type": "code",
   "execution_count": null,
   "metadata": {
    "collapsed": false
   },
   "outputs": [],
   "source": [
    "X"
   ]
  },
  {
   "cell_type": "code",
   "execution_count": null,
   "metadata": {
    "collapsed": false
   },
   "outputs": [],
   "source": [
    "Y"
   ]
  },
  {
   "cell_type": "code",
   "execution_count": null,
   "metadata": {
    "collapsed": true
   },
   "outputs": [],
   "source": [
    "np.random.seed(1)\n",
    "size = X.shape[0]\n",
    "index = np.arange(size)\n",
    "np.random.shuffle(index)\n",
    "training_index = index[:int(size/2)]\n",
    "testing_index = index[int(size/2):]"
   ]
  },
  {
   "cell_type": "code",
   "execution_count": null,
   "metadata": {
    "collapsed": true
   },
   "outputs": [],
   "source": [
    "X_diabetes_training = X[training_index]\n",
    "Y_diabetes_training = Y[training_index]\n",
    "X_diabetes_testing = X[training_index]\n",
    "Y_diabetes_testing = Y[training_index]"
   ]
  },
  {
   "cell_type": "code",
   "execution_count": null,
   "metadata": {
    "collapsed": false
   },
   "outputs": [],
   "source": [
    "n = 1\n",
    "iterations = 19\n",
    "\n",
    "X_training = X_diabetes_training\n",
    "Y_training = Y_diabetes_training\n",
    "X_testing = X_diabetes_testing\n",
    "Y_testing = Y_diabetes_testing\n",
    "\n",
    "queries = np.arange(1, iterations + 1)\n",
    "average_accuracies = experiment(n, iterations, X_testing, Y_testing, X_training, Y_training,\n",
    "                                  center='cc', sample = 1, M=None)\n",
    "\n",
    "plt.plot(queries, average_accuracies)\n",
    "plt.xlabel('Number of iterations')\n",
    "plt.ylabel('Average accuracy over %d tests' % n)\n",
    "plt.title('Average accuracy of a cutting plane active learning algorithm')\n",
    "plt.show()"
   ]
  },
  {
   "cell_type": "code",
   "execution_count": null,
   "metadata": {
    "collapsed": false
   },
   "outputs": [],
   "source": [
    "n = 30\n",
    "iterations = 70\n",
    "\n",
    "configs = [('ac', 'ro'), ('cc', 'go'), ('random', 'bo')]\n",
    "\n",
    "X_training = X_diabetes_training\n",
    "Y_training = Y_diabetes_training\n",
    "X_testing = X_diabetes_testing\n",
    "Y_testing = Y_diabetes_testing\n",
    "\n",
    "queries = np.arange(1, iterations + 1)\n",
    "\n",
    "plt.figure(figsize=(20,10))\n",
    "\n",
    "for config in configs:\n",
    "    average_accuracies = experiment(n, iterations, X_testing, Y_testing, X_training, Y_training,\n",
    "                                  center=config[0], sample = 1, M=None)\n",
    "    plt.plot(queries, average_accuracies, config[1])\n",
    "\n",
    "plt.xlabel('Number of iterations')\n",
    "plt.ylabel('Average accuracy over %d tests' % n)\n",
    "plt.title('Average accuracy of a cutting plane active learning algorithm')\n",
    "plt.show()"
   ]
  },
  {
   "cell_type": "code",
   "execution_count": null,
   "metadata": {
    "collapsed": true
   },
   "outputs": [],
   "source": [
    "n = 30\n",
    "iterations = 50\n",
    "\n",
    "configs = [('ac', 'ro'), ('cc', 'go'), ('random', 'bo')]\n",
    "\n",
    "X_training = X_diabetes_training\n",
    "Y_training = Y_diabetes_training\n",
    "X_testing = X_diabetes_testing\n",
    "Y_testing = Y_diabetes_testing\n",
    "\n",
    "queries = np.arange(1, iterations + 1)\n",
    "\n",
    "plt.figure(figsize=(20,10))\n",
    "\n",
    "for config in configs:\n",
    "    average_accuracies = experiment(n, iterations, X_testing, Y_testing, X_training, Y_training,\n",
    "                                  center=config[0], sample = 1, M=None)\n",
    "    plt.plot(queries, average_accuracies, config[1])\n",
    "\n",
    "plt.xlabel('Number of iterations')\n",
    "plt.ylabel('Average accuracy over %d tests' % n)\n",
    "plt.title('Average accuracy of a cutting plane active learning algorithm')\n",
    "plt.show()"
   ]
  },
  {
   "cell_type": "code",
   "execution_count": null,
   "metadata": {
    "collapsed": false
   },
   "outputs": [],
   "source": [
    "n = 10\n",
    "iterations = 50\n",
    "average_accuracy(n, X_testing, Y_testing, \n",
    "                 X_training, Y_training, iterations, center='ac', testing=1, sample=1, M=None)"
   ]
  },
  {
   "cell_type": "code",
   "execution_count": null,
   "metadata": {
    "collapsed": true
   },
   "outputs": [],
   "source": [
    "n = 25\n",
    "iterations = 50\n",
    "\n",
    "X_training = X_iris_training\n",
    "Y_training = Y_iris_training\n",
    "X_testing = X_iris_testing\n",
    "Y_testing = Y_iris_testing\n",
    "\n",
    "queries = np.arange(1, iterations + 1)\n",
    "average_accuracies = experiment(n, iterations, X_testing, Y_testing, X_training, Y_training,\n",
    "                                  center='cc', sample = 1, M=None)\n",
    "\n",
    "plt.plot(queries, average_accuracies)\n",
    "plt.xlabel('Number of iterations')\n",
    "plt.ylabel('Average accuracy over %d tests' % n)\n",
    "plt.title('Average accuracy of a cutting plane active learning algorithm')\n",
    "plt.show()"
   ]
  }
 ],
 "metadata": {
  "kernelspec": {
   "display_name": "Python 3",
   "language": "python",
   "name": "python3"
  },
  "language_info": {
   "codemirror_mode": {
    "name": "ipython",
    "version": 3
   },
   "file_extension": ".py",
   "mimetype": "text/x-python",
   "name": "python",
   "nbconvert_exporter": "python",
   "pygments_lexer": "ipython3",
   "version": "3.5.1"
  }
 },
 "nbformat": 4,
 "nbformat_minor": 0
}
