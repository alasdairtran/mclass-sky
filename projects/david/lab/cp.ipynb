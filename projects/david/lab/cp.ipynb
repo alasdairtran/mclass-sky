{
 "cells": [
  {
   "cell_type": "markdown",
   "metadata": {},
   "source": [
    "# Computation of cutting planes"
   ]
  },
  {
   "cell_type": "markdown",
   "metadata": {},
   "source": [
    "# The set-up"
   ]
  },
  {
   "cell_type": "code",
   "execution_count": 1,
   "metadata": {
    "collapsed": false
   },
   "outputs": [],
   "source": [
    "import numpy as np\n",
    "import accpm\n",
    "%load_ext autoreload\n",
    "%autoreload 1\n",
    "%aimport accpm"
   ]
  },
  {
   "cell_type": "markdown",
   "metadata": {},
   "source": [
    "$\\DeclareMathOperator{\\domain}{dom}\n",
    "\\newcommand{\\transpose}{\\text{T}}\n",
    "\\newcommand{\\vec}[1]{\\begin{pmatrix}#1\\end{pmatrix}}$"
   ]
  },
  {
   "cell_type": "markdown",
   "metadata": {},
   "source": [
    "# Introduction and setup"
   ]
  },
  {
   "cell_type": "markdown",
   "metadata": {},
   "source": [
    "To test the computation of cutting planes we consider the problem\n",
    "\\begin{align*}\n",
    "    &\\text{minimize} \\quad f_\\text{obj}(x_0, x_1) = (x_0 - 5)^2 + (x_1 - 5)^2 \\\\\n",
    "    &\\phantom{\\text{minimize}} \\quad f_0(x_0, x_1) = \n",
    "    a_0^\\transpose x - b_0 = \\vec{1\\\\0}^\\transpose \\vec{x_0\\\\x_1} - 20 = x_0 - 20 \\leq 0\\\\\n",
    "    &\\phantom{\\text{minimize}} \\quad f_1(x_0, x_1) =\n",
    "    a_1^\\transpose x - b_1 = \\vec{-1\\\\0}^\\transpose \\vec{x_0\\\\x_1} = -x_0 \\leq 0\\\\\n",
    "    &\\phantom{\\text{minimize}} \\quad f_2(x_0, x_1) =\n",
    "    a_2^\\transpose x - b_2 = \\vec{0\\\\1}^\\transpose \\vec{x_0\\\\x_1} - 20 = x_1 - 20 \\leq 0 \\\\\n",
    "    &\\phantom{\\text{minimize}} \\quad f_3(x_0, x_1) = \n",
    "    a_3^\\transpose x - b_3 = \\vec{0\\\\-1}^\\transpose \\vec{x_0\\\\x_1} = -x_1 \\leq 0,\n",
    "\\end{align*}\n",
    "which clearly has the solution $x^\\star = (x_1^\\star, x_2^\\star) = (5, 5)$. Now, the gradients of the objective function and constraint functions are \n",
    "\\begin{align*}\n",
    "    &\\nabla f_\\text{obj}(x_0, x_1) = \\vec{2(x_0 - 5)\\\\2(x_1 - 5)}, \\\\\n",
    "    &\\nabla f_0(x_0, x_1) = \\vec{1\\\\0}, \\quad \\nabla f_1(x_0, x_1) = \\vec{-1\\\\0}, \\\\\n",
    "    &\\nabla f_2(x_0, x_1) = \\vec{0\\\\1}, \\quad \\nabla f_3(x_0, x_1) = \\vec{0\\\\-1}.\n",
    "\\end{align*}\n",
    "We implement these functions as follows:"
   ]
  },
  {
   "cell_type": "code",
   "execution_count": 33,
   "metadata": {
    "collapsed": false
   },
   "outputs": [],
   "source": [
    "def funcobj(x):\n",
    "    return (x[0]-5)**2 + (x[1]-5)**2\n",
    "    \n",
    "def func0(x):\n",
    "    return x[0] - 20\n",
    "\n",
    "def func1(x):\n",
    "    return -x[0]\n",
    "    \n",
    "def func2(x):\n",
    "    return x[1] - 20\n",
    "    \n",
    "def func3(x):\n",
    "    return -x[1]\n",
    "\n",
    "def grad_funcobj(x):\n",
    "    return np.array([2*(x[0] - 5), 2*(x[1] - 5)])\n",
    "\n",
    "def grad_func0(x):\n",
    "    return np.array([1, 0])\n",
    "\n",
    "def grad_func1(x):\n",
    "    return np.array([-1, 0])\n",
    "\n",
    "def grad_func2(x):\n",
    "    return np.array([0, 1])\n",
    "    \n",
    "def grad_func3(x):\n",
    "    return np.array([0, -1])\n",
    "\n",
    "A = np.array([[1, 0],[-1,0],[0,1],[0,-1]])\n",
    "b = np.array([20, 0, 20, 0])"
   ]
  },
  {
   "cell_type": "markdown",
   "metadata": {
    "collapsed": false
   },
   "source": [
    "# Analytic centers and cutting planes"
   ]
  },
  {
   "cell_type": "markdown",
   "metadata": {},
   "source": [
    "The ACCPM requires that the initial polygon $\\mathcal{P}_0$ (here I've abused terminology and by the initial polygon $\\mathcal{P}_0$ I actually mean the system of linear inequalities $Ax \\leq b$) contain the $\\epsilon$-suboptimal set for some given $\\epsilon > 0$. It is clear that if we take\n",
    "\\begin{align*}\n",
    "    A = \\vec{a_0^\\transpose\\\\a_1^\\transpose\\\\a_2^\\transpose\\\\a_3^\\transpose}, b = \\vec{20\\\\0\\\\20\\\\0}\n",
    "\\end{align*}\n",
    "this will be satisfied for some reasonably small enough $\\epsilon > 0$, as we know the solution is $x^\\star = (x_1^\\star, x_2^\\star) = (5, 5) \\in [0, 20] \\times [0, 20]$. \n",
    "\n",
    "Now, we start with $k=0$.  \n",
    "Now, $x^{(0)}_{ac}$ is the solution of the minimization problem \n",
    "\\begin{equation*}\n",
    "    \\min_{\\domain \\phi} \\phi(x) = - \\sum_{i=0}^{3}{\\log{(b_i - a_i^\\transpose x)}}.\n",
    "\\end{equation*}\n",
    "So, we solve the problem\n",
    "\\begin{align*}\n",
    "    &\\phantom{iff}\\nabla \\phi(x) = \\sum_{i=0}^{3\n",
    "    } \\frac{1}{b_i - a_i^\\transpose x}a_i = 0 \\\\\n",
    "    &\\iff \\frac{1}{20-x_1}\\begin{bmatrix}1\\\\0\\end{bmatrix} + \\frac{1}{x_1}\\begin{bmatrix}-1\\\\0\\end{bmatrix} + \\frac{1}{20-x_2}\\begin{bmatrix}0\\\\1\\end{bmatrix} + \\frac{1}{x_2}\\begin{bmatrix}0\\\\-1\\end{bmatrix} = 0 \\\\\n",
    "    &\\iff \\frac{1}{20-x_1} - \\frac{1}{x_1} = 0, \\frac{1}{20-x_2} - \\frac{1}{x_2} = 0 \\\\\n",
    "    &\\iff x_1 = \\frac{20}{2} = 10, x_2 = \\frac{20}{2} = 10,\n",
    "\\end{align*}\n",
    "and conclude $x^{(0)}_{ac} = (10, 10)$. We then query the oracle at $x^{(0)}_{ac}$. (Here, $f_\\text{best} = f_\\text{obj}(10, 10) = 50$ since this is the $0$-th iteration.) We know the point is feasible and therefore\n",
    "\\begin{align*}\n",
    "    &a_4 = \\nabla f_\\text{obj}(10, 10) = \\vec{10\\\\10}, \\\\\n",
    "    &b_4 = \\nabla f_\\text{obj}(10, 10)^\\transpose \\vec{10\\\\10} = \\vec{10\\\\10}^\\transpose \\vec{10\\\\10} = 200,\n",
    "\\end{align*}\n",
    "and so we update\n",
    "\\begin{align*}\n",
    "    A = \\vec{a_0^\\transpose\\\\a_1^\\transpose\\\\a_2^\\transpose\\\\a_3^\\transpose\\\\a_4^\\transpose}, b = \\vec{20\\\\0\\\\20\\\\0\\\\200}\n",
    "\\end{align*}\n"
   ]
  },
  {
   "cell_type": "code",
   "execution_count": 40,
   "metadata": {
    "collapsed": false
   },
   "outputs": [
    {
     "name": "stdout",
     "output_type": "stream",
     "text": [
      "Initially A=\n",
      " [[ 1  0]\n",
      " [-1  0]\n",
      " [ 0  1]\n",
      " [ 0 -1]]\n",
      "b = [20  0 20  0]\n",
      "At iteration 0\n",
      "ac is [ 10.  10.]\n",
      "x is [ 10.  10.]\n",
      "A is\n",
      " [[  1.   0.]\n",
      " [ -1.   0.]\n",
      " [  0.   1.]\n",
      " [  0.  -1.]\n",
      " [ 10.  10.]]\n",
      "b is [  20.    0.   20.    0.  200.]\n",
      "At iteration 1\n",
      "ac is [ 5.52786405  5.52786403]\n",
      "x is [ 5.52786405  5.52786403]\n",
      "A is\n",
      " [[  1.           0.        ]\n",
      " [ -1.           0.        ]\n",
      " [  0.           1.        ]\n",
      " [  0.          -1.        ]\n",
      " [ 10.          10.        ]\n",
      " [  1.0557281    1.05572806]]\n",
      "b is [  20.            0.           20.            0.          200.\n",
      "   11.67184257]\n",
      "At iteration 2\n",
      "ac is [ 3.02604818  3.02604824]\n",
      "x is [ 3.02604818  3.02604824]\n",
      "A is\n",
      " [[  1.           0.        ]\n",
      " [ -1.           0.        ]\n",
      " [  0.           1.        ]\n",
      " [  0.          -1.        ]\n",
      " [ 10.          10.        ]\n",
      " [  1.0557281    1.05572806]\n",
      " [ -3.94790364  -3.94790352]]\n",
      "b is [  20.            0.           20.            0.          200.\n",
      "   11.67184257  -31.12878356]\n",
      "At iteration 3\n",
      "ac is [ -1.03686939e+08   1.03686956e+08]\n",
      "x is [ -1.03686939e+08   1.03686956e+08]\n",
      "A is\n",
      " [[  1.00000000e+00   0.00000000e+00]\n",
      " [ -1.00000000e+00   0.00000000e+00]\n",
      " [  0.00000000e+00   1.00000000e+00]\n",
      " [  0.00000000e+00  -1.00000000e+00]\n",
      " [  1.00000000e+01   1.00000000e+01]\n",
      " [  1.05572810e+00   1.05572806e+00]\n",
      " [ -3.94790364e+00  -3.94790352e+00]\n",
      " [ -2.07373887e+08   2.07373903e+08]]\n",
      "b is [  2.00000000e+01   0.00000000e+00   2.00000000e+01   0.00000000e+00\n",
      "   2.00000000e+02   1.16718426e+01  -3.11287836e+01   2.15019662e+16]\n",
      "At iteration 4\n",
      "ac is [ -1.02661786e+08   1.02661804e+08]\n",
      "x is [ -1.02661786e+08   1.02661804e+08]\n",
      "A is\n",
      " [[  1.00000000e+00   0.00000000e+00]\n",
      " [ -1.00000000e+00   0.00000000e+00]\n",
      " [  0.00000000e+00   1.00000000e+00]\n",
      " [  0.00000000e+00  -1.00000000e+00]\n",
      " [  1.00000000e+01   1.00000000e+01]\n",
      " [  1.05572810e+00   1.05572806e+00]\n",
      " [ -3.94790364e+00  -3.94790352e+00]\n",
      " [ -2.07373887e+08   2.07373903e+08]\n",
      " [ -2.05323582e+08   2.05323598e+08]]\n",
      "b is [  2.00000000e+01   0.00000000e+00   2.00000000e+01   0.00000000e+00\n",
      "   2.00000000e+02   1.16718426e+01  -3.11287836e+01   2.15019662e+16\n",
      "   2.10788883e+16]\n",
      "Failure!\n"
     ]
    }
   ],
   "source": [
    "accpm.accpm(funcobj, (func0, func1, func2, func3), A, b, \n",
    "           grad_func=grad_funcobj, \n",
    "           grad_constr =(grad_func0, grad_func1, grad_func2, grad_func3))"
   ]
  },
  {
   "cell_type": "code",
   "execution_count": null,
   "metadata": {
    "collapsed": true
   },
   "outputs": [],
   "source": []
  }
 ],
 "metadata": {
  "kernelspec": {
   "display_name": "Python 3",
   "language": "python",
   "name": "python3"
  },
  "language_info": {
   "codemirror_mode": {
    "name": "ipython",
    "version": 3
   },
   "file_extension": ".py",
   "mimetype": "text/x-python",
   "name": "python",
   "nbconvert_exporter": "python",
   "pygments_lexer": "ipython3",
   "version": "3.5.1"
  }
 },
 "nbformat": 4,
 "nbformat_minor": 0
}
