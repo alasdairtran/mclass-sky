{
 "cells": [
  {
   "cell_type": "markdown",
   "metadata": {},
   "source": [
    "# Computation of cutting planes"
   ]
  },
  {
   "cell_type": "markdown",
   "metadata": {},
   "source": [
    "# The set-up"
   ]
  },
  {
   "cell_type": "code",
   "execution_count": 3,
   "metadata": {
    "collapsed": false
   },
   "outputs": [
    {
     "name": "stdout",
     "output_type": "stream",
     "text": [
      "The autoreload extension is already loaded. To reload it, use:\n",
      "  %reload_ext autoreload\n"
     ]
    }
   ],
   "source": [
    "import numpy as np\n",
    "import accpm\n",
    "%load_ext autoreload\n",
    "%autoreload 1\n",
    "%aimport accpm"
   ]
  },
  {
   "cell_type": "markdown",
   "metadata": {},
   "source": [
    "$\\DeclareMathOperator{\\domain}{dom}\n",
    "\\newcommand{\\transpose}{\\text{T}}\n",
    "\\newcommand{\\vec}[1]{\\begin{pmatrix}#1\\end{pmatrix}}$"
   ]
  },
  {
   "cell_type": "markdown",
   "metadata": {},
   "source": [
    "# Example"
   ]
  },
  {
   "cell_type": "markdown",
   "metadata": {},
   "source": [
    "To test the computation of cutting planes we consider the problem\n",
    "\\begin{align*}\n",
    "    &\\text{minimize} \\quad f_\\text{obj}(x_0, x_1) = (x_0 - 5)^2 + (x_1 - 5)^2 \\\\\n",
    "    &\\phantom{\\text{minimize}} \\quad f_0(x_0, x_1) = \n",
    "    a_0^\\transpose x - b_0 = \\vec{1\\\\0}^\\transpose \\vec{x_0\\\\x_1} - 20 = x_0 - 20 \\leq 0\\\\\n",
    "    &\\phantom{\\text{minimize}} \\quad f_1(x_0, x_1) =\n",
    "    a_1^\\transpose x - b_1 = \\vec{-1\\\\0}^\\transpose \\vec{x_0\\\\x_1} = -x_0 \\leq 0\\\\\n",
    "    &\\phantom{\\text{minimize}} \\quad f_2(x_0, x_1) =\n",
    "    a_2^\\transpose x - b_2 = \\vec{0\\\\1}^\\transpose \\vec{x_0\\\\x_1} - 20 = x_1 - 20 \\leq 0 \\\\\n",
    "    &\\phantom{\\text{minimize}} \\quad f_3(x_0, x_1) = \n",
    "    a_3^\\transpose x - b_3 = \\vec{0\\\\-1}^\\transpose \\vec{x_0\\\\x_1} = -x_1 \\leq 0,\n",
    "\\end{align*}\n",
    "which clearly has the solution $x^\\star = (x_1^\\star, x_2^\\star) = (5, 5)$. Now, the gradients of the objective function and constraint functions are \n",
    "\\begin{align*}\n",
    "    &\\nabla f_\\text{obj}(x_0, x_1) = \\vec{2(x_0 - 5)\\\\2(x_1 - 5)}, \\\\\n",
    "    &\\nabla f_0(x_0, x_1) = \\vec{1\\\\0}, \\quad \\nabla f_1(x_0, x_1) = \\vec{-1\\\\0}, \\\\\n",
    "    &\\nabla f_2(x_0, x_1) = \\vec{0\\\\1}, \\quad \\nabla f_3(x_0, x_1) = \\vec{0\\\\-1}.\n",
    "\\end{align*}\n",
    "We implement these as follows:"
   ]
  },
  {
   "cell_type": "code",
   "execution_count": 6,
   "metadata": {
    "collapsed": false
   },
   "outputs": [],
   "source": [
    "def funcobj(x):\n",
    "    return (x[0]-5)^2 + (x[1]-5)^2\n",
    "    \n",
    "def func0(x):\n",
    "    return x[0] - 20\n",
    "\n",
    "def func1(x):\n",
    "    return -x[0]\n",
    "    \n",
    "def func2(x):\n",
    "    return x[1] - 20\n",
    "    \n",
    "def func3(x):\n",
    "    return -x[1]\n",
    "\n",
    "def grad_funcobj(x):\n",
    "    return np.array([2*(x[0] - 5), 2*(x[1] - 5)])\n",
    "\n",
    "def grad_func0(x):\n",
    "    return np.array([1, 0])\n",
    "\n",
    "def grad_func1(x):\n",
    "    return np.array([-1, 0])\n",
    "\n",
    "def grad_func2(x):\n",
    "    return np.array([0, 1])\n",
    "    \n",
    "def grad_func3(x):\n",
    "    return np.array([0, -1])\n",
    "\n",
    "A = np.array([[1, 0],[-1,0],[0,1],[0,-1]])\n",
    "b = np.array([20, 0, 20, 0])"
   ]
  },
  {
   "cell_type": "code",
   "execution_count": 7,
   "metadata": {
    "collapsed": false
   },
   "outputs": [
    {
     "data": {
      "text/plain": [
       "array([10, 10])"
      ]
     },
     "execution_count": 7,
     "metadata": {},
     "output_type": "execute_result"
    }
   ],
   "source": [
    "ac = np.array([10, 10])\n",
    "grad_funcobj(ac)"
   ]
  },
  {
   "cell_type": "code",
   "execution_count": 18,
   "metadata": {
    "collapsed": false
   },
   "outputs": [
    {
     "name": "stdout",
     "output_type": "stream",
     "text": [
      "Starting iteration 0\n",
      "ac at iteration 0 is [ 10.  10.]\n"
     ]
    },
    {
     "ename": "TypeError",
     "evalue": "'int' object is not callable",
     "output_type": "error",
     "traceback": [
      "\u001b[0;31m---------------------------------------------------------------------------\u001b[0m",
      "\u001b[0;31mTypeError\u001b[0m                                 Traceback (most recent call last)",
      "\u001b[0;32m<ipython-input-18-e0505aed1a9b>\u001b[0m in \u001b[0;36m<module>\u001b[0;34m()\u001b[0m\n\u001b[1;32m      1\u001b[0m accpm.accpm(funcobj, (func0, func1, func2, func3), A, b, \n\u001b[1;32m      2\u001b[0m            \u001b[0mgrad_func\u001b[0m\u001b[0;34m=\u001b[0m\u001b[0mgrad_funcobj\u001b[0m\u001b[0;34m,\u001b[0m\u001b[0;34m\u001b[0m\u001b[0m\n\u001b[0;32m----> 3\u001b[0;31m            grad_constr =(grad_func0, grad_func1, grad_func2, grad_func3))\n\u001b[0m",
      "\u001b[0;32m/Users/davidjwu/Google Drive/classes/2016_sem2/ong_project/mclass-sky/projects/david/lab/accpm.py\u001b[0m in \u001b[0;36maccpm\u001b[0;34m(func, constr, A, b, grad_func, grad_constr, tol, maxiter)\u001b[0m\n\u001b[1;32m    260\u001b[0m         \u001b[0mac\u001b[0m \u001b[0;34m=\u001b[0m \u001b[0manalytic_center\u001b[0m\u001b[0;34m(\u001b[0m\u001b[0mA\u001b[0m\u001b[0;34m,\u001b[0m \u001b[0mb\u001b[0m\u001b[0;34m)\u001b[0m\u001b[0;34m\u001b[0m\u001b[0m\n\u001b[1;32m    261\u001b[0m         \u001b[0mprint\u001b[0m\u001b[0;34m(\u001b[0m\u001b[0;34m'ac at iteration'\u001b[0m\u001b[0;34m,\u001b[0m \u001b[0mk\u001b[0m\u001b[0;34m,\u001b[0m \u001b[0;34m'is'\u001b[0m\u001b[0;34m,\u001b[0m \u001b[0mac\u001b[0m\u001b[0;34m)\u001b[0m\u001b[0;34m\u001b[0m\u001b[0m\n\u001b[0;32m--> 262\u001b[0;31m         \u001b[0mall_zeros\u001b[0m \u001b[0;34m=\u001b[0m \u001b[0;32mnot\u001b[0m \u001b[0mnp\u001b[0m\u001b[0;34m.\u001b[0m\u001b[0many\u001b[0m\u001b[0;34m(\u001b[0m\u001b[0mgrad_func\u001b[0m\u001b[0;34m(\u001b[0m\u001b[0mac\u001b[0m\u001b[0;34m)\u001b[0m\u001b[0;34m)\u001b[0m\u001b[0;34m\u001b[0m\u001b[0m\n\u001b[0m\u001b[1;32m    263\u001b[0m         \u001b[0;32mif\u001b[0m \u001b[0mall_zeros\u001b[0m \u001b[0;34m==\u001b[0m \u001b[0;32mTrue\u001b[0m\u001b[0;34m:\u001b[0m\u001b[0;34m\u001b[0m\u001b[0m\n\u001b[1;32m    264\u001b[0m             \u001b[0mprint\u001b[0m\u001b[0;34m(\u001b[0m\u001b[0;34m'Success!'\u001b[0m\u001b[0;34m)\u001b[0m\u001b[0;34m\u001b[0m\u001b[0m\n",
      "\u001b[0;32m<ipython-input-2-9a90d2b14472>\u001b[0m in \u001b[0;36mgrad_funcobj\u001b[0;34m(x)\u001b[0m\n\u001b[1;32m     15\u001b[0m \u001b[0;34m\u001b[0m\u001b[0m\n\u001b[1;32m     16\u001b[0m \u001b[0;32mdef\u001b[0m \u001b[0mgrad_funcobj\u001b[0m\u001b[0;34m(\u001b[0m\u001b[0mx\u001b[0m\u001b[0;34m)\u001b[0m\u001b[0;34m:\u001b[0m\u001b[0;34m\u001b[0m\u001b[0m\n\u001b[0;32m---> 17\u001b[0;31m     \u001b[0;32mreturn\u001b[0m \u001b[0mnp\u001b[0m\u001b[0;34m.\u001b[0m\u001b[0marray\u001b[0m\u001b[0;34m(\u001b[0m\u001b[0;34m[\u001b[0m\u001b[0;36m2\u001b[0m\u001b[0;34m(\u001b[0m\u001b[0mx\u001b[0m\u001b[0;34m[\u001b[0m\u001b[0;36m1\u001b[0m\u001b[0;34m]\u001b[0m \u001b[0;34m-\u001b[0m \u001b[0;36m5\u001b[0m\u001b[0;34m)\u001b[0m\u001b[0;34m,\u001b[0m \u001b[0;36m2\u001b[0m\u001b[0;34m(\u001b[0m\u001b[0mx\u001b[0m\u001b[0;34m[\u001b[0m\u001b[0;36m2\u001b[0m\u001b[0;34m]\u001b[0m \u001b[0;34m-\u001b[0m \u001b[0;36m5\u001b[0m\u001b[0;34m)\u001b[0m\u001b[0;34m]\u001b[0m\u001b[0;34m)\u001b[0m\u001b[0;34m\u001b[0m\u001b[0m\n\u001b[0m\u001b[1;32m     18\u001b[0m \u001b[0;34m\u001b[0m\u001b[0m\n\u001b[1;32m     19\u001b[0m \u001b[0;32mdef\u001b[0m \u001b[0mgrad_func0\u001b[0m\u001b[0;34m(\u001b[0m\u001b[0mx\u001b[0m\u001b[0;34m)\u001b[0m\u001b[0;34m:\u001b[0m\u001b[0;34m\u001b[0m\u001b[0m\n",
      "\u001b[0;31mTypeError\u001b[0m: 'int' object is not callable"
     ]
    }
   ],
   "source": [
    "accpm.accpm(funcobj, (func0, func1, func2, func3), A, b, \n",
    "           grad_func=grad_funcobj, \n",
    "           grad_constr =(grad_func0, grad_func1, grad_func2, grad_func3))"
   ]
  }
 ],
 "metadata": {
  "kernelspec": {
   "display_name": "Python 3",
   "language": "python",
   "name": "python3"
  },
  "language_info": {
   "codemirror_mode": {
    "name": "ipython",
    "version": 3
   },
   "file_extension": ".py",
   "mimetype": "text/x-python",
   "name": "python",
   "nbconvert_exporter": "python",
   "pygments_lexer": "ipython3",
   "version": "3.5.1"
  }
 },
 "nbformat": 4,
 "nbformat_minor": 0
}
