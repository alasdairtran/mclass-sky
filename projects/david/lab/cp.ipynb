{
 "cells": [
  {
   "cell_type": "markdown",
   "metadata": {},
   "source": [
    "# Computation of cutting planes"
   ]
  },
  {
   "cell_type": "markdown",
   "metadata": {},
   "source": [
    "# The set-up"
   ]
  },
  {
   "cell_type": "code",
   "execution_count": 2,
   "metadata": {
    "collapsed": false
   },
   "outputs": [],
   "source": [
    "import numpy as np\n",
    "import accpm\n",
    "%load_ext autoreload\n",
    "%autoreload 1\n",
    "%aimport accpm"
   ]
  },
  {
   "cell_type": "markdown",
   "metadata": {},
   "source": [
    "$\\DeclareMathOperator{\\domain}{dom}\n",
    "\\newcommand{\\transpose}{\\text{T}}\n",
    "\\newcommand{\\vec}[1]{\\begin{pmatrix}#1\\end{pmatrix}}$"
   ]
  },
  {
   "cell_type": "markdown",
   "metadata": {},
   "source": [
    "# Example 1"
   ]
  },
  {
   "cell_type": "markdown",
   "metadata": {},
   "source": [
    "To test the computation of cutting planes we consider the problem\n",
    "\\begin{align*}\n",
    "    &\\text{minimize} \\quad f_\\text{obj}(x_0, x_1) = (x_0 - 5)^2 + (x_1 - 5)^2 \\\\\n",
    "    &\\phantom{\\text{minimize}} \\quad f_0(x_0, x_1) = \n",
    "    a_0^\\transpose x - b_0 = \\vec{1\\\\0}^\\transpose \\vec{x_0\\\\x_1} - 20 = x_0 - 20 \\leq 0\\\\\n",
    "    &\\phantom{\\text{minimize}} \\quad f_1(x_0, x_1) =\n",
    "    a_1^\\transpose x - b_1 = \\vec{-1\\\\0}^\\transpose \\vec{x_0\\\\x_1} = -x_0 \\leq 0\\\\\n",
    "    &\\phantom{\\text{minimize}} \\quad f_2(x_0, x_1) =\n",
    "    a_2^\\transpose x - b_2 = \\vec{0\\\\1}^\\transpose \\vec{x_0\\\\x_1} - 20 = x_1 - 20 \\leq 0 \\\\\n",
    "    &\\phantom{\\text{minimize}} \\quad f_3(x_0, x_1) = \n",
    "    a_3^\\transpose x - b_3 = \\vec{0\\\\-1}^\\transpose \\vec{x_0\\\\x_1} = -x_1 \\leq 0,\n",
    "\\end{align*}\n",
    "which clearly has the solution $x^\\star = (x_1^\\star, x_2^\\star) = (5, 5)$. Now, the gradients of the objective function and constraint functions are \n",
    "\\begin{align*}\n",
    "    &\\nabla f_\\text{obj}(x_0, x_1) = \\vec{2(x_0 - 5)\\\\2(x_1 - 5)}, \\\\\n",
    "    &\\nabla f_0(x_0, x_1) = \\vec{1\\\\0}, \\quad \\nabla f_1(x_0, x_1) = \\vec{-1\\\\0}, \\\\\n",
    "    &\\nabla f_2(x_0, x_1) = \\vec{0\\\\1}, \\quad \\nabla f_3(x_0, x_1) = \\vec{0\\\\-1}.\n",
    "\\end{align*}\n",
    "We implement these functions as follows:"
   ]
  },
  {
   "cell_type": "code",
   "execution_count": 3,
   "metadata": {
    "collapsed": false
   },
   "outputs": [],
   "source": [
    "def funcobj(x):\n",
    "    return (x[0]-5)**2 + (x[1]-5)**2\n",
    "    \n",
    "def func0(x):\n",
    "    return x[0] - 20\n",
    "\n",
    "def func1(x):\n",
    "    return -x[0]\n",
    "    \n",
    "def func2(x):\n",
    "    return x[1] - 20\n",
    "    \n",
    "def func3(x):\n",
    "    return -x[1]\n",
    "\n",
    "def grad_funcobj(x):\n",
    "    return np.array([2*(x[0] - 5), 2*(x[1] - 5)])\n",
    "\n",
    "def grad_func0(x):\n",
    "    return np.array([1, 0])\n",
    "\n",
    "def grad_func1(x):\n",
    "    return np.array([-1, 0])\n",
    "\n",
    "def grad_func2(x):\n",
    "    return np.array([0, 1])\n",
    "    \n",
    "def grad_func3(x):\n",
    "    return np.array([0, -1])\n",
    "\n",
    "A = np.array([[1, 0],[-1,0],[0,1],[0,-1]])\n",
    "b = np.array([20, 0, 20, 0])"
   ]
  },
  {
   "cell_type": "markdown",
   "metadata": {},
   "source": [
    "The ACCPM requires that the initial polygon $\\mathcal{P}_0$ (here I've abused terminology and by the initial polygon $\\mathcal{P}_0$ I actually mean the system of linear inequalities $Ax \\leq b$) contain the $\\epsilon$-suboptimal set for some given $\\epsilon > 0$. It is clear that if we take\n",
    "\\begin{align*}\n",
    "    A = \\vec{a_0^\\transpose\\\\a_1^\\transpose\\\\a_2^\\transpose\\\\a_3^\\transpose}, b = \\vec{20\\\\0\\\\20\\\\0}\n",
    "\\end{align*}\n",
    "this will be satisfied for some reasonably small enough $\\epsilon > 0$, as we know the solution is $x^\\star = (x_0^\\star, x_1^\\star) = (5, 5) \\in [0, 20] \\times [0, 20]$. \n",
    "\n",
    "Now, we start with $k=0$.  \n",
    "Now, $x^{(0)}_{ac}$ is the solution of the minimization problem \n",
    "\\begin{equation*}\n",
    "    \\min_{\\domain \\phi} \\phi(x) = - \\sum_{i=0}^{3}{\\log{(b_i - a_i^\\transpose x)}}.\n",
    "\\end{equation*}\n",
    "So, we solve the problem\n",
    "\\begin{align*}\n",
    "    &\\phantom{iff}\\nabla \\phi(x) = \\sum_{i=0}^{3\n",
    "    } \\frac{1}{b_i - a_i^\\transpose x}a_i = 0 \\\\\n",
    "    &\\iff \\frac{1}{20-x_0}\\begin{bmatrix}1\\\\0\\end{bmatrix} + \\frac{1}{x_0}\\begin{bmatrix}-1\\\\0\\end{bmatrix} + \\frac{1}{20-x_1}\\begin{bmatrix}0\\\\1\\end{bmatrix} + \\frac{1}{x_1}\\begin{bmatrix}0\\\\-1\\end{bmatrix} = 0 \\\\\n",
    "    &\\iff \\frac{1}{20-x_0} - \\frac{1}{x_0} = 0, \\frac{1}{20-x_1} - \\frac{1}{x_1} = 0 \\\\\n",
    "    &\\iff x_0 = \\frac{20}{2} = 10, x_1 = \\frac{20}{2} = 10,\n",
    "\\end{align*}\n",
    "and conclude $x^{(0)}_{ac} = (10, 10)$. We then query the oracle at $x^{(0)}_{ac}$. (Here, $f_\\text{best} = f_\\text{obj}(10, 10) = 50$ since this is the $0$-th iteration.) We know the point is feasible and therefore\n",
    "\\begin{align*}\n",
    "    &a_4 = \\nabla f_\\text{obj}(10, 10) = \\vec{10\\\\10}, \\\\\n",
    "    &b_4 = \\nabla f_\\text{obj}(10, 10)^\\transpose \\vec{10\\\\10} = \\vec{10\\\\10}^\\transpose \\vec{10\\\\10} = 200,\n",
    "\\end{align*}\n",
    "which we normalize to get\n",
    "\\begin{align*}\n",
    "    &a_4 =  \\frac{1}{\\sqrt{100^2 + 100^2}} \\nabla f_\\text{obj}(10, 10) \n",
    "         = \\vec{\\frac{1}{\\sqrt{2}} \\\\ \\frac{1}{\\sqrt{2}} } \\approx \\vec{0.7071 \\\\ 0.7071}, \\\\\n",
    "    &b_4 = \\frac{1}{\\sqrt{100^2 + 100^2}} \\nabla f_\\text{obj}(10, 10)^\\transpose \\vec{10\\\\10} = \\vec{10\\\\10}^\\transpose \\vec{10\\\\10} = \\frac{20}{\\sqrt{2}} = 10\\sqrt{2} \\approx 14.1421,\n",
    "\\end{align*}\n",
    "and therefore update\n",
    "\\begin{align*}\n",
    "    A = \\vec{a_0^\\transpose\\\\a_1^\\transpose\\\\a_2^\\transpose\\\\a_3^\\transpose\\\\a_4^\\transpose}, b = \\vec{20\\\\0\\\\20\\\\0\\\\10\\sqrt{2}}, k = 1.\n",
    "\\end{align*}\n",
    "Now, $x^{(1)}_{ac}$ is the solution of the minimization problem \n",
    "\\begin{equation*}\n",
    "    \\min_{\\domain \\phi} \\phi(x) = - \\sum_{i=0}^{4}{\\log{(b_i - a_i^\\transpose x)}}.\n",
    "\\end{equation*}\n",
    "So, we solve the problem\n",
    "\\begin{align*}\n",
    "    &\\phantom{iff}\\nabla \\phi(x) = \\sum_{i=0}^{4\n",
    "    } \\frac{1}{b_i - a_i^\\transpose x}a_i = 0 \\\\\n",
    "    &\\iff \\frac{1}{20-x_0}\\vec{1\\\\0} + \\frac{1}{x_0}\\vec{-1\\\\0} + \\frac{1}{20-x_1}\\vec{0\\\\1} + \\frac{1}{x_1}\\vec{0\\\\-1} + \\frac{\\sqrt{2}}{20-x_0-x_1} \\vec{\\frac{1}{\\sqrt{2}}\\\\\\frac{1}{\\sqrt{2}}} = 0\\\\\n",
    "    &\\iff \\frac{1}{20-x_0} - \\frac{1}{x_0} + \\frac{1}{20 - x_0- x_1}= 0, \\frac{1}{20-x_1} - \\frac{1}{x_1} + \\frac{1}{20 - x_0- x_1} = 0 \\\\\n",
    "    &\\iff x_0 = x_1 = 2(5 \\pm \\sqrt{5}) \\approx 14.4721 \\text{ or } 5.52786,\n",
    "\\end{align*}\n",
    "and take $x^{(1)}_{ac} = (2(5-\\sqrt{5}), 2(5-\\sqrt{5})) \\approx (5.52786, 5.52786)$. We then query the\n",
    "oracle at $x^{(1)}_{ac}$. Here \n",
    "$f_\\text{obj}(x^{(1)}_{ac}) = f_\\text{obj}(2(5-\\sqrt{5}), 2(5-\\sqrt{5})) = 90 - 40\\sqrt{5} \\approx 0.557281 \\leq f_\\text{best} = 50$ so we update \n",
    "$f_\\text{best} = 90 - 40\\sqrt{5} \\approx 0.557281$ and therefore put (and normalize)  \n",
    "\\begin{align*}\n",
    "    &a_5 = \\frac{1}{\\sqrt{2(10-4\\sqrt{5})^2}} \\nabla f_\\text{obj}(x^{(1)}_{ac}) = \n",
    "           \\frac{1}{\\sqrt{2(10-4\\sqrt{5})^2}} \\nabla f_\\text{obj}\\vec{2(5-\\sqrt{5}) \\\\ 2(5-\\sqrt{5})} =\n",
    "           \\frac{1}{\\sqrt{2(10-4\\sqrt{5})^2}} \\vec{10-4\\sqrt{5}\\\\10-4\\sqrt{5}}\n",
    "           = \\vec{\\frac{1}{\\sqrt{2}}\\\\\\frac{1}{\\sqrt{2}}}\\approx \\vec{0.7071 \\\\ 0.7071}, \\\\\n",
    "    &b_5 = \\frac{1}{\\sqrt{2(10-4\\sqrt{5})^2}} \\nabla f_\\text{obj}(x^{(1)}_{ac})^\\transpose \\vec{2(5-\\sqrt{5}) \\\\ 2(5-\\sqrt{5})} = \n",
    "           \\frac{1}{\\sqrt{2}} \\vec{1\\\\1}^\\transpose \\vec{2(5-\\sqrt{5}) \\\\ 2(5-\\sqrt{5})} = 2\\sqrt{2} (5 - \\sqrt{5})\n",
    "           \\approx 7.8176,\n",
    "\\end{align*}\n",
    "updating $A$ and $b$ also. Iteration $k = 1$ is concluded by incrementing $k$. We see that this computation will only get more complicated and test our function by simply computing the analytic center and evaluating the gradient at it.  "
   ]
  },
  {
   "cell_type": "code",
   "execution_count": 32,
   "metadata": {
    "collapsed": false
   },
   "outputs": [
    {
     "name": "stdout",
     "output_type": "stream",
     "text": [
      "Initially: b = [ 20.   0.  20.   0.] and A =\n",
      " [[ 1.  0.]\n",
      " [-1.  0.]\n",
      " [ 0.  1.]\n",
      " [ 0. -1.]]\n",
      "----------------\n",
      "At iteration 0 AC computation SUCCEEDED with AC [10. 10.] where\n",
      "        a_cp = [ 0.7071  0.7071] and b_cp = [ 14.1421]\n",
      "At iteration 1 AC computation SUCCEEDED with AC [ 5.5279  5.5278] where\n",
      "        a_cp = [ 0.7071  0.7071] and b_cp = [ 7.8176]\n",
      "At iteration 2 AC computation SUCCEEDED with AC [ 3.0259  3.0262] where\n",
      "        a_cp = [-0.7072 -0.7071] and b_cp = [-5.5755]\n",
      "At iteration 3 AC computation SUCCEEDED with AC [ 4.7661  4.7653] where\n",
      "        a_cp = [-0.7058 -0.7084] and b_cp = [-6.7397]\n",
      "At iteration 4 AC computation SUCCEEDED with AC [ 5.1532  5.2582] where\n",
      "        a_cp = [ 0.5104  0.8599] and b_cp = [ 7.1519]\n",
      "At iteration 5 AC computation SUCCEEDED with AC [ 7.8834  2.3826] where\n",
      "        a_cp = [ 0.7404 -0.6721] and b_cp = [ 2.3003]\n",
      "At iteration 6 AC computation SUCCEEDED with AC [ 5.2255  4.7611] where\n",
      "        a_cp = [ 0.6865 -0.7271] and b_cp = [ 0.0984]\n",
      "At iteration 7 AC computation SUCCEEDED with AC [ 4.2893  5.526 ] where\n",
      "        a_cp = [-0.8038  0.5949] and b_cp = [-0.5513]\n",
      "At iteration 8 AC computation SUCCEEDED with AC [ 4.9291  5.0319] where\n",
      "        a_cp = [-0.9118  0.4105] and b_cp = [-2.4287]\n",
      "At iteration 9 AC computation SUCCEEDED with AC [ 5.1452  4.9522] where\n",
      "        a_cp = [ 0.9499 -0.3127] and b_cp = [ 3.2823]\n",
      "At iteration 10 AC computation SUCCEEDED with AC [ 4.985   4.9489] where\n",
      "        a_cp = [-0.2808 -0.9598] and b_cp = [-6.1495]\n",
      "At iteration 11 AC computation SUCCEEDED with AC [ 5.0521  5.1248] where\n",
      "        a_cp = [ 0.3849  0.923 ] and b_cp = [ 6.6173]\n",
      "At iteration 12 AC computation SUCCEEDED with AC [ 5.0022  5.009 ] where\n",
      "        a_cp = [ 0.2364  0.9717] and b_cp = [ 6.0495]\n",
      "At iteration 13 AC computation SUCCEEDED with AC [ 4.9953  4.9734] where\n",
      "        a_cp = [-0.173  -0.9849] and b_cp = [-5.7746]\n",
      "At iteration 14 AC computation FAILED with AC [ 4.9867  4.9913] where\n",
      "        a_cp = [-0.8369 -0.5474] and b_cp = [-6.9108]\n",
      "At iteration 15 AC computation FAILED with AC [ 4.968   5.0077] where\n",
      "        a_cp = [-0.9724  0.2333] and b_cp = [-3.6777]\n",
      "At iteration 16 AC computation FAILED with AC [ 4.9927  5.001 ] where\n",
      "        a_cp = [-0.9906  0.137 ] and b_cp = [-4.2603]\n",
      "At iteration 17 AC computation SUCCEEDED with AC [ 5.0655  4.9842] where\n",
      "        a_cp = [ 0.9723 -0.2338] and b_cp = [ 3.7263]\n",
      "At iteration 18 AC computation FAILED with AC [ 5.0631  4.9844] where\n",
      "        a_cp = [ 0.9709 -0.2395] and b_cp = [ 3.6901]\n",
      "At iteration 19 AC computation FAILED with AC [ 5.0598  4.985 ] where\n",
      "        a_cp = [ 0.9698 -0.244 ] and b_cp = [ 3.6601]\n",
      "******** ACCPM failed! ********\n"
     ]
    }
   ],
   "source": [
    " accpm.accpm(funcobj, (func0, func1, func2, func3), A, b, \n",
    "             grad_func=grad_funcobj, \n",
    "             grad_constr=(grad_func0, grad_func1, grad_func2, grad_func3),\n",
    "             alpha=0.01, beta=0.7, start=1, maxiter = 20, testing=True)"
   ]
  },
  {
   "cell_type": "markdown",
   "metadata": {
    "collapsed": true
   },
   "source": [
    "We know the desired solution is $x^\\star = (5, 5)$ and see that at iteration 8 we have $x^{(8)}_\\text{ac} = (4.9291, 5.0319)$ which is very good and at iteration 12 we have $x^{(12)}_\\text{ac} = (5.0022, 5.009)$ which is even better."
   ]
  }
 ],
 "metadata": {
  "kernelspec": {
   "display_name": "Python 3",
   "language": "python",
   "name": "python3"
  },
  "language_info": {
   "codemirror_mode": {
    "name": "ipython",
    "version": 3
   },
   "file_extension": ".py",
   "mimetype": "text/x-python",
   "name": "python",
   "nbconvert_exporter": "python",
   "pygments_lexer": "ipython3",
   "version": "3.5.1"
  }
 },
 "nbformat": 4,
 "nbformat_minor": 0
}
