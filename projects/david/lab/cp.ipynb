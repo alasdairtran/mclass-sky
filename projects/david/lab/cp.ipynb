{
 "cells": [
  {
   "cell_type": "markdown",
   "metadata": {},
   "source": [
    "# Computation of cutting planes"
   ]
  },
  {
   "cell_type": "markdown",
   "metadata": {},
   "source": [
    "# The set-up"
   ]
  },
  {
   "cell_type": "code",
   "execution_count": 1,
   "metadata": {
    "collapsed": false
   },
   "outputs": [],
   "source": [
    "import numpy as np\n",
    "import accpm\n",
    "%load_ext autoreload\n",
    "%autoreload 1\n",
    "%aimport accpm"
   ]
  },
  {
   "cell_type": "markdown",
   "metadata": {},
   "source": [
    "$\\DeclareMathOperator{\\domain}{dom}\n",
    "\\newcommand{\\transpose}{\\text{T}}\n",
    "\\newcommand{\\vec}[1]{\\begin{pmatrix}#1\\end{pmatrix}}$"
   ]
  },
  {
   "cell_type": "markdown",
   "metadata": {},
   "source": [
    "# Introduction and setup"
   ]
  },
  {
   "cell_type": "markdown",
   "metadata": {},
   "source": [
    "To test the computation of cutting planes we consider the problem\n",
    "\\begin{align*}\n",
    "    &\\text{minimize} \\quad f_\\text{obj}(x_0, x_1) = (x_0 - 5)^2 + (x_1 - 5)^2 \\\\\n",
    "    &\\phantom{\\text{minimize}} \\quad f_0(x_0, x_1) = \n",
    "    a_0^\\transpose x - b_0 = \\vec{1\\\\0}^\\transpose \\vec{x_0\\\\x_1} - 20 = x_0 - 20 \\leq 0\\\\\n",
    "    &\\phantom{\\text{minimize}} \\quad f_1(x_0, x_1) =\n",
    "    a_1^\\transpose x - b_1 = \\vec{-1\\\\0}^\\transpose \\vec{x_0\\\\x_1} = -x_0 \\leq 0\\\\\n",
    "    &\\phantom{\\text{minimize}} \\quad f_2(x_0, x_1) =\n",
    "    a_2^\\transpose x - b_2 = \\vec{0\\\\1}^\\transpose \\vec{x_0\\\\x_1} - 20 = x_1 - 20 \\leq 0 \\\\\n",
    "    &\\phantom{\\text{minimize}} \\quad f_3(x_0, x_1) = \n",
    "    a_3^\\transpose x - b_3 = \\vec{0\\\\-1}^\\transpose \\vec{x_0\\\\x_1} = -x_1 \\leq 0,\n",
    "\\end{align*}\n",
    "which clearly has the solution $x^\\star = (x_1^\\star, x_2^\\star) = (5, 5)$. Now, the gradients of the objective function and constraint functions are \n",
    "\\begin{align*}\n",
    "    &\\nabla f_\\text{obj}(x_0, x_1) = \\vec{2(x_0 - 5)\\\\2(x_1 - 5)}, \\\\\n",
    "    &\\nabla f_0(x_0, x_1) = \\vec{1\\\\0}, \\quad \\nabla f_1(x_0, x_1) = \\vec{-1\\\\0}, \\\\\n",
    "    &\\nabla f_2(x_0, x_1) = \\vec{0\\\\1}, \\quad \\nabla f_3(x_0, x_1) = \\vec{0\\\\-1}.\n",
    "\\end{align*}\n",
    "We implement these functions as follows:"
   ]
  },
  {
   "cell_type": "code",
   "execution_count": 2,
   "metadata": {
    "collapsed": false
   },
   "outputs": [],
   "source": [
    "def funcobj(x):\n",
    "    return (x[0]-5)**2 + (x[1]-5)**2\n",
    "    \n",
    "def func0(x):\n",
    "    return x[0] - 20\n",
    "\n",
    "def func1(x):\n",
    "    return -x[0]\n",
    "    \n",
    "def func2(x):\n",
    "    return x[1] - 20\n",
    "    \n",
    "def func3(x):\n",
    "    return -x[1]\n",
    "\n",
    "def grad_funcobj(x):\n",
    "    return np.array([2*(x[0] - 5), 2*(x[1] - 5)])\n",
    "\n",
    "def grad_func0(x):\n",
    "    return np.array([1, 0])\n",
    "\n",
    "def grad_func1(x):\n",
    "    return np.array([-1, 0])\n",
    "\n",
    "def grad_func2(x):\n",
    "    return np.array([0, 1])\n",
    "    \n",
    "def grad_func3(x):\n",
    "    return np.array([0, -1])\n",
    "\n",
    "A = np.array([[1, 0],[-1,0],[0,1],[0,-1]])\n",
    "b = np.array([20, 0, 20, 0])"
   ]
  },
  {
   "cell_type": "code",
   "execution_count": 3,
   "metadata": {
    "collapsed": false
   },
   "outputs": [
    {
     "data": {
      "text/plain": [
       "True"
      ]
     },
     "execution_count": 3,
     "metadata": {},
     "output_type": "execute_result"
    }
   ],
   "source": [
    "np.array([1,2]) is not None"
   ]
  },
  {
   "cell_type": "markdown",
   "metadata": {
    "collapsed": false
   },
   "source": [
    "# Analytic centers and cutting planes"
   ]
  },
  {
   "cell_type": "markdown",
   "metadata": {},
   "source": [
    "The ACCPM requires that the initial polygon $\\mathcal{P}_0$ (here I've abused terminology and by the initial polygon $\\mathcal{P}_0$ I actually mean the system of linear inequalities $Ax \\leq b$) contain the $\\epsilon$-suboptimal set for some given $\\epsilon > 0$. It is clear that if we take\n",
    "\\begin{align*}\n",
    "    A = \\vec{a_0^\\transpose\\\\a_1^\\transpose\\\\a_2^\\transpose\\\\a_3^\\transpose}, b = \\vec{20\\\\0\\\\20\\\\0}\n",
    "\\end{align*}\n",
    "this will be satisfied for some reasonably small enough $\\epsilon > 0$, as we know the solution is $x^\\star = (x_0^\\star, x_1^\\star) = (5, 5) \\in [0, 20] \\times [0, 20]$. \n",
    "\n",
    "Now, we start with $k=0$.  \n",
    "Now, $x^{(0)}_{ac}$ is the solution of the minimization problem \n",
    "\\begin{equation*}\n",
    "    \\min_{\\domain \\phi} \\phi(x) = - \\sum_{i=0}^{3}{\\log{(b_i - a_i^\\transpose x)}}.\n",
    "\\end{equation*}\n",
    "So, we solve the problem\n",
    "\\begin{align*}\n",
    "    &\\phantom{iff}\\nabla \\phi(x) = \\sum_{i=0}^{3\n",
    "    } \\frac{1}{b_i - a_i^\\transpose x}a_i = 0 \\\\\n",
    "    &\\iff \\frac{1}{20-x_0}\\begin{bmatrix}1\\\\0\\end{bmatrix} + \\frac{1}{x_0}\\begin{bmatrix}-1\\\\0\\end{bmatrix} + \\frac{1}{20-x_1}\\begin{bmatrix}0\\\\1\\end{bmatrix} + \\frac{1}{x_1}\\begin{bmatrix}0\\\\-1\\end{bmatrix} = 0 \\\\\n",
    "    &\\iff \\frac{1}{20-x_0} - \\frac{1}{x_0} = 0, \\frac{1}{20-x_1} - \\frac{1}{x_1} = 0 \\\\\n",
    "    &\\iff x_0 = \\frac{20}{2} = 10, x_1 = \\frac{20}{2} = 10,\n",
    "\\end{align*}\n",
    "and conclude $x^{(0)}_{ac} = (10, 10)$. We then query the oracle at $x^{(0)}_{ac}$. (Here, $f_\\text{best} = f_\\text{obj}(10, 10) = 50$ since this is the $0$-th iteration.) We know the point is feasible and therefore\n",
    "\\begin{align*}\n",
    "    &a_4 = \\nabla f_\\text{obj}(10, 10) = \\vec{10\\\\10}, \\\\\n",
    "    &b_4 = \\nabla f_\\text{obj}(10, 10)^\\transpose \\vec{10\\\\10} = \\vec{10\\\\10}^\\transpose \\vec{10\\\\10} = 200,\n",
    "\\end{align*}\n",
    "and so we update\n",
    "\\begin{align*}\n",
    "    A = \\vec{a_0^\\transpose\\\\a_1^\\transpose\\\\a_2^\\transpose\\\\a_3^\\transpose\\\\a_4^\\transpose}, b = \\vec{20\\\\0\\\\20\\\\0\\\\200}, k = 1.\n",
    "\\end{align*}\n",
    "Now, $x^{(1)}_{ac}$ is the solution of the minimization problem \n",
    "\\begin{equation*}\n",
    "    \\min_{\\domain \\phi} \\phi(x) = - \\sum_{i=0}^{4}{\\log{(b_i - a_i^\\transpose x)}}.\n",
    "\\end{equation*}\n",
    "So, we solve the problem\n",
    "\\begin{align*}\n",
    "    &\\phantom{iff}\\nabla \\phi(x) = \\sum_{i=0}^{4\n",
    "    } \\frac{1}{b_i - a_i^\\transpose x}a_i = 0 \\\\\n",
    "    &\\iff \\frac{1}{20-x_0}\\vec{1\\\\0} + \\frac{1}{x_0}\\vec{-1\\\\0} + \\frac{1}{20-x_1}\\vec{0\\\\1} + \\frac{1}{x_1}\\vec{0\\\\-1} + \\frac{1}{200-10x_0-10x_1} \\vec{10\\\\10} = 0\\\\\n",
    "    &\\iff \\frac{1}{20-x_0} - \\frac{1}{x_0} + \\frac{1}{20 - x_0- x_1}= 0, \\frac{1}{20-x_1} - \\frac{1}{x_1} + \\frac{1}{20 - x_0- x_1} = 0 \\\\\n",
    "    &\\iff x_0 = x_1 = 2(5 \\pm \\sqrt{5}) \\approx 14.4721 \\text{ or } 5.52786,\n",
    "\\end{align*}\n",
    "and take $x^{(1)}_{ac} = (2(5-\\sqrt{5}), 2(5-\\sqrt{5})) \\approx (5.52786, 5.52786)$. We then query the\n",
    "oracle at $x^{(1)}_{ac}$. Here \n",
    "$f_\\text{obj}(x^{(1)}_{ac}) = f_\\text{obj}(2(5-\\sqrt{5}), 2(5-\\sqrt{5})) = 90 - 40\\sqrt{5} \\approx 0.557281 \\leq f_\\text{best} = 50$ so we update \n",
    "$f_\\text{best} = 90 - 40\\sqrt{5} \\approx 0.557281$ and therefore put  \n",
    "\\begin{align*}\n",
    "    &a_5 = \\nabla f_\\text{obj}(x^{(1)}_{ac}) = \n",
    "           \\nabla f_\\text{obj}\\vec{2(5-\\sqrt{5}) \\\\ 2(5-\\sqrt{5})} =\n",
    "           \\vec{10-4\\sqrt{5}\\\\10-4\\sqrt{5}} \\approx \n",
    "           \\vec{1.05573\\\\1.05573}, \\\\\n",
    "    &b_5 = \\nabla f_\\text{obj}(x^{(1)}_{ac})^\\transpose \\vec{2(5-\\sqrt{5}) \\\\ 2(5-\\sqrt{5})} = \n",
    "           \\vec{10-4\\sqrt{5}\\\\10-4\\sqrt{5}}^\\transpose \\vec{2(5-\\sqrt{5}) \\\\ 2(5-\\sqrt{5})} = 4 (10 - 4 \\sqrt{5}) (5 - \\sqrt{5}) = 40 (7 - 3\\sqrt{5}) \\approx 11.6718,\n",
    "\\end{align*}\n",
    "updating $A$ and $b$ also. Iteration $k = 1$ is concluded by incrementing $k$.\n",
    "\n",
    "For $k = 2$ we similarly solve \n",
    "\\begin{align*}\n",
    "    &\\phantom{iff}\\nabla \\phi(x) = \\sum_{i=0}^{5\n",
    "    } \\frac{1}{b_i - a_i^\\transpose x}a_i = 0 \\\\\n",
    "    &\\iff \\frac{1}{20-x_0}\\vec{1\\\\0} + \\frac{1}{x_0}\\vec{-1\\\\0} + \\frac{1}{20-x_1}\\vec{0\\\\1} + \\frac{1}{x_1}\\vec{0\\\\-1} + \\frac{1}{200-10x_0-10x_1} \\vec{10\\\\10}\n",
    "    + \\frac{1}{40(7-3\\sqrt{5})-(10-4\\sqrt{5})x_0 - (10-4\\sqrt{5})x_1}  \\vec{10-4\\sqrt{5}\\\\10-4\\sqrt{5}} = 0\\\\\n",
    "    &\\iff \\frac{1}{20-x_0} - \\frac{1}{x_0} + \\frac{1}{20 - x_0- x_1} + \\frac{10-4\\sqrt{5}}{40(7-3\\sqrt{5})-(10-4\\sqrt{5})x_0 - (10-4\\sqrt{5})x_1} = 0\n",
    "    , \\frac{1}{20-x_1} - \\frac{1}{x_1} + \\frac{1}{20 - x_0- x_1} + \\frac{10-4\\sqrt{5}}{40(7-3\\sqrt{5})-(10-4\\sqrt{5})x_0 - (10-4\\sqrt{5})x_1} = 0 \\\\\n",
    "    &\\iff x_0 = x_1 = 2(5 \\pm \\sqrt{5}) \\approx 14.4721 \\text{ or } 5.52786,\n",
    "\\end{align*}"
   ]
  },
  {
   "cell_type": "code",
   "execution_count": 55,
   "metadata": {
    "collapsed": false
   },
   "outputs": [
    {
     "name": "stdout",
     "output_type": "stream",
     "text": [
      "    SUCCESS with i = 5\n",
      "******** At iteration 0 AC computation SUCCESSFUL!\n",
      "******** At iteration 0 AC is [ 9.99999996  9.99999996]\n",
      "    SUCCESS with i = 7\n",
      "******** At iteration 1 AC computation SUCCESSFUL!\n",
      "******** At iteration 1 AC is [ 5.52787706  5.52783738]\n",
      "    SUCCESS with i = 6\n",
      "******** At iteration 2 AC computation SUCCESSFUL!\n",
      "******** At iteration 2 AC is [ 3.02594683  3.02624606]\n",
      "    SUCCESS with i = 8\n",
      "******** At iteration 3 AC computation SUCCESSFUL!\n",
      "******** At iteration 3 AC is [ 4.76614104  4.76525504]\n",
      "    SUCCESS with i = 10\n",
      "******** At iteration 4 AC computation SUCCESSFUL!\n",
      "******** At iteration 4 AC is [ 5.15324012  5.25818967]\n",
      "    SUCCESS with i = 6\n",
      "******** At iteration 5 AC computation SUCCESSFUL!\n",
      "******** At iteration 5 AC is [ 7.88341122  2.3826449 ]\n",
      "    SUCCESS with i = 8\n",
      "******** At iteration 6 AC computation SUCCESSFUL!\n",
      "******** At iteration 6 AC is [ 5.22551073  4.76114569]\n",
      "    SUCCESS with i = 7\n",
      "******** At iteration 7 AC computation SUCCESSFUL!\n",
      "******** At iteration 7 AC is [ 4.28929923  5.52602065]\n",
      "    SUCCESS with i = 5\n",
      "******** At iteration 8 AC computation SUCCESSFUL!\n",
      "******** At iteration 8 AC is [ 4.92905761  5.03194048]\n",
      "    SUCCESS with i = 5\n",
      "******** At iteration 9 AC computation SUCCESSFUL!\n",
      "******** At iteration 9 AC is [ 5.14517669  4.9522144 ]\n",
      "    SUCCESS with i = 6\n",
      "******** At iteration 10 AC computation SUCCESSFUL!\n",
      "******** At iteration 10 AC is [ 4.98504304  4.94887285]\n",
      "    SUCCESS with i = 5\n",
      "******** At iteration 11 AC computation SUCCESSFUL!\n",
      "******** At iteration 11 AC is [ 5.05205474  5.12483558]\n",
      "    SUCCESS with i = 5\n",
      "******** At iteration 12 AC computation SUCCESSFUL!\n",
      "******** At iteration 12 AC is [ 5.00217982  5.00895956]\n",
      "    SUCCESS with i = 7\n",
      "******** At iteration 13 AC computation SUCCESSFUL!\n",
      "******** At iteration 13 AC is [ 4.99533579  4.97344603]\n",
      "    FAILURE with i = 50\n",
      "******** At iteration 14 AC computation FAILED!\n",
      "******** At iteration 14 AC is [ 4.98672408  4.99131599]\n",
      "******** ACCPM failed! ********\n"
     ]
    }
   ],
   "source": [
    " accpm.accpm(funcobj, (func0, func1, func2, func3), A, b, \n",
    "           grad_func=grad_funcobj, \n",
    "           grad_constr=(grad_func0, grad_func1, grad_func2, grad_func3),\n",
    "           alpha=0.01, beta=0.7, start=1, maxiter = 15)"
   ]
  },
  {
   "cell_type": "code",
   "execution_count": null,
   "metadata": {
    "collapsed": true
   },
   "outputs": [],
   "source": []
  }
 ],
 "metadata": {
  "kernelspec": {
   "display_name": "Python 3",
   "language": "python",
   "name": "python3"
  },
  "language_info": {
   "codemirror_mode": {
    "name": "ipython",
    "version": 3
   },
   "file_extension": ".py",
   "mimetype": "text/x-python",
   "name": "python",
   "nbconvert_exporter": "python",
   "pygments_lexer": "ipython3",
   "version": "3.5.1"
  }
 },
 "nbformat": 4,
 "nbformat_minor": 0
}
