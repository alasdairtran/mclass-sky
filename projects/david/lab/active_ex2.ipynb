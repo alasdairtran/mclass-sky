{
 "cells": [
  {
   "cell_type": "markdown",
   "metadata": {},
   "source": [
    "# Comparison of the accuracy of a cutting plane active learning procedure using the (i) analytic center; (ii) Chebyshev center; and (iii) random center on the diabetes data set"
   ]
  },
  {
   "cell_type": "markdown",
   "metadata": {},
   "source": [
    "# The set up"
   ]
  },
  {
   "cell_type": "code",
   "execution_count": 98,
   "metadata": {
    "collapsed": false
   },
   "outputs": [
    {
     "name": "stdout",
     "output_type": "stream",
     "text": [
      "The autoreload extension is already loaded. To reload it, use:\n",
      "  %reload_ext autoreload\n"
     ]
    }
   ],
   "source": [
    "import numpy as np\n",
    "import pandas as pd\n",
    "import active\n",
    "import experiment\n",
    "import logistic_regression as logr\n",
    "from sklearn import datasets # The Iris dataset is imported from here.\n",
    "from IPython.display import display\n",
    "import matplotlib.pyplot as plt\n",
    "%matplotlib inline\n",
    "\n",
    "%load_ext autoreload\n",
    "%autoreload 1\n",
    "%aimport active\n",
    "%aimport experiment\n",
    "%aimport logistic_regression\n",
    "\n",
    "np.set_printoptions(precision=4)"
   ]
  },
  {
   "cell_type": "code",
   "execution_count": 99,
   "metadata": {
    "collapsed": false
   },
   "outputs": [],
   "source": [
    "plt.rcParams['axes.labelsize'] = 15\n",
    "plt.rcParams['axes.titlesize'] = 15\n",
    "plt.rcParams['xtick.labelsize'] = 15\n",
    "plt.rcParams['ytick.labelsize'] = 15\n",
    "plt.rcParams['legend.fontsize'] = 15\n",
    "plt.rcParams['figure.titlesize'] = 18"
   ]
  },
  {
   "cell_type": "markdown",
   "metadata": {},
   "source": [
    "# Importing and processing the diabetes data set"
   ]
  },
  {
   "cell_type": "markdown",
   "metadata": {},
   "source": [
    "In this experiment we work with a data set with 2 classes and 8 features where the classes are divided between whether or not a patient has diabetes and the 8 features correspond to 8 health measurements. \n",
    "\n",
    "The 2 classes in this data set are not linearly seperable and it is known that the data set has missing variables.\n",
    "\n",
    "We work with all features of the data set and  randomly divide the data set into two halves, to be used for training and testing."
   ]
  },
  {
   "cell_type": "code",
   "execution_count": 100,
   "metadata": {
    "collapsed": false
   },
   "outputs": [
    {
     "data": {
      "text/html": [
       "<div>\n",
       "<table border=\"1\" class=\"dataframe\">\n",
       "  <thead>\n",
       "    <tr style=\"text-align: right;\">\n",
       "      <th></th>\n",
       "      <th>diabetes</th>\n",
       "      <th>num preg</th>\n",
       "      <th>plasma</th>\n",
       "      <th>bp</th>\n",
       "      <th>skin fold</th>\n",
       "      <th>insulin</th>\n",
       "      <th>bmi</th>\n",
       "      <th>pedigree</th>\n",
       "      <th>age</th>\n",
       "      <th>ones</th>\n",
       "    </tr>\n",
       "  </thead>\n",
       "  <tbody>\n",
       "    <tr>\n",
       "      <th>0</th>\n",
       "      <td>-1</td>\n",
       "      <td>-0.294118</td>\n",
       "      <td>0.487437</td>\n",
       "      <td>0.180328</td>\n",
       "      <td>-0.292929</td>\n",
       "      <td>-1.000000</td>\n",
       "      <td>0.001490</td>\n",
       "      <td>-0.531170</td>\n",
       "      <td>-0.033333</td>\n",
       "      <td>1.0</td>\n",
       "    </tr>\n",
       "    <tr>\n",
       "      <th>1</th>\n",
       "      <td>1</td>\n",
       "      <td>-0.882353</td>\n",
       "      <td>-0.145729</td>\n",
       "      <td>0.081967</td>\n",
       "      <td>-0.414141</td>\n",
       "      <td>-1.000000</td>\n",
       "      <td>-0.207153</td>\n",
       "      <td>-0.766866</td>\n",
       "      <td>-0.666667</td>\n",
       "      <td>1.0</td>\n",
       "    </tr>\n",
       "    <tr>\n",
       "      <th>2</th>\n",
       "      <td>-1</td>\n",
       "      <td>-0.058824</td>\n",
       "      <td>0.839196</td>\n",
       "      <td>0.049180</td>\n",
       "      <td>-1.000000</td>\n",
       "      <td>-1.000000</td>\n",
       "      <td>-0.305514</td>\n",
       "      <td>-0.492741</td>\n",
       "      <td>-0.633333</td>\n",
       "      <td>1.0</td>\n",
       "    </tr>\n",
       "    <tr>\n",
       "      <th>3</th>\n",
       "      <td>1</td>\n",
       "      <td>-0.882353</td>\n",
       "      <td>-0.105528</td>\n",
       "      <td>0.081967</td>\n",
       "      <td>-0.535354</td>\n",
       "      <td>-0.777778</td>\n",
       "      <td>-0.162444</td>\n",
       "      <td>-0.923997</td>\n",
       "      <td>-1.000000</td>\n",
       "      <td>1.0</td>\n",
       "    </tr>\n",
       "    <tr>\n",
       "      <th>4</th>\n",
       "      <td>-1</td>\n",
       "      <td>-1.000000</td>\n",
       "      <td>0.376884</td>\n",
       "      <td>-0.344262</td>\n",
       "      <td>-0.292929</td>\n",
       "      <td>-0.602837</td>\n",
       "      <td>0.284650</td>\n",
       "      <td>0.887276</td>\n",
       "      <td>-0.600000</td>\n",
       "      <td>1.0</td>\n",
       "    </tr>\n",
       "  </tbody>\n",
       "</table>\n",
       "</div>"
      ],
      "text/plain": [
       "   diabetes  num preg    plasma        bp  skin fold   insulin       bmi  \\\n",
       "0        -1 -0.294118  0.487437  0.180328  -0.292929 -1.000000  0.001490   \n",
       "1         1 -0.882353 -0.145729  0.081967  -0.414141 -1.000000 -0.207153   \n",
       "2        -1 -0.058824  0.839196  0.049180  -1.000000 -1.000000 -0.305514   \n",
       "3         1 -0.882353 -0.105528  0.081967  -0.535354 -0.777778 -0.162444   \n",
       "4        -1 -1.000000  0.376884 -0.344262  -0.292929 -0.602837  0.284650   \n",
       "\n",
       "   pedigree       age  ones  \n",
       "0 -0.531170 -0.033333   1.0  \n",
       "1 -0.766866 -0.666667   1.0  \n",
       "2 -0.492741 -0.633333   1.0  \n",
       "3 -0.923997 -1.000000   1.0  \n",
       "4  0.887276 -0.600000   1.0  "
      ]
     },
     "execution_count": 100,
     "metadata": {},
     "output_type": "execute_result"
    }
   ],
   "source": [
    "names = ['diabetes', 'num preg', 'plasma', 'bp', 'skin fold', 'insulin', 'bmi', 'pedigree', 'age']\n",
    "data = pd.read_csv('diabetes_scale.csv', header=None, names=names)\n",
    "data['ones'] = np.ones((data.shape[0], 1)) # Add a column of ones\n",
    "data.head()"
   ]
  },
  {
   "cell_type": "code",
   "execution_count": 101,
   "metadata": {
    "collapsed": false
   },
   "outputs": [],
   "source": [
    "np.random.seed(1)\n",
    "size = data.shape[0]\n",
    "index = np.arange(size)\n",
    "np.random.shuffle(index)\n",
    "training_index = index[:int(size/2)]\n",
    "testing_index = index[int(size/2):]"
   ]
  },
  {
   "cell_type": "code",
   "execution_count": 102,
   "metadata": {
    "collapsed": false
   },
   "outputs": [
    {
     "name": "stdout",
     "output_type": "stream",
     "text": [
      "X has shape (768, 9)\n",
      "Y has shape (768,)\n"
     ]
    }
   ],
   "source": [
    "print('X has shape', X.shape)\n",
    "print('Y has shape', Y.shape)"
   ]
  },
  {
   "cell_type": "markdown",
   "metadata": {},
   "source": [
    "# Logistic regression"
   ]
  },
  {
   "cell_type": "code",
   "execution_count": 103,
   "metadata": {
    "collapsed": false
   },
   "outputs": [],
   "source": [
    "Y = data['diabetes']\n",
    "X = data[['num preg', 'plasma', 'bp', 'skin fold', 'insulin', 'bmi', 'pedigree', 'age', 'ones']]\n",
    "X = np.array(X)\n",
    "Y = np.array(Y)\n",
    "Y[Y==-1] = 0\n",
    "\n",
    "X_diabetes_training = X[training_index]\n",
    "Y_diabetes_training = Y[training_index]\n",
    "X_diabetes_testing = X[testing_index]\n",
    "Y_diabetes_testing = Y[testing_index]"
   ]
  },
  {
   "cell_type": "markdown",
   "metadata": {},
   "source": [
    "# Using logistic regression as a benchmark"
   ]
  },
  {
   "cell_type": "markdown",
   "metadata": {},
   "source": [
    "Here we compute the average accuracy over 10 tests, where for each test the accuracy is computed by training logistic regression on 15 randomly selected patterns from the same fixed training set, which comprises a uniform sample of half the data set.\n",
    "\n",
    "Note that here the optimization process sometimes fails to converge."
   ]
  },
  {
   "cell_type": "code",
   "execution_count": 104,
   "metadata": {
    "collapsed": false,
    "scrolled": true
   },
   "outputs": [
    {
     "name": "stdout",
     "output_type": "stream",
     "text": [
      "Warning: Desired error not necessarily achieved due to precision loss.\n",
      "         Current function value: nan\n",
      "         Iterations: 11\n",
      "         Function evaluations: 43\n",
      "         Gradient evaluations: 43\n",
      "Warning: Desired error not necessarily achieved due to precision loss.\n",
      "         Current function value: nan\n",
      "         Iterations: 13\n",
      "         Function evaluations: 45\n",
      "         Gradient evaluations: 45\n",
      "Warning: Desired error not necessarily achieved due to precision loss.\n",
      "         Current function value: nan\n",
      "         Iterations: 14\n",
      "         Function evaluations: 27\n",
      "         Gradient evaluations: 27\n",
      "Optimization terminated successfully.\n",
      "         Current function value: 0.000979\n",
      "         Iterations: 16\n",
      "         Function evaluations: 17\n",
      "         Gradient evaluations: 17\n",
      "Warning: Desired error not necessarily achieved due to precision loss.\n",
      "         Current function value: nan\n",
      "         Iterations: 21\n",
      "         Function evaluations: 54\n",
      "         Gradient evaluations: 54\n",
      "Warning: Desired error not necessarily achieved due to precision loss.\n",
      "         Current function value: nan\n",
      "         Iterations: 12\n",
      "         Function evaluations: 44\n",
      "         Gradient evaluations: 44\n",
      "Warning: Desired error not necessarily achieved due to precision loss.\n",
      "         Current function value: nan\n",
      "         Iterations: 26\n",
      "         Function evaluations: 41\n",
      "         Gradient evaluations: 41\n",
      "Warning: Desired error not necessarily achieved due to precision loss.\n",
      "         Current function value: nan\n",
      "         Iterations: 12\n",
      "         Function evaluations: 44\n",
      "         Gradient evaluations: 44\n",
      "Optimization terminated successfully.\n",
      "         Current function value: 0.001423\n",
      "         Iterations: 15\n",
      "         Function evaluations: 17\n",
      "         Gradient evaluations: 17\n",
      "Optimization terminated successfully.\n",
      "         Current function value: 0.001253\n",
      "         Iterations: 16\n",
      "         Function evaluations: 18\n",
      "         Gradient evaluations: 18\n"
     ]
    }
   ],
   "source": [
    "n = 10\n",
    "training_size = 15\n",
    "\n",
    "X_testing = X_diabetes_testing\n",
    "Y_testing = Y_diabetes_testing\n",
    "\n",
    "accuracies = []\n",
    "for i in range(10):\n",
    "    index = np.random.choice(X_diabetes_training.shape[0], \n",
    "                             training_size, replace=False)\n",
    "    X_training = X_diabetes_training[index]\n",
    "    Y_training = Y_diabetes_training[index]\n",
    "    w = logr.train(X_training, Y_training)\n",
    "    predictions = logr.predict(w, X_testing)\n",
    "    accuracy = logr.accuracy(predictions, Y_testing)\n",
    "    accuracies.append(accuracy)\n",
    "\n",
    "average_accuracy = np.sum(accuracies)/n"
   ]
  },
  {
   "cell_type": "code",
   "execution_count": 105,
   "metadata": {
    "collapsed": false
   },
   "outputs": [
    {
     "name": "stdout",
     "output_type": "stream",
     "text": [
      "The average accuracy is 0.68515625\n"
     ]
    }
   ],
   "source": [
    "print(\"The average accuracy is\", average_accuracy)"
   ]
  },
  {
   "cell_type": "markdown",
   "metadata": {},
   "source": [
    "Here we simply train logistic regression on half of the data and test it on the other half."
   ]
  },
  {
   "cell_type": "code",
   "execution_count": 106,
   "metadata": {
    "collapsed": false
   },
   "outputs": [
    {
     "name": "stdout",
     "output_type": "stream",
     "text": [
      "Optimization terminated successfully.\n",
      "         Current function value: 175.645824\n",
      "         Iterations: 16\n",
      "         Function evaluations: 26\n",
      "         Gradient evaluations: 26\n"
     ]
    }
   ],
   "source": [
    "X_training = X_diabetes_training\n",
    "Y_training = Y_diabetes_training\n",
    "X_testing = X_diabetes_testing\n",
    "Y_testing = Y_diabetes_testing\n",
    "\n",
    "w = logr.train(X_training, Y_training)\n",
    "predictions = logr.predict(w, X_testing)\n",
    "accuracy = logr.accuracy(predictions, Y_testing)"
   ]
  },
  {
   "cell_type": "code",
   "execution_count": 107,
   "metadata": {
    "collapsed": false
   },
   "outputs": [
    {
     "name": "stdout",
     "output_type": "stream",
     "text": [
      "The accuracy is 0.765625\n"
     ]
    }
   ],
   "source": [
    "print(\"The accuracy is\", accuracy)"
   ]
  },
  {
   "cell_type": "markdown",
   "metadata": {},
   "source": [
    "# Cutting plane active learning procedure"
   ]
  },
  {
   "cell_type": "code",
   "execution_count": null,
   "metadata": {
    "collapsed": true
   },
   "outputs": [],
   "source": [
    "Y = data['diabetes']\n",
    "X = data[['num preg', 'plasma', 'bp', 'skin fold', 'insulin', 'bmi', 'pedigree', 'age', 'ones']]\n",
    "X = np.array(X)\n",
    "Y = np.array(Y)\n",
    "\n",
    "X_diabetes_training = X[training_index]\n",
    "Y_diabetes_training = Y[training_index]\n",
    "X_diabetes_testing = X[testing_index]\n",
    "Y_diabetes_testing = Y[testing_index]"
   ]
  },
  {
   "cell_type": "markdown",
   "metadata": {},
   "source": [
    "# Average accuracy of the cutting plane active learning procedure over 10 tests and 15 iterations using the (i) analytic center; (ii) Chebyshev center; and (iii) random center"
   ]
  },
  {
   "cell_type": "code",
   "execution_count": 6,
   "metadata": {
    "collapsed": false
   },
   "outputs": [
    {
     "name": "stdout",
     "output_type": "stream",
     "text": [
      "**** Starting or restarting experiment ****\n",
      "10 random vectors have been generated so far\n",
      "100 random vectors have been generated so far\n",
      "1000 random vectors have been generated so far\n",
      "10000 random vectors have been generated so far\n",
      "100000 random vectors have been generated so far\n",
      "**** Starting or restarting experiment ****\n",
      "10 random vectors have been generated so far\n",
      "100 random vectors have been generated so far\n",
      "1000 random vectors have been generated so far\n",
      "10000 random vectors have been generated so far\n",
      "100000 random vectors have been generated so far\n",
      "1000000 random vectors have been generated so far\n",
      "**** Starting or restarting experiment ****\n",
      "10 random vectors have been generated so far\n",
      "100 random vectors have been generated so far\n",
      "1000 random vectors have been generated so far\n",
      "10000 random vectors have been generated so far\n",
      "100000 random vectors have been generated so far\n",
      "1000000 random vectors have been generated so far\n"
     ]
    },
    {
     "data": {
      "image/png": "[encoded data removed]",
      "text/plain": [
       "<matplotlib.figure.Figure at 0x116f11b00>"
      ]
     },
     "metadata": {},
     "output_type": "display_data"
    }
   ],
   "source": [
    "n = 10\n",
    "iterations = 15\n",
    "X_testing = X_diabetes_testing\n",
    "Y_testing = Y_diabetes_testing\n",
    "X_training = X_diabetes_training\n",
    "Y_training = Y_diabetes_training\n",
    "\n",
    "configs = [('ac', 'r^-', 'AC'), ('cc', 'go-', 'CC'), ('random', 'bs-', 'Random')]\n",
    "queries = np.arange(1, iterations + 1)\n",
    "\n",
    "plt.figure(figsize=(12,7))\n",
    "\n",
    "for config in configs:\n",
    "    average_accuracies = \\\n",
    "    experiment.experiment(n, iterations, X_testing, Y_testing, \n",
    "                          X_training, Y_training, center=config[0], \n",
    "                          sample = 1, M=None)\n",
    "    plt.plot(queries, average_accuracies, config[1], label=config[2], \n",
    "             markevery=5,\n",
    "             lw=1.5, ms=10, markerfacecolor='none', markeredgewidth=1.5,\n",
    "             markeredgecolor = config[1][0])\n",
    "\n",
    "plt.xlabel('Number of iterations')\n",
    "plt.ylabel('Accuracy averaged over %d tests' % n)\n",
    "plt.title('Average accuracy of a cutting plane active learning procedure (diabetes data set)')\n",
    "plt.legend(loc='best')\n",
    "\n",
    "plt.savefig('diabetes_experiment.png', dpi=600, bbox_inches='tight', transparent=True)\n",
    "plt.show()"
   ]
  }
 ],
 "metadata": {
  "kernelspec": {
   "display_name": "Python 3",
   "language": "python",
   "name": "python3"
  },
  "language_info": {
   "codemirror_mode": {
    "name": "ipython",
    "version": 3
   },
   "file_extension": ".py",
   "mimetype": "text/x-python",
   "name": "python",
   "nbconvert_exporter": "python",
   "pygments_lexer": "ipython3",
   "version": "3.5.1"
  }
 },
 "nbformat": 4,
 "nbformat_minor": 0
}
