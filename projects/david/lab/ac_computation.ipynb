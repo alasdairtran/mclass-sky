{
 "cells": [
  {
   "cell_type": "markdown",
   "metadata": {},
   "source": [
    "# Analytic center computation"
   ]
  },
  {
   "cell_type": "markdown",
   "metadata": {},
   "source": [
    "# The set-up"
   ]
  },
  {
   "cell_type": "code",
   "execution_count": 1,
   "metadata": {
    "collapsed": true
   },
   "outputs": [],
   "source": [
    "import numpy as np\n",
    "import accpm"
   ]
  },
  {
   "cell_type": "markdown",
   "metadata": {},
   "source": [
    "$\\DeclareMathOperator{\\domain}{dom}\n",
    "\\newcommand{\\transpose}{\\text{T}}\n",
    "\\newcommand{\\vec}[1]{\\begin{pmatrix}#1\\end{pmatrix}}$"
   ]
  },
  {
   "cell_type": "markdown",
   "metadata": {},
   "source": [
    "# Example"
   ]
  },
  {
   "cell_type": "markdown",
   "metadata": {},
   "source": [
    "Suppose we want to find the analytic center $x_{ac} \\in \\mathbb{R}^2$ of the inequalities $x_1 \\leq 1, x_1 \\geq 0, x_2 \\leq 1, x_2 \\geq 0$. This is a unit square centered at $(\\frac{1}{2}, \\frac{1}{2})$ so we should have $x_{ac} = (\\frac{1}{2}, \\frac{1}{2})$. Now, $x_{ac}$ is the solution of the minimization problem \n",
    "\\begin{equation*}\n",
    "    \\min_{\\domain \\phi} \\phi(x) = - \\sum_{i=1}^{4}{\\log{(b_i - a_i^\\transpose x)}}\n",
    "\\end{equation*}\n",
    "where \n",
    "\\begin{equation*}\n",
    "    \\domain \\phi = \\{x \\;|\\; a_i^\\transpose x < b_i, i = 1, 2, 3, 4\\}\n",
    "\\end{equation*}\n",
    "with\n",
    "\\begin{align*}\n",
    "    &a_1 = \\begin{bmatrix}1\\\\0\\end{bmatrix}, &&b_1 = 1, \\\\\n",
    "    &a_2 = \\begin{bmatrix}-1\\\\0\\end{bmatrix}, &&b_2 = 0, \\\\\n",
    "    &a_3 = \\begin{bmatrix}0\\\\1\\end{bmatrix}, &&b_3 = 1, \\\\\n",
    "    &a_4 = \\begin{bmatrix}0\\\\-1\\end{bmatrix}, &&b_4 = 0. \n",
    "\\end{align*}\n",
    "So we solve\n",
    "\\begin{align*}\n",
    "    &\\phantom{iff}\\nabla \\phi(x) = \\sum_{i=1}^{4\n",
    "    } \\frac{1}{b_i - a_i^\\transpose x}a_i = 0 \\\\\n",
    "    &\\iff \\frac{1}{1-x_1}\\begin{bmatrix}1\\\\0\\end{bmatrix} + \\frac{1}{x_1}\\begin{bmatrix}-1\\\\0\\end{bmatrix} + \\frac{1}{1-x_2}\\begin{bmatrix}0\\\\1\\end{bmatrix} + \\frac{1}{x_2}\\begin{bmatrix}0\\\\-1\\end{bmatrix} = 0 \\\\\n",
    "    &\\iff \\frac{1}{1-x_1} - \\frac{1}{x_1} = 0, \\frac{1}{1-x_2} - \\frac{1}{x_2} \\\\\n",
    "    &\\iff x_1 = x_2 = \\frac{1}{2},\n",
    "\\end{align*}\n",
    "as expected."
   ]
  },
  {
   "cell_type": "markdown",
   "metadata": {},
   "source": [
    "# The log barrier function: function, gradient and Hessian"
   ]
  },
  {
   "cell_type": "markdown",
   "metadata": {
    "collapsed": false
   },
   "source": [
    "We test $\\texttt{log_barrier, logb_grad}$ and $\\texttt{logb_hess}$: "
   ]
  },
  {
   "cell_type": "code",
   "execution_count": 2,
   "metadata": {
    "collapsed": false
   },
   "outputs": [
    {
     "name": "stdout",
     "output_type": "stream",
     "text": [
      "Have: x = [ 0.25  0.25] , \n",
      "A=\n",
      " [[ 1  0]\n",
      " [-1  0]\n",
      " [ 0  1]\n",
      " [ 0 -1]] , \n",
      "b= [1 0 1 0]\n",
      "Correct value for log_barrier(x, A, b): 3.34795286714 . \n",
      "Value returned: 3.34795286714\n",
      "Correct value for logb_grad(x, A, b): [-2.6666666666666665, -2.6666666666666665] . \n",
      "Value returned: [-2.66666667 -2.66666667]\n",
      "Correct value for logb_grad(x, A, b): [-2.6666666666666665, -2.6666666666666665] . \n",
      "Value returned: [-2.66666667 -2.66666667]\n",
      "Correct value for logb_hess(x, A, b):\n",
      " [[ 17.77777778   0.        ]\n",
      " [  0.          17.77777778]] . \n",
      "Value returned:\n",
      " [[ 17.77777778   0.        ]\n",
      " [  0.          17.77777778]]\n"
     ]
    }
   ],
   "source": [
    "x = np.array([1/4, 1/4])\n",
    "A = np.array([[1, 0],[-1,0],[0,1],[0,-1]])\n",
    "b = np.array([1, 0, 1, 0])\n",
    "correct_func = -(np.log(0.75*0.25*0.75*0.25))\n",
    "actual_func = accpm.log_barrier(x, A, b)\n",
    "correct_grad = [-8/3, -8/3]\n",
    "actual_grad = accpm.logb_grad(x, A, b)\n",
    "correct_hess = np.array([[16 + 16/9, 0],[0, 16 + 16/9]])\n",
    "actual_hess = accpm.logb_hess(x, A, b)\n",
    "print('Have: x =', x, ', \\nA=\\n', A, ', \\nb=', b)\n",
    "print('Correct value for log_barrier(x, A, b):', correct_func, \n",
    "      '. \\nValue returned:', actual_func)\n",
    "print('Correct value for logb_grad(x, A, b):', correct_grad, \n",
    "      '. \\nValue returned:', actual_grad)\n",
    "print('Correct value for logb_grad(x, A, b):', correct_grad, \n",
    "      '. \\nValue returned:', actual_grad)\n",
    "print('Correct value for logb_hess(x, A, b):\\n', correct_hess, \n",
    "      '. \\nValue returned:\\n', actual_hess)"
   ]
  }
 ],
 "metadata": {
  "kernelspec": {
   "display_name": "Python 3",
   "language": "python",
   "name": "python3"
  },
  "language_info": {
   "codemirror_mode": {
    "name": "ipython",
    "version": 3
   },
   "file_extension": ".py",
   "mimetype": "text/x-python",
   "name": "python",
   "nbconvert_exporter": "python",
   "pygments_lexer": "ipython3",
   "version": "3.5.1"
  }
 },
 "nbformat": 4,
 "nbformat_minor": 0
}
