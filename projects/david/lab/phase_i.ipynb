{
 "cells": [
  {
   "cell_type": "markdown",
   "metadata": {},
   "source": [
    "# Phase I stage for the analytic center computation"
   ]
  },
  {
   "cell_type": "markdown",
   "metadata": {},
   "source": [
    "# The set-up"
   ]
  },
  {
   "cell_type": "code",
   "execution_count": 7,
   "metadata": {
    "collapsed": true
   },
   "outputs": [],
   "source": [
    "import numpy as np\n",
    "import scipy.optimize as opt"
   ]
  },
  {
   "cell_type": "markdown",
   "metadata": {},
   "source": [
    "$\\DeclareMathOperator{\\domain}{dom}\n",
    "\\newcommand{\\transpose}{\\text{T}}\n",
    "\\newcommand{\\vec}[1]{\\begin{pmatrix}#1\\end{pmatrix}}$"
   ]
  },
  {
   "cell_type": "markdown",
   "metadata": {},
   "source": [
    "# Theory and implementation"
   ]
  },
  {
   "cell_type": "markdown",
   "metadata": {},
   "source": [
    "The analytic center is the solution of the problem\n",
    "\\begin{equation*}\n",
    "    \\min_{\\domain \\phi} \\phi(x) = - \\sum_{i=1}^{m}{\\log{(b_i - a_i^\\transpose x)}}\n",
    "\\end{equation*}\n",
    "where \n",
    "\\begin{equation*}\n",
    "    \\domain \\phi = \\{x \\;|\\; a_i^\\transpose x < b_i, i = 1, \\dots, m\\}.\n",
    "\\end{equation*}\n",
    "Our approach in solving this is to\n",
    "  1. use a phase I optimizatin method to find a point in $\\domain \\phi$; and then\n",
    "  2. use this as the initial point for Newton's method to solve our problem. \n",
    "  \n",
    "Here we focus on 1. Now, the phase I optimization problem for this problem's inequalities is \n",
    "\\begin{align*}\n",
    "    &\\text{minimize} \\quad s  \\\\\n",
    "    &\\text{subject to} \\quad a_i^\\transpose x - b_i \\leq s, i = 1, \\dots, m. \\\\\n",
    "\\end{align*}\n",
    "This is always strictly feasible as we can pick any $x^{(0)}$ in the domain of all $f_i$ and then any initial $s > \\max_{i=1, \\dots, m}\\{a_i^\\transpose x^{(0)} - b_i\\}$. We re-write the problem as\n",
    "\\begin{align*}\n",
    "    &\\text{minimize} \\quad s  \\\\\n",
    "    &\\text{subject to} \\quad a_i^\\transpose x - b_i - s \\leq 0, i = 1, \\dots, m, \\\\\n",
    "\\end{align*}\n",
    "where $z = (x, s) \\in \\mathbb{R}^n \\times \\mathbb{R}$. Writing the inequality constraints implicity, equivalently we have\n",
    "\\begin{align*}\n",
    "    \\text{minimize} \\quad s + \\sum_{i=1}^{m}{I_{-}{(a_i^\\transpose x - b_i - s)}}. \n",
    "\\end{align*}\n",
    "As we can approximate $I_{-}$ using the log barrier function we therefore have the approximate problem\n",
    "\\begin{align*}\n",
    "    \\text{minimize} \\quad s + \\sum_{i=1}^{m}-\\left(\\frac{1}{t}\\right)\\log{(-(a_i^\\transpose x - b_i - s))},\n",
    "\\end{align*}\n",
    "or equivalently\n",
    "\\begin{align*}\n",
    "    \\text{minimize} \\quad f_0(z) = ts + \\sum_{i=1}^{m}-\\log{(s + b_i - a_i^\\transpose x)}.\n",
    "\\end{align*}\n",
    "\n",
    "For the gradient we have \n",
    "\\begin{align*}\n",
    "    &[\\nabla f_0(z)]_{i=1}^n = \\sum_{i=1}^{m} \\frac{1}{s+b_i-a_i^\\transpose x}a_i = A^{\\transpose} d  \\text{ where } d = [\\frac{1}{s + b_i - a_i^\\transpose x}]_{i=1}^m, \\\\ \n",
    "    &[\\nabla f_0(z)]_{n+1} = t - \\sum_{i=1}^{m} \\frac{1}{s+b_i-a_i^\\transpose x}. \n",
    "\\end{align*}\n",
    "\n",
    "For the Hessian we have\n",
    "\\begin{align*}\n",
    "    &[H f_0(z)]_{(i, j), 1 \\leq i, j \\leq n} = \n",
    "    \\sum_{i=1}^{m} \\frac{1}{(s+b_i-a_i^\\transpose x)^2}a_i a_i^\\transpose = \n",
    "    A^{\\transpose} \\text{diag}(d)^2 A \\\\ \n",
    "    &[H f_0(z)]_{(i, n+1), 1 \\leq i \\leq n} = \n",
    "    -\\sum_{i=1}^{m} \\frac{1}{(s+b_i-a_i^\\transpose x)^2}a_i =\n",
    "    A^{\\transpose} [\\frac{-1}{(s+b_i-a_i^\\transpose x)^2}]_{i=1}^m\\\\\n",
    "    &[H f_0(z)]_{(n+1, j), 1 \\leq j \\leq n} = \n",
    "    [H f_0(z)]_{(i, n+1), 1 \\leq i \\leq n}^{\\transpose} \\\\\n",
    "    &[H f_0(z)]_{(n+1, n+1)} = \\sum_{i=1}^{m} \\frac{1}{(s+b_i-a_i^\\transpose x)^2}.\n",
    "\\end{align*}\n",
    "\n",
    "Following this, the implementation of the objective function, its gradient and Hessian are as follows:"
   ]
  },
  {
   "cell_type": "code",
   "execution_count": 8,
   "metadata": {
    "collapsed": false
   },
   "outputs": [],
   "source": [
    "def phase_i_func(z, t, A, b):\n",
    "    \"\"\"\n",
    "    Returns the value at z of the objective function of the phase I \n",
    "    optimization problem which has been approximated using the log barrier \n",
    "    function. \n",
    "    \"\"\"\n",
    "    x = z[:-1]\n",
    "    x = np.reshape(x, (x.shape[0], 1))\n",
    "    s = z[-1]\n",
    "    # return t*s - np.log(np.prod(s + (b-np.dot(A, x))))\n",
    "    return t*s - np.sum(np.log(s + (b-np.dot(A, x))))\n",
    "\n",
    "def phase_i_grad(z, t, A, b):\n",
    "    \"\"\"\n",
    "    Returns the gradient of the objective function at z of the phase I \n",
    "    optimization problem which has been approximated using the log barrier \n",
    "    function. \n",
    "    \"\"\"\n",
    "    x = z[:-1]\n",
    "    s = z[-1]\n",
    "    d = 1./(s + (b-np.dot(A, x)))\n",
    "    grad_x = np.dot(np.transpose(A), d)\n",
    "    grad_s = t - np.sum(d)\n",
    "    grad = np.append(grad_x, grad_s)\n",
    "    return grad\n",
    "\n",
    "def phase_i_hess(z, t, A, b):\n",
    "    \"\"\"\n",
    "    Returns the Hessian of the objective function at z of the phase I \n",
    "    optimization problem which has been approximated using the log barrier \n",
    "    function. \n",
    "    \"\"\"\n",
    "    x = z[:-1]\n",
    "    s = z[-1] \n",
    "    d = 1./(s + (b-np.dot(A,x)))\n",
    "    diagd = np.diag(d)\n",
    "    d_sqd = np.power(d, 2)\n",
    "    hess_xx = np.dot(np.dot(np.transpose(A), np.linalg.matrix_power(diagd, 2))\n",
    "                     , A)\n",
    "    hess_xs = -1 * np.dot(np.transpose(A), d_sqd)\n",
    "    hess_sx = np.append(hess_xs, np.sum(d_sqd))\n",
    "    hess_xs = np.reshape(hess_xs, (hess_xs.shape[0],1))\n",
    "    hess = np.hstack((hess_xx, hess_xs))\n",
    "    hess = np.vstack((hess, hess_sx))\n",
    "    return hess"
   ]
  },
  {
   "cell_type": "markdown",
   "metadata": {},
   "source": [
    "We can then implement the barrier method as follows: "
   ]
  },
  {
   "cell_type": "markdown",
   "metadata": {},
   "source": [
    "# The example"
   ]
  },
  {
   "cell_type": "markdown",
   "metadata": {},
   "source": [
    "The example we consider is to find a strictly feasible point in $\\mathbb{R}^2$ of the inequalities $x_1 \\leq 1, x_1 \\geq 0, x_2 \\leq 1, x_2 \\geq 0$. This is a unit square centered at $(\\frac{1}{2}, \\frac{1}{2})$ and as we expect $x_{ac} = (\\frac{1}{2}, \\frac{1}{2})$. Following the notation above we have \n",
    "\\begin{align*}\n",
    "    &a_1 = \\begin{bmatrix}1\\\\0\\end{bmatrix}, &&b_1 = 1, \\\\\n",
    "    &a_2 = \\begin{bmatrix}-1\\\\0\\end{bmatrix}, &&b_2 = 0, \\\\\n",
    "    &a_3 = \\begin{bmatrix}0\\\\1\\end{bmatrix}, &&b_3 = 1, \\\\\n",
    "    &a_4 = \\begin{bmatrix}0\\\\-1\\end{bmatrix}, &&b_4 = 0. \n",
    "\\end{align*}"
   ]
  },
  {
   "cell_type": "markdown",
   "metadata": {},
   "source": [
    "We test $\\texttt{phase_i_func, phase_i_grad}$ and $\\texttt{phase_i_hess}$: "
   ]
  },
  {
   "cell_type": "code",
   "execution_count": null,
   "metadata": {
    "collapsed": true
   },
   "outputs": [],
   "source": []
  },
  {
   "cell_type": "markdown",
   "metadata": {},
   "source": [
    "A toy computation:"
   ]
  },
  {
   "cell_type": "code",
   "execution_count": 16,
   "metadata": {
    "collapsed": false,
    "scrolled": true
   },
   "outputs": [
    {
     "name": "stderr",
     "output_type": "stream",
     "text": [
      "/Users/davidjwu/anaconda/lib/python3.5/site-packages/ipykernel/__main__.py:11: RuntimeWarning: invalid value encountered in log\n",
      "/Users/davidjwu/anaconda/lib/python3.5/site-packages/ipykernel/__main__.py:11: RuntimeWarning: invalid value encountered in log\n",
      "/Users/davidjwu/anaconda/lib/python3.5/site-packages/ipykernel/__main__.py:11: RuntimeWarning: invalid value encountered in log\n",
      "/Users/davidjwu/anaconda/lib/python3.5/site-packages/ipykernel/__main__.py:11: RuntimeWarning: invalid value encountered in log\n",
      "/Users/davidjwu/anaconda/lib/python3.5/site-packages/ipykernel/__main__.py:11: RuntimeWarning: invalid value encountered in log\n"
     ]
    },
    {
     "data": {
      "text/plain": [
       "     fun: nan\n",
       "     jac: array([  1.59917696e-10,   1.59917696e-10,   1.00000000e+01])\n",
       " message: 'Optimization terminated successfully.'\n",
       "    nfev: 84\n",
       "    nhev: 3\n",
       "     nit: 3\n",
       "    njev: 84\n",
       "  status: 0\n",
       " success: True\n",
       "       x: array([  8.28448507e+10,   8.28448507e+10,  -8.88783601e+10])"
      ]
     },
     "execution_count": 16,
     "metadata": {},
     "output_type": "execute_result"
    }
   ],
   "source": [
    "A=np.array([[1, 0],[-1,0],[0,1],[0,-1]])\n",
    "b=np.array([1, 0, 1, 0])\n",
    "x = np.zeros(A[0].shape[0])\n",
    "s = 1 + np.amax(-b)\n",
    "z = np.append(x, s)\n",
    "t = 10\n",
    "\n",
    "opt.minimize(phase_i_func, z, args = (t, A, b),\n",
    "             method='Newton-CG', jac=phase_i_grad, hess = phase_i_hess)"
   ]
  },
  {
   "cell_type": "markdown",
   "metadata": {},
   "source": [
    "The implementation of the phase I optimization procedure is then"
   ]
  },
  {
   "cell_type": "code",
   "execution_count": 10,
   "metadata": {
    "collapsed": true
   },
   "outputs": [],
   "source": [
    "def phase_i_opt(A, b, t=4, mu=15, maxiter=2500):\n",
    "    \"\"\"\n",
    "    Returns a point x that satisfies Ax<b, computed using the barrier method.\n",
    "    \"\"\"\n",
    "    x = np.zeros((A[0].shape[0],1))\n",
    "    s = 0.1*np.fabs(np.amax(-b)) + np.amax(-b)\n",
    "    z = np.vstack((x, s))\n",
    "    i = 0\n",
    "    while z[-1] >= 0 and 4/t >= 1e-5:\n",
    "        result = opt.minimize(phase_i_func, z, args = (t, A, b),\n",
    "                              method='Newton-CG', \n",
    "                              jac=phase_i_grad, hess = phase_i_hess)\n",
    "        z = result.x\n",
    "        t = mu*t\n",
    "        i = i + 1\n",
    "    return z"
   ]
  }
 ],
 "metadata": {
  "kernelspec": {
   "display_name": "Python 3",
   "language": "python",
   "name": "python3"
  },
  "language_info": {
   "codemirror_mode": {
    "name": "ipython",
    "version": 3
   },
   "file_extension": ".py",
   "mimetype": "text/x-python",
   "name": "python",
   "nbconvert_exporter": "python",
   "pygments_lexer": "ipython3",
   "version": "3.5.1"
  }
 },
 "nbformat": 4,
 "nbformat_minor": 0
}
