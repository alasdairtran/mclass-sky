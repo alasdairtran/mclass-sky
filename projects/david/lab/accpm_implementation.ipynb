{
 "cells": [
  {
   "cell_type": "markdown",
   "metadata": {},
   "source": [
    "## Analytic center cutting-plane method (ACCPM) implementation\n",
    "## Last updated: 22 September 2016 "
   ]
  },
  {
   "cell_type": "markdown",
   "metadata": {},
   "source": [
    "## Introduction"
   ]
  },
  {
   "cell_type": "markdown",
   "metadata": {},
   "source": []
  },
  {
   "cell_type": "markdown",
   "metadata": {},
   "source": [
    "## The computing environment"
   ]
  },
  {
   "cell_type": "markdown",
   "metadata": {},
   "source": []
  },
  {
   "cell_type": "code",
   "execution_count": 4,
   "metadata": {
    "collapsed": false
   },
   "outputs": [
    {
     "ename": "ImportError",
     "evalue": "No module named 'acc'",
     "output_type": "error",
     "traceback": [
      "\u001b[0;31m---------------------------------------------------------------------------\u001b[0m",
      "\u001b[0;31mImportError\u001b[0m                               Traceback (most recent call last)",
      "\u001b[0;32m<ipython-input-4-e9297ce8ecde>\u001b[0m in \u001b[0;36m<module>\u001b[0;34m()\u001b[0m\n\u001b[1;32m      1\u001b[0m \u001b[0;32mimport\u001b[0m \u001b[0mnumpy\u001b[0m \u001b[0;32mas\u001b[0m \u001b[0mnp\u001b[0m\u001b[0;34m\u001b[0m\u001b[0m\n\u001b[1;32m      2\u001b[0m \u001b[0;32mimport\u001b[0m \u001b[0mscipy\u001b[0m\u001b[0;34m.\u001b[0m\u001b[0moptimize\u001b[0m \u001b[0;32mas\u001b[0m \u001b[0mopt\u001b[0m\u001b[0;34m\u001b[0m\u001b[0m\n\u001b[0;32m----> 3\u001b[0;31m \u001b[0;32mimport\u001b[0m \u001b[0macc\u001b[0m\u001b[0;34m\u001b[0m\u001b[0m\n\u001b[0m",
      "\u001b[0;31mImportError\u001b[0m: No module named 'acc'"
     ]
    }
   ],
   "source": [
    "import numpy as np\n",
    "import scipy.optimize as opt"
   ]
  },
  {
   "cell_type": "markdown",
   "metadata": {},
   "source": [
    "## Computing the analytic center"
   ]
  },
  {
   "cell_type": "markdown",
   "metadata": {},
   "source": []
  },
  {
   "cell_type": "code",
   "execution_count": null,
   "metadata": {
    "collapsed": false
   },
   "outputs": [],
   "source": [
    "def log_barrier(x, A, b):\n",
    "    \"\"\"\n",
    "    Returns the logarithmic barrier associated with the set of \n",
    "    inequalities Ax <= b evaluated at x.\n",
    "    \n",
    "    It is preferable x, A, b are of type ndarray.\n",
    "    \"\"\"\n",
    "    return -np.log(np.prod(b-np.dot(A, x)))\n",
    "\n",
    "def logb_grad(x, A, b):\n",
    "    \"\"\"\n",
    "    Returns the gradient of the logarithmic barrier associated \n",
    "    with the set of inequalities Ax <= b evaluated at x.\n",
    "    \"\"\"\n",
    "    d = 1./(b-Ax)\n",
    "    return np.dot(np.transpose(A), d)\n",
    "\n",
    "def logb_hess(x, A, b):\n",
    "    \"\"\"\n",
    "    Returns the Hessian of the logarithmic barrier associated \n",
    "    with the set of inequalities Ax <= b evaluated at x.\n",
    "    \"\"\"\n",
    "    d = 1./(b-Ax)\n",
    "    diagd =  np.diag(d)\n",
    "    return np.dot(np.transpose(A), \n",
    "                  np.dot(np.linalg.matrix_power(diagd, 2), A))"
   ]
  },
  {
   "cell_type": "code",
   "execution_count": null,
   "metadata": {
    "collapsed": false
   },
   "outputs": [],
   "source": [
    "# def phase_i_func(z, t, A, b):\n",
    "#     x = z[:-1]\n",
    "#     s = z[-1]\n",
    "#     s = float(s)\n",
    "#     return t*s - np.log(np.prod(s + (b-np.dot(A, x))))\n",
    "\n",
    "# def phase_i_grad(z, t, A, b):\n",
    "#     x = z[:-1]\n",
    "#     s = z[-1]\n",
    "#     s = float(s)\n",
    "#     d = 1./(s + (b-np.dot(A, x)))\n",
    "#     return np.vstack((np.dot(np.transpose(A), d), \n",
    "#                       np.array([[t - np.sum(d)]])))"
   ]
  },
  {
   "cell_type": "code",
   "execution_count": null,
   "metadata": {
    "collapsed": false
   },
   "outputs": [],
   "source": [
    "# A=np.array([[1, 0],[-1,0],[0,1],[0,-1]])\n",
    "# b=np.array([[100],[-99],[100],[-99]])\n",
    "# x = np.zeros((A[0].shape[0],1))\n",
    "# s = 0.1*np.fabs(np.amax(-b)) + np.amax(-b)\n",
    "# z = np.vstack((x,s))\n",
    "# t=4\n",
    "# #(x, s) = np.vsplit(z, [z.shape[0]-1])\n",
    "# x = z[:-1]\n",
    "# s = z[-1]\n",
    "# s = float(s)\n",
    "# d = 1./(s + (b-np.dot(A, x)))\n",
    "# print(d.shape)\n",
    "# print(np.transpose(A).shape)\n",
    "# print(np.dot(np.transpose(A), d))\n",
    "# print(t - np.sum(d))\n",
    "# print(np.vstack((np.dot(np.transpose(A), d), \n",
    "#                      np.array([[t - np.sum(d)]]))))\n",
    "# np.array([[1]]).shape\n",
    "# opt.minimize(phase_i_func, z, args = (t, A, b),\n",
    "#              method='BFGS', jac=phase_i_grad)"
   ]
  },
  {
   "cell_type": "code",
   "execution_count": 104,
   "metadata": {
    "collapsed": true
   },
   "outputs": [],
   "source": [
    "def phase_i_func(z, t, A, b):\n",
    "    x = z[:-1]\n",
    "    x = np.reshape(x, (x.shape[0], 1))\n",
    "    s = z[-1]\n",
    "    return t*s - np.log(np.prod(s + (b-np.dot(A, x))))\n",
    "\n",
    "def phase_i_grad(z, t, A, b):\n",
    "    x = z[:-1]\n",
    "    s = z[-1]\n",
    "    d = 1./(s + (b-np.dot(A, x)))\n",
    "    grad_x = np.dot(np.transpose(A), d)\n",
    "    grad_s = t - np.sum(d)\n",
    "    grad = np.append(grad_x, grad_s)\n",
    "    return grad"
   ]
  },
  {
   "cell_type": "code",
   "execution_count": 95,
   "metadata": {
    "collapsed": false
   },
   "outputs": [
    {
     "name": "stdout",
     "output_type": "stream",
     "text": [
      "s= 1e-05\n",
      "[ 0.  0.]\n",
      "<class 'numpy.ndarray'>\n",
      "1e-05\n",
      "[  0.00000000e+00   0.00000000e+00   1.00000000e-05]\n",
      "[ 0.  0.]\n",
      "[[ 0.]\n",
      " [ 0.]]\n",
      "s = 1e-05\n",
      "(4, 2)\n",
      "(2,)\n",
      "[[ 0.]\n",
      " [ 0.]]\n",
      "[[  9.99990000e-01]\n",
      " [  1.00000000e+05]\n",
      " [  9.99990000e-01]\n",
      " [  1.00000000e+05]]\n",
      "(4, 1)\n",
      "grad_x = [[-99999.00001]\n",
      " [-99999.00001]] with shape (2, 1)\n",
      "grad_x = [-99999.00001 -99999.00001] with shape (2,)\n",
      "grad_s = -196001.99998\n",
      "grad = [ -99999.00001  -99999.00001 -196001.99998]\n"
     ]
    },
    {
     "ename": "ValueError",
     "evalue": "input must be a square array",
     "output_type": "error",
     "traceback": [
      "\u001b[0;31m---------------------------------------------------------------------------\u001b[0m",
      "\u001b[0;31mValueError\u001b[0m                                Traceback (most recent call last)",
      "\u001b[0;32m<ipython-input-95-a5fb3406a8fd>\u001b[0m in \u001b[0;36m<module>\u001b[0;34m()\u001b[0m\n\u001b[1;32m     34\u001b[0m \u001b[0mprint\u001b[0m\u001b[0;34m(\u001b[0m\u001b[0;34m\"grad =\"\u001b[0m\u001b[0;34m,\u001b[0m \u001b[0mgrad\u001b[0m\u001b[0;34m)\u001b[0m\u001b[0;34m\u001b[0m\u001b[0m\n\u001b[1;32m     35\u001b[0m opt.minimize(phase_i_func, z, args = (t, A, b),\n\u001b[0;32m---> 36\u001b[0;31m              method='Newton-CG', jac=phase_i_grad, hess = phase_i_hess)\n\u001b[0m\u001b[1;32m     37\u001b[0m \u001b[0;31m# opt.minimize(phase_i_func, z, args = (t, A, b),\u001b[0m\u001b[0;34m\u001b[0m\u001b[0;34m\u001b[0m\u001b[0m\n\u001b[1;32m     38\u001b[0m \u001b[0;31m#              method='Nelder-Mead')\u001b[0m\u001b[0;34m\u001b[0m\u001b[0;34m\u001b[0m\u001b[0m\n",
      "\u001b[0;32m/Users/davidjwu/anaconda/lib/python3.5/site-packages/scipy/optimize/_minimize.py\u001b[0m in \u001b[0;36mminimize\u001b[0;34m(fun, x0, args, method, jac, hess, hessp, bounds, constraints, tol, callback, options)\u001b[0m\n\u001b[1;32m    442\u001b[0m     \u001b[0;32melif\u001b[0m \u001b[0mmeth\u001b[0m \u001b[0;34m==\u001b[0m \u001b[0;34m'newton-cg'\u001b[0m\u001b[0;34m:\u001b[0m\u001b[0;34m\u001b[0m\u001b[0m\n\u001b[1;32m    443\u001b[0m         return _minimize_newtoncg(fun, x0, args, jac, hess, hessp, callback,\n\u001b[0;32m--> 444\u001b[0;31m                                   **options)\n\u001b[0m\u001b[1;32m    445\u001b[0m     \u001b[0;32melif\u001b[0m \u001b[0mmeth\u001b[0m \u001b[0;34m==\u001b[0m \u001b[0;34m'l-bfgs-b'\u001b[0m\u001b[0;34m:\u001b[0m\u001b[0;34m\u001b[0m\u001b[0m\n\u001b[1;32m    446\u001b[0m         return _minimize_lbfgsb(fun, x0, args, jac, bounds,\n",
      "\u001b[0;32m/Users/davidjwu/anaconda/lib/python3.5/site-packages/scipy/optimize/optimize.py\u001b[0m in \u001b[0;36m_minimize_newtoncg\u001b[0;34m(fun, x0, args, jac, hess, hessp, callback, xtol, eps, maxiter, disp, return_all, **unknown_options)\u001b[0m\n\u001b[1;32m   1407\u001b[0m \u001b[0;34m\u001b[0m\u001b[0m\n\u001b[1;32m   1408\u001b[0m         \u001b[0;32mif\u001b[0m \u001b[0mfhess\u001b[0m \u001b[0;32mis\u001b[0m \u001b[0;32mnot\u001b[0m \u001b[0;32mNone\u001b[0m\u001b[0;34m:\u001b[0m             \u001b[0;31m# you want to compute hessian once.\u001b[0m\u001b[0;34m\u001b[0m\u001b[0m\n\u001b[0;32m-> 1409\u001b[0;31m             \u001b[0mA\u001b[0m \u001b[0;34m=\u001b[0m \u001b[0mfhess\u001b[0m\u001b[0;34m(\u001b[0m\u001b[0;34m*\u001b[0m\u001b[0;34m(\u001b[0m\u001b[0mxk\u001b[0m\u001b[0;34m,\u001b[0m\u001b[0;34m)\u001b[0m \u001b[0;34m+\u001b[0m \u001b[0margs\u001b[0m\u001b[0;34m)\u001b[0m\u001b[0;34m\u001b[0m\u001b[0m\n\u001b[0m\u001b[1;32m   1410\u001b[0m             \u001b[0mhcalls\u001b[0m \u001b[0;34m=\u001b[0m \u001b[0mhcalls\u001b[0m \u001b[0;34m+\u001b[0m \u001b[0;36m1\u001b[0m\u001b[0;34m\u001b[0m\u001b[0m\n\u001b[1;32m   1411\u001b[0m \u001b[0;34m\u001b[0m\u001b[0m\n",
      "\u001b[0;32m<ipython-input-89-795beefe0169>\u001b[0m in \u001b[0;36mphase_i_hess\u001b[0;34m(z, t, A, b)\u001b[0m\n\u001b[1;32m      5\u001b[0m     \u001b[0mdiagd\u001b[0m \u001b[0;34m=\u001b[0m \u001b[0mnp\u001b[0m\u001b[0;34m.\u001b[0m\u001b[0mdiag\u001b[0m\u001b[0;34m(\u001b[0m\u001b[0md\u001b[0m\u001b[0;34m)\u001b[0m\u001b[0;34m\u001b[0m\u001b[0m\n\u001b[1;32m      6\u001b[0m     \u001b[0md_sqd\u001b[0m \u001b[0;34m=\u001b[0m \u001b[0mnp\u001b[0m\u001b[0;34m.\u001b[0m\u001b[0mpower\u001b[0m\u001b[0;34m(\u001b[0m\u001b[0md\u001b[0m\u001b[0;34m,\u001b[0m \u001b[0;36m2\u001b[0m\u001b[0;34m)\u001b[0m\u001b[0;34m\u001b[0m\u001b[0m\n\u001b[0;32m----> 7\u001b[0;31m     hess_xx = np.dot(np.dot(np.transpose(A), np.linalg.matrix_power(diagd, 2))\n\u001b[0m\u001b[1;32m      8\u001b[0m                      , A)\n\u001b[1;32m      9\u001b[0m     \u001b[0mhess_xs\u001b[0m \u001b[0;34m=\u001b[0m \u001b[0;34m-\u001b[0m\u001b[0;36m1\u001b[0m \u001b[0;34m*\u001b[0m \u001b[0mnp\u001b[0m\u001b[0;34m.\u001b[0m\u001b[0mdot\u001b[0m\u001b[0;34m(\u001b[0m\u001b[0mnp\u001b[0m\u001b[0;34m.\u001b[0m\u001b[0mtranspose\u001b[0m\u001b[0;34m(\u001b[0m\u001b[0mA\u001b[0m\u001b[0;34m)\u001b[0m\u001b[0;34m,\u001b[0m \u001b[0md_sqd\u001b[0m\u001b[0;34m)\u001b[0m\u001b[0;34m\u001b[0m\u001b[0m\n",
      "\u001b[0;32m/Users/davidjwu/anaconda/lib/python3.5/site-packages/numpy/matrixlib/defmatrix.py\u001b[0m in \u001b[0;36mmatrix_power\u001b[0;34m(M, n)\u001b[0m\n\u001b[1;32m    171\u001b[0m     \u001b[0mM\u001b[0m \u001b[0;34m=\u001b[0m \u001b[0masanyarray\u001b[0m\u001b[0;34m(\u001b[0m\u001b[0mM\u001b[0m\u001b[0;34m)\u001b[0m\u001b[0;34m\u001b[0m\u001b[0m\n\u001b[1;32m    172\u001b[0m     \u001b[0;32mif\u001b[0m \u001b[0mlen\u001b[0m\u001b[0;34m(\u001b[0m\u001b[0mM\u001b[0m\u001b[0;34m.\u001b[0m\u001b[0mshape\u001b[0m\u001b[0;34m)\u001b[0m \u001b[0;34m!=\u001b[0m \u001b[0;36m2\u001b[0m \u001b[0;32mor\u001b[0m \u001b[0mM\u001b[0m\u001b[0;34m.\u001b[0m\u001b[0mshape\u001b[0m\u001b[0;34m[\u001b[0m\u001b[0;36m0\u001b[0m\u001b[0;34m]\u001b[0m \u001b[0;34m!=\u001b[0m \u001b[0mM\u001b[0m\u001b[0;34m.\u001b[0m\u001b[0mshape\u001b[0m\u001b[0;34m[\u001b[0m\u001b[0;36m1\u001b[0m\u001b[0;34m]\u001b[0m\u001b[0;34m:\u001b[0m\u001b[0;34m\u001b[0m\u001b[0m\n\u001b[0;32m--> 173\u001b[0;31m         \u001b[0;32mraise\u001b[0m \u001b[0mValueError\u001b[0m\u001b[0;34m(\u001b[0m\u001b[0;34m\"input must be a square array\"\u001b[0m\u001b[0;34m)\u001b[0m\u001b[0;34m\u001b[0m\u001b[0m\n\u001b[0m\u001b[1;32m    174\u001b[0m     \u001b[0;32mif\u001b[0m \u001b[0;32mnot\u001b[0m \u001b[0missubdtype\u001b[0m\u001b[0;34m(\u001b[0m\u001b[0mtype\u001b[0m\u001b[0;34m(\u001b[0m\u001b[0mn\u001b[0m\u001b[0;34m)\u001b[0m\u001b[0;34m,\u001b[0m \u001b[0mint\u001b[0m\u001b[0;34m)\u001b[0m\u001b[0;34m:\u001b[0m\u001b[0;34m\u001b[0m\u001b[0m\n\u001b[1;32m    175\u001b[0m         \u001b[0;32mraise\u001b[0m \u001b[0mTypeError\u001b[0m\u001b[0;34m(\u001b[0m\u001b[0;34m\"exponent must be an integer\"\u001b[0m\u001b[0;34m)\u001b[0m\u001b[0;34m\u001b[0m\u001b[0m\n",
      "\u001b[0;31mValueError\u001b[0m: input must be a square array"
     ]
    }
   ],
   "source": [
    "A=np.array([[1, 0],[-1,0],[0,1],[0,-1]])\n",
    "b=np.array([[1],[0],[1],[0]])\n",
    "x = np.zeros(A[0].shape[0])\n",
    "# s = 0.1*np.fabs(np.amax(-b)) + np.amax(-b)\n",
    "s = 0.00001 + np.amax(-b)\n",
    "print(\"s=\", s)\n",
    "print(x)\n",
    "print(type(x))\n",
    "print(s)\n",
    "z = np.append(x, s)\n",
    "print(z)\n",
    "t=4/10e-4\n",
    "#(x, s) = np.vsplit(z, [z.shape[0]-1])\n",
    "x = z[:-1]\n",
    "print(x)\n",
    "print(np.reshape(x, (x.shape[0], 1)))\n",
    "s = z[-1]\n",
    "print(\"s =\", s)\n",
    "print(A.shape)\n",
    "print(x.shape)\n",
    "x_vect = np.reshape(x, (x.shape[0], 1))\n",
    "print(x_vect)\n",
    "d = 1./(s + (b-np.dot(A, x_vect)))\n",
    "print(d)\n",
    "print(d.shape)\n",
    "# print(np.transpose(A).shape)\n",
    "grad_x = np.dot(np.transpose(A), d)\n",
    "print(\"grad_x =\",grad_x, \"with shape\", grad_x.shape)\n",
    "grad_x = np.reshape(grad_x, (grad_x.shape[0],))\n",
    "print(\"grad_x =\",grad_x, \"with shape\", grad_x.shape)\n",
    "grad_s = t - np.sum(d)\n",
    "print(\"grad_s =\", grad_s)\n",
    "grad = np.append(grad_x, grad_s)\n",
    "print(\"grad =\", grad)\n",
    "opt.minimize(phase_i_func, z, args = (t, A, b),\n",
    "             method='Newton-CG', jac=phase_i_grad, hess = phase_i_hess)\n",
    "# opt.minimize(phase_i_func, z, args = (t, A, b),\n",
    "#              method='Nelder-Mead')\n",
    "# options={'disp': True, 'xtol': 1e-04, 'eps': 1e-04, \n",
    "                      #'maxiter': 10000}"
   ]
  },
  {
   "cell_type": "code",
   "execution_count": 111,
   "metadata": {
    "collapsed": false
   },
   "outputs": [
    {
     "name": "stdout",
     "output_type": "stream",
     "text": [
      "[ 2 -2  4 -4]\n",
      "[-2  2 -4  4]\n",
      "[3 7 1 9]\n",
      "[ 0.33333333  0.14285714  1.          0.11111111]\n",
      "[0 0 0 0]\n",
      "[ 0.19047619  0.88888889]\n",
      "0.412698412698\n",
      "[[ 0.13151927  0.         -0.09070295]\n",
      " [ 0.          1.01234568 -0.98765432]\n",
      " [-0.09070295 -0.98765432  1.14386495]]\n"
     ]
    },
    {
     "data": {
      "text/plain": [
       "     fun: -222355930927860.53\n",
       "     jac: array([ -8.91102583e-18,  -4.95851139e-13,   2.00000000e+00])\n",
       " message: 'Optimization terminated successfully.'\n",
       "    nfev: 101\n",
       "    nhev: 6\n",
       "     nit: 6\n",
       "    njev: 101\n",
       "  status: 0\n",
       " success: True\n",
       "       x: array([ -5.50725321e+10,  -1.09179521e+14,  -1.11177965e+14])"
      ]
     },
     "execution_count": 111,
     "metadata": {},
     "output_type": "execute_result"
    }
   ],
   "source": [
    "A = np.array([[1, 0],[-1,0],[0,1],[0,-1]])\n",
    "b = np.array([0, 0, 0, 0])\n",
    " \n",
    "x = np.array([2, 4])\n",
    "s = 5\n",
    "z = np.append(x, s)\n",
    "t = t = \n",
    "x = z[:-1]\n",
    "s = z[-1]\n",
    "print(np.dot(A,x))\n",
    "print(b - np.dot(A,x))\n",
    "print(s + (b - np.dot(A,x)))\n",
    "d = 1./(s + (b-np.dot(A, x)))\n",
    "print(d)\n",
    "print(b)\n",
    "grad_x = np.dot(np.transpose(A), d)\n",
    "grad_s = t - np.sum(d)\n",
    "print(grad_x)\n",
    "print(grad_s)\n",
    "grad = np.append(grad_x, grad_s)\n",
    "print(phase_i_hess(z, t, A, b))\n",
    "opt.minimize(phase_i_func, z, args = (t, A, b),\n",
    "             method='Newton-CG', jac=phase_i_grad, hess = phase_i_hess)\n"
   ]
  },
  {
   "cell_type": "code",
   "execution_count": 1,
   "metadata": {
    "collapsed": false
   },
   "outputs": [
    {
     "ename": "NameError",
     "evalue": "name 'np' is not defined",
     "output_type": "error",
     "traceback": [
      "\u001b[0;31m---------------------------------------------------------------------------\u001b[0m",
      "\u001b[0;31mNameError\u001b[0m                                 Traceback (most recent call last)",
      "\u001b[0;32m<ipython-input-1-6806128460bf>\u001b[0m in \u001b[0;36m<module>\u001b[0;34m()\u001b[0m\n\u001b[0;32m----> 1\u001b[0;31m \u001b[0mA\u001b[0m \u001b[0;34m=\u001b[0m \u001b[0mnp\u001b[0m\u001b[0;34m.\u001b[0m\u001b[0marray\u001b[0m\u001b[0;34m(\u001b[0m\u001b[0;34m[\u001b[0m\u001b[0;34m[\u001b[0m\u001b[0;36m100\u001b[0m\u001b[0;34m,\u001b[0m \u001b[0;36m0\u001b[0m\u001b[0;34m]\u001b[0m\u001b[0;34m,\u001b[0m\u001b[0;34m[\u001b[0m\u001b[0;34m-\u001b[0m\u001b[0;36m100\u001b[0m\u001b[0;34m,\u001b[0m\u001b[0;36m0\u001b[0m\u001b[0;34m]\u001b[0m\u001b[0;34m,\u001b[0m\u001b[0;34m[\u001b[0m\u001b[0;36m0\u001b[0m\u001b[0;34m,\u001b[0m\u001b[0;36m100\u001b[0m\u001b[0;34m]\u001b[0m\u001b[0;34m,\u001b[0m\u001b[0;34m[\u001b[0m\u001b[0;36m0\u001b[0m\u001b[0;34m,\u001b[0m\u001b[0;34m-\u001b[0m\u001b[0;36m100\u001b[0m\u001b[0;34m]\u001b[0m\u001b[0;34m]\u001b[0m\u001b[0;34m)\u001b[0m\u001b[0;34m\u001b[0m\u001b[0m\n\u001b[0m\u001b[1;32m      2\u001b[0m \u001b[0mb\u001b[0m \u001b[0;34m=\u001b[0m \u001b[0mnp\u001b[0m\u001b[0;34m.\u001b[0m\u001b[0marray\u001b[0m\u001b[0;34m(\u001b[0m\u001b[0;34m[\u001b[0m\u001b[0;36m1\u001b[0m\u001b[0;34m,\u001b[0m \u001b[0;36m0\u001b[0m\u001b[0;34m,\u001b[0m \u001b[0;36m1\u001b[0m\u001b[0;34m,\u001b[0m \u001b[0;36m0\u001b[0m\u001b[0;34m]\u001b[0m\u001b[0;34m)\u001b[0m\u001b[0;34m\u001b[0m\u001b[0m\n\u001b[1;32m      3\u001b[0m \u001b[0mt\u001b[0m \u001b[0;34m=\u001b[0m \u001b[0;36m10\u001b[0m\u001b[0;34m\u001b[0m\u001b[0m\n\u001b[1;32m      4\u001b[0m \u001b[0mmu\u001b[0m \u001b[0;34m=\u001b[0m \u001b[0;36m10\u001b[0m\u001b[0;34m\u001b[0m\u001b[0m\n\u001b[1;32m      5\u001b[0m \u001b[0;34m\u001b[0m\u001b[0m\n",
      "\u001b[0;31mNameError\u001b[0m: name 'np' is not defined"
     ]
    }
   ],
   "source": [
    "A = np.array([[100, 0],[-100,0],[0,100],[0,-100]])\n",
    "b = np.array([1, 0, 1, 0])\n",
    "t = 10\n",
    "mu = 10\n",
    " \n",
    "x = np.array([0, 0])\n",
    "s = 0.1\n",
    "z = np.append(x, s)\n",
    "\n",
    "maxiter = 120\n",
    "i = 0\n",
    "\n",
    "while z[-1] >= 0 and 4/t >= 1e-5:\n",
    "    result = opt.minimize(phase_i_func, z, args = (t, A, b),\n",
    "                          method='Newton-CG', \n",
    "                          jac=phase_i_grad, hess = phase_i_hess)\n",
    "    z = result.x\n",
    "    t = mu*t\n",
    "    i = i + 1\n",
    "print(z)"
   ]
  },
  {
   "cell_type": "code",
   "execution_count": 100,
   "metadata": {
    "collapsed": false
   },
   "outputs": [
    {
     "data": {
      "text/plain": [
       "array([[ 0.13151927,  0.        , -0.09070295],\n",
       "       [ 0.        ,  1.01234568, -0.98765432],\n",
       "       [-0.09070295, -0.98765432,  1.14386495]])"
      ]
     },
     "execution_count": 100,
     "metadata": {},
     "output_type": "execute_result"
    }
   ],
   "source": [
    "A = np.array([[1, 0],[-1,0],[0,1],[0,-1]])\n",
    "b = np.array([0, 0, 0, 0])\n",
    " \n",
    "x = np.array([2, 4])\n",
    "s = 5\n",
    "z = np.append(x, s)\n",
    "t = 5\n",
    "\n",
    "phase_i_hess(z, t, A, b)\n"
   ]
  },
  {
   "cell_type": "code",
   "execution_count": 98,
   "metadata": {
    "collapsed": true
   },
   "outputs": [],
   "source": [
    "def phase_i_hess(z, t, A, b):\n",
    "    x = z[:-1]\n",
    "    s = z[-1] \n",
    "    d = 1./(s + (b-np.dot(A,x)))\n",
    "    diagd = np.diag(d)\n",
    "    d_sqd = np.power(d, 2)\n",
    "    hess_xx = np.dot(np.dot(np.transpose(A), np.linalg.matrix_power(diagd, 2))\n",
    "                     , A)\n",
    "    hess_xs = -1 * np.dot(np.transpose(A), d_sqd)\n",
    "    hess_sx = np.append(hess_xs, np.sum(d_sqd))\n",
    "    hess_xs = np.reshape(hess_xs, (hess_xs.shape[0],1))\n",
    "    hess = np.hstack((hess_xx, hess_xs))\n",
    "    hess = np.vstack((hess, hess_sx))\n",
    "    return hess"
   ]
  },
  {
   "cell_type": "code",
   "execution_count": null,
   "metadata": {
    "collapsed": false
   },
   "outputs": [],
   "source": [
    "A=np.array([[1, 0],[-1,0],[0,1],[0,-1]])\n",
    "b=np.array([[100],[-99],[100],[-99]])\n",
    "x = np.zeros(A[0].shape[0])\n",
    "# s = 0.1*np.fabs(np.amax(-b)) + np.amax(-b)\n",
    "s = 0.01*np.fabs(np.amax(-b)) + np.amax(-b)\n",
    "print(x)\n",
    "print(type(x))\n",
    "print(s)\n",
    "z = np.append(x, s)\n",
    "print(z)\n",
    "t=1\n",
    "#(x, s) = np.vsplit(z, [z.shape[0]-1])\n",
    "x = z[:-1]\n",
    "print(x)\n",
    "print(np.reshape(x, (x.shape[0], 1)))\n",
    "s = z[-1]\n",
    "print(\"s =\", s)\n",
    "print(A.shape)\n",
    "print(x.shape)\n",
    "x_vect = np.reshape(x, (x.shape[0], 1))\n",
    "print(x_vect)\n",
    "d = 1./(s + (b-np.dot(A, x_vect)))\n",
    "print(d)\n",
    "print(d.shape)\n",
    "# print(np.transpose(A).shape)\n",
    "grad_x = np.dot(np.transpose(A), d)\n",
    "print(\"grad_x =\",grad_x, \"with shape\", grad_x.shape)\n",
    "grad_x = np.reshape(grad_x, (grad_x.shape[0],))\n",
    "print(\"grad_x =\",grad_x, \"with shape\", grad_x.shape)\n",
    "grad_s = t - np.sum(d)\n",
    "print(\"grad_s =\", grad_s)\n",
    "grad = np.append(grad_x, grad_s)\n",
    "print(\"grad =\", grad)\n",
    "print(\"phase_i_func at z gives\", phase_i_func(np.array([  5.63280638e+50,   1.44029174e+50,  -2.03977114e+55]), t, A, b))\n",
    "z = opt.minimize(phase_i_func, z, args = (t, A, b),\n",
    "             method='CG', jac=phase_i_grad,\n",
    "             options={'disp': True, 'gtol': 1e-03, 'eps': 1e-03, \n",
    "                      'maxiter': 5000}).x\n",
    "print(z)\n",
    "# opt.minimize(phase_i_func, z, args = (t, A, b),\n",
    "#              method='Nelder-Mead').x\n",
    "t = 15*5\n",
    "z = opt.minimize(phase_i_func, z, args = (t, A, b),\n",
    "             method='CG', jac=phase_i_grad,\n",
    "             options={'disp': True, 'gtol': 1e-03, 'eps': 1e-03, \n",
    "                      'maxiter': 5000}).x\n",
    "print(z)"
   ]
  },
  {
   "cell_type": "code",
   "execution_count": null,
   "metadata": {
    "collapsed": true
   },
   "outputs": [],
   "source": [
    "def phase_i_opt(A, b, t=4, mu=15, maxiter=2500):\n",
    "    \"\"\"\n",
    "    Returns a point x that satisfies Ax<b. \n",
    "    \n",
    "    This is computed using the barrier method which relies on\n",
    "    Newton's method.\n",
    "    \"\"\"\n",
    "    x = np.zeros((A[0].shape[0],1))\n",
    "    print(x)\n",
    "    s = 0.1*np.fabs(np.amax(-b)) + np.amax(-b)\n",
    "    print(s)\n",
    "    z = np.vstack((x, s))\n",
    "    print(z)\n",
    "    i = 0\n",
    "    while i < maxiter and z[-1] >= 0:\n",
    "        result = opt.minimize(phase_i_func, z, args = (t, A, b),\n",
    "                          method='BFGS', jac=phase_i_grad)\n",
    "        print(z)\n",
    "        z = result.x\n",
    "        t = mu*t\n",
    "        i = i + 1\n",
    "    print(i)\n",
    "    return z"
   ]
  },
  {
   "cell_type": "code",
   "execution_count": null,
   "metadata": {
    "collapsed": false
   },
   "outputs": [],
   "source": []
  },
  {
   "cell_type": "code",
   "execution_count": null,
   "metadata": {
    "collapsed": false
   },
   "outputs": [],
   "source": [
    "def analytic_center(A, b, epsilon, t, mu, maxiter):\n",
    "    \"\"\"\n",
    "    Returns the analytic center of the given polyhedron.\n",
    "    \n",
    "    polyhed : 2-tuple with ndarray elements \n",
    "        If  polyhed = { z | Az <= b }, for a matrix A and vector\n",
    "        b, then polyhed = (A, b) where A and b are ndarray\n",
    "        representations.\n",
    "    \"\"\"\n",
    "    z = phase_i_opt(A, b, t, mu, maxiter)\n",
    "    result = minimize(log_barrier, z, args=(A, b), \n",
    "                      method='Newton-CG', \n",
    "                      jac=logb_grad, hess = logb_hess)\n",
    "    ac = result.x\n",
    "    return ac"
   ]
  },
  {
   "cell_type": "markdown",
   "metadata": {},
   "source": [
    "## Stopping criterion"
   ]
  },
  {
   "cell_type": "markdown",
   "metadata": {},
   "source": []
  },
  {
   "cell_type": "code",
   "execution_count": null,
   "metadata": {
    "collapsed": false
   },
   "outputs": [],
   "source": [
    "\n",
    "def dual_func\n",
    "\n",
    "def lower_bound(multipliers, differences):\n",
    "    "
   ]
  },
  {
   "cell_type": "markdown",
   "metadata": {},
   "source": [
    "## Oracle"
   ]
  },
  {
   "cell_type": "markdown",
   "metadata": {},
   "source": []
  },
  {
   "cell_type": "code",
   "execution_count": null,
   "metadata": {
    "collapsed": false
   },
   "outputs": [],
   "source": [
    "def feasible(x, constr, epsilon):\n",
    "    for i in range(len(constr)):\n",
    "        fi_x = constr[i](x)\n",
    "        if fi_x > 0:\n",
    "            return (False, fi_x, \n",
    "                    opt.approx_fprime(x, constr[i], epsilon))\n",
    "        else: \n",
    "            return (True, )\n",
    "        \n",
    "def oracle(x, func, grad, constr, epsilon):\n",
    "    feasibility = feasible(x, constr, epsilon)[0]\n",
    "    if feasibility == False:\n",
    "        fi_x = feasibility[1]\n",
    "        grad_fi_x = feasibility[2]\n",
    "        (a, b) = (feasibility[2], \n",
    "                  np.dot(grad_fi_x, x) - fi_x)\n",
    "    else:\n",
    "        (a, b) = (grad(x), np.dot(grad(x), x))\n",
    "    return (feasibility, (a, b))"
   ]
  },
  {
   "cell_type": "markdown",
   "metadata": {},
   "source": [
    "## The analytic center cutting method"
   ]
  },
  {
   "cell_type": "markdown",
   "metadata": {
    "collapsed": false
   },
   "source": []
  },
  {
   "cell_type": "code",
   "execution_count": null,
   "metadata": {
    "collapsed": false
   },
   "outputs": [],
   "source": [
    "def accpm(func, constr, epsilon, A, b, maxiter):\n",
    "    \"\"\"\n",
    "    Solves the specified inequality constrained convex optimization \n",
    "    problem or feasbility problem via the analytic center cutting\n",
    "    plane method (ACCPM). \n",
    "    \n",
    "    Implementation applies to (inequality constrained) convex \n",
    "    optimization problems of the form\n",
    "        minimize f_0(x)\n",
    "        subject to f_i(x) <= 0, i = 1, ..., m,\n",
    "    where f_0, ..., f_m are convex functions. The target set X is the\n",
    "    epsilon-suboptimal set where epsilon is an argument of accpm.\n",
    "    The ACCPM requires a set of linear inequality constraints,\n",
    "    which represents a polyhedron, that all points in X satisfy. \n",
    "    That is, a matrix A and b that give constraints Ax <= b. \n",
    "    \n",
    "    Parameters for convex optimization problems\n",
    "    ----------------\n",
    "    func : callable, func(x)\n",
    "        The objective function f_0 to be minimized.\n",
    "    constr : tuple with callable elements\n",
    "        The required format is constr = (f_1, ..., f_m) where  \n",
    "        f_i(x) is callable for i = 1, ...., m, \n",
    "        So constr[i-1](x) = f_i(x) for i = 1, ..., m.\n",
    "    epsilon : float\n",
    "        Specifies the value to be used for the target set,\n",
    "        an epsilon-suboptimal set.\n",
    "    A : ndarray\n",
    "        Represents the matrix A.\n",
    "    b : ndarray\n",
    "        Represents the vector b. \n",
    "    maxiter : int, optional\n",
    "        Maximum number of iterations to perform.\n",
    "    \"\"\"\n",
    "    k = 0\n",
    "    func_values = []\n",
    "    feasible_values = []\n",
    "    f_best = None\n",
    "    while k < maxiter + 1:\n",
    "        ac = analytic_center(polyhead)\n",
    "        if ac == False: \n",
    "            return False\n",
    "        func_k.append(func(ac))\n",
    "        if stopping() == True:\n",
    "            return (True, ac, func(ac), A, b, k)\n",
    "        data = oracle(ac, func, grad, constr, epsilon)\n",
    "        feasibility = data[0]\n",
    "        func_values.append(func(ac))\n",
    "        if feasibility == True:\n",
    "            feasible_values.append(func(ac))\n",
    "        cp = data[1]\n",
    "        (a, b) = (cp[0], cp[1])\n",
    "        (A, b) = (np.vstack(A, np.transpose(a)),\n",
    "                  np.vstack(b, b))\n",
    "        k = k + 1"
   ]
  }
 ],
 "metadata": {
  "kernelspec": {
   "display_name": "Python 3",
   "language": "python",
   "name": "python3"
  },
  "language_info": {
   "codemirror_mode": {
    "name": "ipython",
    "version": 3
   },
   "file_extension": ".py",
   "mimetype": "text/x-python",
   "name": "python",
   "nbconvert_exporter": "python",
   "pygments_lexer": "ipython3",
   "version": "3.5.1"
  }
 },
 "nbformat": 4,
 "nbformat_minor": 0
}
