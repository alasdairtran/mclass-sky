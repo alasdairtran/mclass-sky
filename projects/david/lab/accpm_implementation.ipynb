{
 "cells": [
  {
   "cell_type": "markdown",
   "metadata": {},
   "source": [
    "## Analytic center cutting-plane method implementation\n",
    "## Last updated: 22 September 2016 "
   ]
  },
  {
   "cell_type": "markdown",
   "metadata": {},
   "source": [
    "## Introduction"
   ]
  },
  {
   "cell_type": "markdown",
   "metadata": {},
   "source": []
  },
  {
   "cell_type": "markdown",
   "metadata": {},
   "source": [
    "## The computing environment"
   ]
  },
  {
   "cell_type": "markdown",
   "metadata": {},
   "source": []
  },
  {
   "cell_type": "code",
   "execution_count": 39,
   "metadata": {
    "collapsed": true
   },
   "outputs": [],
   "source": [
    "import numpy as np\n",
    "import scipy.optimize as opt"
   ]
  },
  {
   "cell_type": "markdown",
   "metadata": {},
   "source": [
    "## Computing the analytic center"
   ]
  },
  {
   "cell_type": "markdown",
   "metadata": {},
   "source": []
  },
  {
   "cell_type": "code",
   "execution_count": 34,
   "metadata": {
    "collapsed": false
   },
   "outputs": [],
   "source": [
    "def log_barrier(x, A, b):\n",
    "    \"\"\"\n",
    "    Returns the logarithmic barrier associated with the set of \n",
    "    inequalities Ax <= b evaluated at x.\n",
    "    \n",
    "    It is preferable x, A, b are of type ndarray.\n",
    "    \"\"\"\n",
    "    return -np.log(np.prod(b-np.dot(A, x)))\n",
    "\n",
    "def logb_grad(x, A, b):\n",
    "    \"\"\"\n",
    "    Returns the gradient of the logarithmic barrier associated \n",
    "    with the set of inequalities Ax <= b evaluated at x.\n",
    "    \"\"\"\n",
    "    d = 1./(b-Ax)\n",
    "    return np.dot(np.transpose(A), d)\n",
    "\n",
    "def logb_hess(x, A, b):\n",
    "    \"\"\"\n",
    "    Returns the Hessian of the logarithmic barrier associated \n",
    "    with the set of inequalities Ax <= b evaluated at x.\n",
    "    \"\"\"\n",
    "    d = 1./(b-Ax)\n",
    "    diagd =  np.diag(d)\n",
    "    return np.dot(np.transpose(A), \n",
    "                  np.dot(np.linalg.matrix_power(diagd, 2), A))"
   ]
  },
  {
   "cell_type": "code",
   "execution_count": 12,
   "metadata": {
    "collapsed": false
   },
   "outputs": [],
   "source": [
    "def phase_i_func(z, t, A, b):\n",
    "    (x, s) = np.vsplit(z, [z.shape[0]-1])\n",
    "    return t*s - np.log(np.prod(s + (b-np.dot(A, x))))\n",
    "\n",
    "def phase_i_grad(z, t, A, b):\n",
    "    d = 1./(s + (b-np.dot(A, x)))\n",
    "    return np.vstack(np.dot(np.transpose(A), d), \n",
    "                     (t + np.sum(d))) "
   ]
  },
  {
   "cell_type": "code",
   "execution_count": 8,
   "metadata": {
    "collapsed": true
   },
   "outputs": [],
   "source": [
    "def phase_i_opt(A, b, t, mu, maxiter):\n",
    "    \"\"\"\n",
    "    Returns a point x that satisfies Ax<b. \n",
    "    \n",
    "    This is computed using the barrier method which relies on\n",
    "    Newton's method.\n",
    "    \"\"\"\n",
    "    x = np.zeros(b.shape)\n",
    "    s = 0.1*np.fabs(np.amax(-b)) + np.amax(-b)\n",
    "    z = np.vstack((x, s))\n",
    "    i = 0\n",
    "    while i < maxiter and z[-1] >= 0:\n",
    "        result = minimize(phase_i_func, z, args = (t, A, b),\n",
    "                          method='BFGS', jac=phase_i_grad,)\n",
    "        z = result.x\n",
    "        t = mu*t\n",
    "    return z"
   ]
  },
  {
   "cell_type": "code",
   "execution_count": 10,
   "metadata": {
    "collapsed": false
   },
   "outputs": [],
   "source": [
    "def analytic_center(A, b, epsilon, t, mu, maxiter):\n",
    "    \"\"\"\n",
    "    Returns the analytic center of the given polyhedron.\n",
    "    \n",
    "    polyhed : 2-tuple with ndarray elements \n",
    "        If  polyhed = { z | Az <= b }, for a matrix A and vector\n",
    "        b, then polyhed = (A, b) where A and b are ndarray\n",
    "        representations.\n",
    "    \"\"\"\n",
    "    z = phase_i_opt(A, b, t, mu, maxiter)\n",
    "    result = minimize(log_barrier, z, args=(A, b), \n",
    "                      method='Newton-CG', \n",
    "                      jac=logb_grad, hess = logb_hess)\n",
    "    ac = result.x\n",
    "    return ac"
   ]
  },
  {
   "cell_type": "markdown",
   "metadata": {},
   "source": [
    "## Stopping criterion"
   ]
  },
  {
   "cell_type": "markdown",
   "metadata": {},
   "source": []
  },
  {
   "cell_type": "code",
   "execution_count": null,
   "metadata": {
    "collapsed": true
   },
   "outputs": [],
   "source": [
    "\n",
    "def dual_func\n",
    "\n",
    "def lower_bound(multipliers, differences):\n",
    "    "
   ]
  },
  {
   "cell_type": "markdown",
   "metadata": {},
   "source": [
    "## Oracle"
   ]
  },
  {
   "cell_type": "markdown",
   "metadata": {},
   "source": []
  },
  {
   "cell_type": "code",
   "execution_count": 22,
   "metadata": {
    "collapsed": false
   },
   "outputs": [],
   "source": [
    "def feasible(x, constr, epsilon):\n",
    "    for i in range(len(constr)):\n",
    "        fi_x = constr[i](x)\n",
    "        if fi_x > 0:\n",
    "            return (False, fi_x, \n",
    "                    opt.approx_fprime(x, constr[i], epsilon))\n",
    "        else: \n",
    "            return (True, )\n",
    "        \n",
    "def oracle(x, func, grad, constr, epsilon):\n",
    "    feasibility = feasible(x, constr, epsilon)[0]\n",
    "    if feasibility == False:\n",
    "        fi_x = feasibility[1]\n",
    "        grad_fi_x = feasibility[2]\n",
    "        (a, b) = (feasibility[2], \n",
    "                  np.dot(grad_fi_x, x) - fi_x)\n",
    "    else:\n",
    "        (a, b) = (grad(x), np.dot(grad(x), x))\n",
    "    return (feasibility, (a, b))"
   ]
  },
  {
   "cell_type": "markdown",
   "metadata": {},
   "source": [
    "## The analytic center cutting method"
   ]
  },
  {
   "cell_type": "markdown",
   "metadata": {
    "collapsed": false
   },
   "source": []
  },
  {
   "cell_type": "code",
   "execution_count": 23,
   "metadata": {
    "collapsed": false
   },
   "outputs": [],
   "source": [
    "def accpm(func, constr, epsilon, A, b, maxiter):\n",
    "    \"\"\"\n",
    "    Solves the specified inequality constrained convex optimization \n",
    "    problem or feasbility problem via the analytic center cutting\n",
    "    plane method (ACCPM). \n",
    "    \n",
    "    Implementation applies to (inequality constrained) convex \n",
    "    optimization problems of the form\n",
    "        minimize f_0(x)\n",
    "        subject to f_i(x) <= 0, i = 1, ..., m,\n",
    "    where f_0, ..., f_m are convex functions. The target set X is the\n",
    "    epsilon-suboptimal set where epsilon is an argument of accpm.\n",
    "    The ACCPM requires a set of linear inequality constraints,\n",
    "    which represents a polyhedron, that all points in X satisfy. \n",
    "    That is, a matrix A and b that give constraints Ax <= b. \n",
    "    \n",
    "    Parameters for convex optimization problems\n",
    "    ------------\n",
    "    func : callable, func(x)\n",
    "        The objective function f_0 to be minimized.\n",
    "    constr : tuple with callable elements\n",
    "        The required format is constr = (f_1, ..., f_m) where  \n",
    "        f_i(x) is callable for i = 1, ...., m, \n",
    "        So constr[i-1](x) = f_i(x) for i = 1, ..., m.\n",
    "    epsilon : float\n",
    "        Specifies the value to be used for the target set,\n",
    "        an epsilon-suboptimal set.\n",
    "    A : ndarray\n",
    "        Represents the matrix A.\n",
    "    b : ndarray\n",
    "        Represents the vector b. \n",
    "    maxiter : int, optional\n",
    "        Maximum number of iterations to perform.\n",
    "    \"\"\"\n",
    "    k = 0\n",
    "    func_values = []\n",
    "    feasible_values = []\n",
    "    f_best = None\n",
    "    while k < maxiter + 1:\n",
    "        ac = analytic_center(polyhead)\n",
    "        if ac == False: \n",
    "            return False\n",
    "        func_k.append(func(ac))\n",
    "        if stopping() == True:\n",
    "            return (True, ac, func(ac), A, b, k)\n",
    "        data = oracle(ac, func, grad, constr, epsilon)\n",
    "        feasibility = data[0]\n",
    "        func_values.append(func(ac))\n",
    "        if feasibility == True:\n",
    "            feasible_values.append(func(ac))\n",
    "        cp = data[1]\n",
    "        (a, b) = (cp[0], cp[1])\n",
    "        (A, b) = (np.vstack(A, np.transpose(a)),\n",
    "                  np.vstack(b, b))\n",
    "        k = k + 1"
   ]
  }
 ],
 "metadata": {
  "kernelspec": {
   "display_name": "Python 3",
   "language": "python",
   "name": "python3"
  },
  "language_info": {
   "codemirror_mode": {
    "name": "ipython",
    "version": 3
   },
   "file_extension": ".py",
   "mimetype": "text/x-python",
   "name": "python",
   "nbconvert_exporter": "python",
   "pygments_lexer": "ipython3",
   "version": "3.5.1"
  }
 },
 "nbformat": 4,
 "nbformat_minor": 0
}
