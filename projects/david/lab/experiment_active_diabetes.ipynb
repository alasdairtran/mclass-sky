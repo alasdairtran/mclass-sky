{
 "cells": [
  {
   "cell_type": "markdown",
   "metadata": {},
   "source": [
    "# Comparison of the accuracy of a cutting plane active learning procedure using the (i) analytic center; (ii) Chebyshev center; and (iii) random center on the diabetes data set"
   ]
  },
  {
   "cell_type": "markdown",
   "metadata": {},
   "source": [
    "# The set up"
   ]
  },
  {
   "cell_type": "code",
   "execution_count": 1,
   "metadata": {
    "collapsed": false
   },
   "outputs": [],
   "source": [
    "import numpy as np\n",
    "import pandas as pd\n",
    "import active\n",
    "import experiment\n",
    "import logistic_regression as logr\n",
    "from sklearn import datasets # The Iris dataset is imported from here.\n",
    "from IPython.display import display\n",
    "import matplotlib.pyplot as plt\n",
    "%matplotlib inline\n",
    "\n",
    "%load_ext autoreload\n",
    "%autoreload 1\n",
    "%aimport active\n",
    "%aimport experiment\n",
    "%aimport logistic_regression\n",
    "\n",
    "np.set_printoptions(precision=4)"
   ]
  },
  {
   "cell_type": "code",
   "execution_count": 2,
   "metadata": {
    "collapsed": false
   },
   "outputs": [],
   "source": [
    "plt.rcParams['axes.labelsize'] = 15\n",
    "plt.rcParams['axes.titlesize'] = 15\n",
    "plt.rcParams['xtick.labelsize'] = 15\n",
    "plt.rcParams['ytick.labelsize'] = 15\n",
    "plt.rcParams['legend.fontsize'] = 15\n",
    "plt.rcParams['figure.titlesize'] = 18"
   ]
  },
  {
   "cell_type": "markdown",
   "metadata": {},
   "source": [
    "# Importing and processing the diabetes data set"
   ]
  },
  {
   "cell_type": "markdown",
   "metadata": {},
   "source": [
    "In this experiment we work with a data set with 2 classes and 8 features where the classes are divided between whether or not a patient has diabetes and the 8 features correspond to 8 health measurements. \n",
    "\n",
    "The 2 classes in this data set are not linearly seperable and it is known that the data set has missing variables.\n",
    "\n",
    "We work with all features of the data set and  randomly divide the data set into two halves, to be used for training and testing."
   ]
  },
  {
   "cell_type": "code",
   "execution_count": 3,
   "metadata": {
    "collapsed": false
   },
   "outputs": [
    {
     "data": {
      "text/html": [
       "<div>\n",
       "<table border=\"1\" class=\"dataframe\">\n",
       "  <thead>\n",
       "    <tr style=\"text-align: right;\">\n",
       "      <th></th>\n",
       "      <th>diabetes</th>\n",
       "      <th>num preg</th>\n",
       "      <th>plasma</th>\n",
       "      <th>bp</th>\n",
       "      <th>skin fold</th>\n",
       "      <th>insulin</th>\n",
       "      <th>bmi</th>\n",
       "      <th>pedigree</th>\n",
       "      <th>age</th>\n",
       "      <th>ones</th>\n",
       "    </tr>\n",
       "  </thead>\n",
       "  <tbody>\n",
       "    <tr>\n",
       "      <th>0</th>\n",
       "      <td>-1</td>\n",
       "      <td>-0.294118</td>\n",
       "      <td>0.487437</td>\n",
       "      <td>0.180328</td>\n",
       "      <td>-0.292929</td>\n",
       "      <td>-1.000000</td>\n",
       "      <td>0.001490</td>\n",
       "      <td>-0.531170</td>\n",
       "      <td>-0.033333</td>\n",
       "      <td>1.0</td>\n",
       "    </tr>\n",
       "    <tr>\n",
       "      <th>1</th>\n",
       "      <td>1</td>\n",
       "      <td>-0.882353</td>\n",
       "      <td>-0.145729</td>\n",
       "      <td>0.081967</td>\n",
       "      <td>-0.414141</td>\n",
       "      <td>-1.000000</td>\n",
       "      <td>-0.207153</td>\n",
       "      <td>-0.766866</td>\n",
       "      <td>-0.666667</td>\n",
       "      <td>1.0</td>\n",
       "    </tr>\n",
       "    <tr>\n",
       "      <th>2</th>\n",
       "      <td>-1</td>\n",
       "      <td>-0.058824</td>\n",
       "      <td>0.839196</td>\n",
       "      <td>0.049180</td>\n",
       "      <td>-1.000000</td>\n",
       "      <td>-1.000000</td>\n",
       "      <td>-0.305514</td>\n",
       "      <td>-0.492741</td>\n",
       "      <td>-0.633333</td>\n",
       "      <td>1.0</td>\n",
       "    </tr>\n",
       "    <tr>\n",
       "      <th>3</th>\n",
       "      <td>1</td>\n",
       "      <td>-0.882353</td>\n",
       "      <td>-0.105528</td>\n",
       "      <td>0.081967</td>\n",
       "      <td>-0.535354</td>\n",
       "      <td>-0.777778</td>\n",
       "      <td>-0.162444</td>\n",
       "      <td>-0.923997</td>\n",
       "      <td>-1.000000</td>\n",
       "      <td>1.0</td>\n",
       "    </tr>\n",
       "    <tr>\n",
       "      <th>4</th>\n",
       "      <td>-1</td>\n",
       "      <td>-1.000000</td>\n",
       "      <td>0.376884</td>\n",
       "      <td>-0.344262</td>\n",
       "      <td>-0.292929</td>\n",
       "      <td>-0.602837</td>\n",
       "      <td>0.284650</td>\n",
       "      <td>0.887276</td>\n",
       "      <td>-0.600000</td>\n",
       "      <td>1.0</td>\n",
       "    </tr>\n",
       "  </tbody>\n",
       "</table>\n",
       "</div>"
      ],
      "text/plain": [
       "   diabetes  num preg    plasma        bp  skin fold   insulin       bmi  \\\n",
       "0        -1 -0.294118  0.487437  0.180328  -0.292929 -1.000000  0.001490   \n",
       "1         1 -0.882353 -0.145729  0.081967  -0.414141 -1.000000 -0.207153   \n",
       "2        -1 -0.058824  0.839196  0.049180  -1.000000 -1.000000 -0.305514   \n",
       "3         1 -0.882353 -0.105528  0.081967  -0.535354 -0.777778 -0.162444   \n",
       "4        -1 -1.000000  0.376884 -0.344262  -0.292929 -0.602837  0.284650   \n",
       "\n",
       "   pedigree       age  ones  \n",
       "0 -0.531170 -0.033333   1.0  \n",
       "1 -0.766866 -0.666667   1.0  \n",
       "2 -0.492741 -0.633333   1.0  \n",
       "3 -0.923997 -1.000000   1.0  \n",
       "4  0.887276 -0.600000   1.0  "
      ]
     },
     "execution_count": 3,
     "metadata": {},
     "output_type": "execute_result"
    }
   ],
   "source": [
    "names = ['diabetes', 'num preg', 'plasma', 'bp', 'skin fold', 'insulin', 'bmi', 'pedigree', 'age']\n",
    "data = pd.read_csv('diabetes_scale.csv', header=None, names=names)\n",
    "data['ones'] = np.ones((data.shape[0], 1)) # Add a column of ones\n",
    "data.head()"
   ]
  },
  {
   "cell_type": "code",
   "execution_count": 4,
   "metadata": {
    "collapsed": false
   },
   "outputs": [],
   "source": [
    "np.random.seed(1)\n",
    "size = data.shape[0]\n",
    "index = np.arange(size)\n",
    "np.random.shuffle(index)\n",
    "training_index = index[:int(size/2)]\n",
    "testing_index = index[int(size/2):]"
   ]
  },
  {
   "cell_type": "markdown",
   "metadata": {},
   "source": [
    "# Experimental procedure"
   ]
  },
  {
   "cell_type": "markdown",
   "metadata": {},
   "source": [
    "See Section 7.5 of the report."
   ]
  },
  {
   "cell_type": "markdown",
   "metadata": {},
   "source": [
    "# Logistic regression"
   ]
  },
  {
   "cell_type": "code",
   "execution_count": 5,
   "metadata": {
    "collapsed": false
   },
   "outputs": [],
   "source": [
    "Y = data['diabetes']\n",
    "X = data[['num preg', 'plasma', 'bp', 'skin fold', 'insulin', 'bmi', 'pedigree', 'age', 'ones']]\n",
    "X = np.array(X)\n",
    "Y = np.array(Y)\n",
    "Y[Y==-1] = 0\n",
    "\n",
    "X_diabetes_training = X[training_index]\n",
    "Y_diabetes_training = Y[training_index]\n",
    "X_diabetes_testing = X[testing_index]\n",
    "Y_diabetes_testing = Y[testing_index]"
   ]
  },
  {
   "cell_type": "code",
   "execution_count": 6,
   "metadata": {
    "collapsed": false
   },
   "outputs": [
    {
     "name": "stdout",
     "output_type": "stream",
     "text": [
      "[[-0.1765  0.2462  0.1475 ..., -0.9291 -0.4667  1.    ]\n",
      " [-0.7647  0.0854 -0.1475 ..., -0.795  -0.9667  1.    ]\n",
      " [ 0.0588  0.1256  0.3443 ...,  0.0282 -0.0333  1.    ]\n",
      " ..., \n",
      " [ 0.5294  0.2663  0.4754 ..., -0.5687 -0.3     1.    ]\n",
      " [-0.5294  0.7186  0.1803 ..., -0.6576 -0.8333  1.    ]\n",
      " [ 0.0588  0.0251  0.2459 ..., -0.4987 -0.1667  1.    ]]\n"
     ]
    }
   ],
   "source": [
    "print(X_diabetes_testing)"
   ]
  },
  {
   "cell_type": "code",
   "execution_count": 7,
   "metadata": {
    "collapsed": false
   },
   "outputs": [
    {
     "name": "stdout",
     "output_type": "stream",
     "text": [
      "[1 1 0 0 1 1 0 1 1 1 1 1 1 1 1 0 1 0 1 0 1 0 1 1 1 1 1 1 0 1 0 0 1 0 0 0 1\n",
      " 0 1 1 0 0 1 0 0 0 1 1 0 1 1 1 1 1 1 1 1 1 1 0 1 1 1 1 1 0 1 1 1 1 1 0 1 0\n",
      " 1 1 1 1 1 1 1 1 1 0 1 0 1 1 0 0 1 1 1 1 1 1 1 0 1 1 0 1 1 1 1 0 0 1 1 1 1\n",
      " 1 1 0 1 0 0 1 1 0 1 1 1 1 1 0 1 1 1 1 1 0 0 1 1 0 0 1 1 0 1 1 1 1 1 1 0 1\n",
      " 1 1 0 0 1 0 0 0 1 1 1 1 0 1 0 1 1 1 1 0 1 1 1 0 1 0 1 0 0 1 0 1 1 1 1 1 1\n",
      " 0 1 1 0 1 1 0 1 1 1 1 0 1 1 1 0 1 0 1 1 1 1 1 0 0 0 1 1 1 1 0 0 0 0 0 0 0\n",
      " 1 1 1 0 1 1 1 1 0 1 0 1 1 0 1 1 0 1 1 1 1 1 0 1 0 1 0 1 0 1 1 1 0 1 0 0 1\n",
      " 1 0 0 1 1 1 0 0 1 1 0 0 1 1 0 1 1 1 0 1 1 1 0 0 1 1 1 1 1 1 1 1 1 1 1 0 0\n",
      " 1 1 1 0 1 0 1 0 1 1 1 0 1 0 0 0 0 1 1 1 0 1 1 1 1 1 0 1 0 0 1 1 1 1 0 0 0\n",
      " 1 0 1 0 1 0 1 0 1 1 1 1 1 1 0 0 1 1 1 1 0 1 1 1 1 1 1 0 0 1 1 1 1 1 0 0 0\n",
      " 0 1 1 1 1 0 1 0 1 1 0 0 0 0]\n"
     ]
    }
   ],
   "source": [
    "print(Y_diabetes_testing)"
   ]
  },
  {
   "cell_type": "code",
   "execution_count": 8,
   "metadata": {
    "collapsed": false
   },
   "outputs": [
    {
     "name": "stdout",
     "output_type": "stream",
     "text": [
      "[[-0.1765  0.3668  0.2131 ..., -0.5141  0.      1.    ]\n",
      " [-0.8824  0.5176 -0.0164 ..., -0.9137 -0.9667  1.    ]\n",
      " [-0.2941  0.0955 -0.0164 ..., -0.8907 -0.8     1.    ]\n",
      " ..., \n",
      " [ 0.0588  0.2362  0.1475 ..., -0.7472 -0.3667  1.    ]\n",
      " [-1.      0.3869 -0.0164 ..., -0.6106 -1.      1.    ]\n",
      " [-0.4118  0.2261  0.4098 ..., -0.819  -0.6     1.    ]]\n"
     ]
    }
   ],
   "source": [
    "print(X_diabetes_training)"
   ]
  },
  {
   "cell_type": "code",
   "execution_count": 9,
   "metadata": {
    "collapsed": false
   },
   "outputs": [
    {
     "name": "stdout",
     "output_type": "stream",
     "text": [
      "[1 1 1 1 1 1 1 1 1 1 1 1 0 0 1 0 0 1 1 1 0 0 0 0 1 1 1 0 1 0 0 1 1 0 1 0 1\n",
      " 1 1 1 1 1 1 0 1 1 0 0 1 0 1 1 0 1 0 1 0 1 1 1 1 1 0 1 0 1 0 0 1 0 0 1 1 1\n",
      " 0 0 0 1 1 0 0 1 0 0 1 1 0 1 1 1 1 1 1 1 0 1 1 1 0 1 1 1 0 1 1 1 0 1 0 1 0\n",
      " 1 1 1 0 1 1 0 1 0 1 0 0 1 1 1 1 0 1 1 0 1 0 1 1 1 1 1 0 1 0 1 1 0 0 0 1 1\n",
      " 0 1 1 0 1 1 0 0 1 1 1 1 0 0 1 1 0 1 0 0 1 1 0 0 1 1 0 1 0 1 1 1 0 1 1 0 1\n",
      " 1 1 1 0 1 1 1 1 1 0 1 1 1 0 0 0 1 1 1 0 0 1 1 1 0 1 1 0 0 1 0 0 1 1 0 1 1\n",
      " 1 0 0 1 1 1 1 0 0 0 1 1 1 1 1 1 0 1 0 1 1 0 1 1 0 1 1 1 1 0 1 0 1 1 1 1 0\n",
      " 0 1 1 1 1 0 1 1 1 1 1 1 1 1 1 1 1 1 1 1 0 1 1 1 0 1 0 0 0 1 1 0 0 1 0 0 1\n",
      " 1 0 1 0 1 0 1 1 1 0 0 1 0 1 1 0 0 0 1 1 0 1 0 0 1 0 0 1 1 0 0 0 1 0 1 1 0\n",
      " 1 0 1 1 1 1 1 0 0 0 1 1 1 1 0 0 1 1 1 1 1 0 0 1 1 1 1 0 1 1 1 1 1 0 1 1 1\n",
      " 1 0 1 1 1 0 0 1 0 1 1 1 0 1]\n"
     ]
    }
   ],
   "source": [
    "print(Y_diabetes_training)"
   ]
  },
  {
   "cell_type": "markdown",
   "metadata": {},
   "source": [
    "# Using logistic regression as a benchmark"
   ]
  },
  {
   "cell_type": "code",
   "execution_count": 66,
   "metadata": {
    "collapsed": true
   },
   "outputs": [],
   "source": [
    "n = 10\n",
    "iterations = 15\n",
    "X_training = X_diabetes_training\n",
    "Y_training = Y_diabetes_training\n",
    "X_testing = X_diabetes_testing\n",
    "Y_testing = Y_diabetes_testing"
   ]
  },
  {
   "cell_type": "markdown",
   "metadata": {},
   "source": [
    "Here we compute the average accuracy over 10 tests, where for each test the accuracy is computed by training logistic regression on 1 to 15 randomly selected patterns from the same fixed training set, which comprises a uniform sample of half the data set.\n",
    "\n",
    "We note here that the optimization process sometimes fails to converge."
   ]
  },
  {
   "cell_type": "code",
   "execution_count": 53,
   "metadata": {
    "collapsed": false
   },
   "outputs": [],
   "source": [
    "average_accuracies_logr_15 = \\\n",
    "logr.experiment(n, iterations, X_testing, Y_testing, X_training, Y_training)"
   ]
  },
  {
   "cell_type": "code",
   "execution_count": 54,
   "metadata": {
    "collapsed": false
   },
   "outputs": [
    {
     "name": "stdout",
     "output_type": "stream",
     "text": [
      "[ 0.5     0.593   0.6357  0.6594  0.6878  0.6786  0.6596  0.6922  0.6758\n",
      "  0.6815  0.6711  0.668   0.681   0.6807  0.6898]\n"
     ]
    }
   ],
   "source": [
    "print(average_accuracies_logr_15)"
   ]
  },
  {
   "cell_type": "markdown",
   "metadata": {},
   "source": [
    "Here we compute the average accuracy over 10 tests, where for each test the accuracy is computed by training logistic regression on 1 to 30 randomly selected patterns from the same fixed training set, which comprises a uniform sample of half the data set.\n",
    "\n",
    "We compute the accuracy from training logistic regression on 50% and 100% of the training data set also.\n",
    "\n",
    "We note here that the optimization process sometimes fails to converge."
   ]
  },
  {
   "cell_type": "code",
   "execution_count": 55,
   "metadata": {
    "collapsed": false,
    "scrolled": true
   },
   "outputs": [],
   "source": [
    "iterations = 30"
   ]
  },
  {
   "cell_type": "code",
   "execution_count": 56,
   "metadata": {
    "collapsed": true
   },
   "outputs": [],
   "source": [
    "average_accuracies_logr_30 = \\\n",
    "logr.experiment(n, iterations, X_testing, Y_testing, X_training, Y_training)"
   ]
  },
  {
   "cell_type": "code",
   "execution_count": 57,
   "metadata": {
    "collapsed": false
   },
   "outputs": [
    {
     "name": "stdout",
     "output_type": "stream",
     "text": [
      "[ 0.5     0.593   0.6357  0.6594  0.6878  0.6786  0.6596  0.6922  0.6758\n",
      "  0.6815  0.6711  0.668   0.681   0.6807  0.6898  0.6893  0.681   0.6826\n",
      "  0.6927  0.694   0.6982  0.7049  0.7062  0.7068  0.7096  0.7148  0.712\n",
      "  0.7112  0.7125  0.712 ]\n"
     ]
    }
   ],
   "source": [
    "print(average_accuracies_logr_30)"
   ]
  },
  {
   "cell_type": "markdown",
   "metadata": {},
   "source": [
    "Here we train logistic regression on 50% of the training data set, selected random uniformly, and repeat this 10 times to compute the average accuracy. "
   ]
  },
  {
   "cell_type": "code",
   "execution_count": 58,
   "metadata": {
    "collapsed": true
   },
   "outputs": [],
   "source": [
    "n = 10"
   ]
  },
  {
   "cell_type": "code",
   "execution_count": 59,
   "metadata": {
    "collapsed": false
   },
   "outputs": [],
   "source": [
    "size = X_training.shape[0]\n",
    "size_half = int(size/2)\n",
    "accuracies = []\n",
    "for i in range(n):\n",
    "    index_all = np.arange(size)\n",
    "    np.random.shuffle(index_all)\n",
    "    index_half = index_all[:size_half]\n",
    "    X_training_half = X_training[index_half]\n",
    "    Y_training_half = Y_training[index_half]\n",
    "    w_half = logr.train(X_training_half, Y_training_half)\n",
    "    predictions = logr.predict(w_half, X_training_half)\n",
    "    accuracy = logr.compute_accuracy(predictions, Y_training_half)\n",
    "    accuracies.append(accuracy)\n",
    "accuracies = np.array(accuracies)\n",
    "average_accuracy_training_half = np.sum(accuracies)/n"
   ]
  },
  {
   "cell_type": "code",
   "execution_count": 60,
   "metadata": {
    "collapsed": false
   },
   "outputs": [
    {
     "name": "stdout",
     "output_type": "stream",
     "text": [
      "The average accuracy training on 50% of the training data set is 0.777083333333\n"
     ]
    }
   ],
   "source": [
    "print('The average accuracy training on 50% of the training data set is',\\\n",
    "      average_accuracy)"
   ]
  },
  {
   "cell_type": "markdown",
   "metadata": {},
   "source": [
    "Here we simply train logistic regression on half of the data and test it on the other half."
   ]
  },
  {
   "cell_type": "code",
   "execution_count": 67,
   "metadata": {
    "collapsed": false
   },
   "outputs": [],
   "source": [
    "w_training = logr.train(X_training, Y_training)\n",
    "predictions = logr.predict(w_training, X_testing)\n",
    "accuracy_training_all = logr.compute_accuracy(predictions, Y_testing)"
   ]
  },
  {
   "cell_type": "code",
   "execution_count": 68,
   "metadata": {
    "collapsed": false
   },
   "outputs": [
    {
     "name": "stdout",
     "output_type": "stream",
     "text": [
      "The accuracy training on the whole training data set is 0.7604166666666666\n"
     ]
    }
   ],
   "source": [
    "print(\"The accuracy training on the whole training data set is\", accuracy)"
   ]
  },
  {
   "cell_type": "markdown",
   "metadata": {},
   "source": [
    "# Average accuracy of the cutting plane active learning procedure over 10 tests and 15 iterations using the (i) analytic center; (ii) Chebyshev center; and (iii) random center"
   ]
  },
  {
   "cell_type": "code",
   "execution_count": 72,
   "metadata": {
    "collapsed": true
   },
   "outputs": [],
   "source": [
    "Y = data['diabetes']\n",
    "X = data[['num preg', 'plasma', 'bp', 'skin fold', 'insulin', 'bmi', 'pedigree', 'age', 'ones']]\n",
    "X = np.array(X)\n",
    "Y = np.array(Y)\n",
    "\n",
    "X_diabetes_training = X[training_index]\n",
    "Y_diabetes_training = Y[training_index]\n",
    "X_diabetes_testing = X[testing_index]\n",
    "Y_diabetes_testing = Y[testing_index]"
   ]
  },
  {
   "cell_type": "code",
   "execution_count": 73,
   "metadata": {
    "collapsed": true
   },
   "outputs": [],
   "source": [
    "n = 10\n",
    "iterations = 15\n",
    "X_testing = X_diabetes_testing\n",
    "Y_testing = Y_diabetes_testing\n",
    "X_training = X_diabetes_training\n",
    "Y_training = Y_diabetes_training"
   ]
  },
  {
   "cell_type": "code",
   "execution_count": 74,
   "metadata": {
    "collapsed": false
   },
   "outputs": [
    {
     "name": "stdout",
     "output_type": "stream",
     "text": [
      "**** Starting or restarting experiment ****\n",
      "10 random vectors have been generated so far\n",
      "100 random vectors have been generated so far\n",
      "1000 random vectors have been generated so far\n",
      "10000 random vectors have been generated so far\n",
      "100000 random vectors have been generated so far\n",
      "1000000 random vectors have been generated so far\n"
     ]
    }
   ],
   "source": [
    "average_accuracies_ac_15 = \\\n",
    "experiment.experiment(n, iterations, X_testing, Y_testing, \n",
    "                      X_training, Y_training, center='ac', \n",
    "                      sample=1, M=None)"
   ]
  },
  {
   "cell_type": "code",
   "execution_count": 75,
   "metadata": {
    "collapsed": false
   },
   "outputs": [
    {
     "name": "stdout",
     "output_type": "stream",
     "text": [
      "**** Starting or restarting experiment ****\n",
      "10 random vectors have been generated so far\n",
      "100 random vectors have been generated so far\n",
      "1000 random vectors have been generated so far\n",
      "10000 random vectors have been generated so far\n",
      "100000 random vectors have been generated so far\n",
      "1000000 random vectors have been generated so far\n"
     ]
    }
   ],
   "source": [
    "average_accuracies_cc_15 = \\\n",
    "experiment.experiment(n, iterations, X_testing, Y_testing, \n",
    "                      X_training, Y_training, center='cc', \n",
    "                      sample=1, M=None)"
   ]
  },
  {
   "cell_type": "code",
   "execution_count": 76,
   "metadata": {
    "collapsed": false
   },
   "outputs": [
    {
     "name": "stdout",
     "output_type": "stream",
     "text": [
      "**** Starting or restarting experiment ****\n",
      "10 random vectors have been generated so far\n",
      "100 random vectors have been generated so far\n",
      "1000 random vectors have been generated so far\n",
      "10000 random vectors have been generated so far\n",
      "100000 random vectors have been generated so far\n",
      "1000000 random vectors have been generated so far\n"
     ]
    }
   ],
   "source": [
    "average_accuracies_rand_15 = \\\n",
    "experiment.experiment(n, iterations, X_testing, Y_testing, \n",
    "                      X_training, Y_training, center='random', \n",
    "                      sample=1, M=None)"
   ]
  },
  {
   "cell_type": "code",
   "execution_count": 82,
   "metadata": {
    "collapsed": false
   },
   "outputs": [
    {
     "data": {
      "image/png": "[encoded data removed]",
      "text/plain": [
       "<matplotlib.figure.Figure at 0x119edebe0>"
      ]
     },
     "metadata": {},
     "output_type": "display_data"
    }
   ],
   "source": [
    "plt.figure(figsize=(12,7))\n",
    "\n",
    "queries = np.arange(1, iterations + 1)\n",
    "plt.plot(queries, average_accuracies_logr_15, 'mx-', label='LR', \n",
    "         markevery=5,\n",
    "         lw=1.5, ms=10, markerfacecolor='none', markeredgewidth=1.5,\n",
    "         markeredgecolor = 'm')\n",
    "\n",
    "plt.plot(queries, average_accuracies_ac_15, 'r^-', label='AC', \n",
    "         markevery=5,\n",
    "         lw=1.5, ms=10, markerfacecolor='none', markeredgewidth=1.5,\n",
    "         markeredgecolor = 'r')\n",
    "\n",
    "plt.plot(queries, average_accuracies_cc_15, 'go-', label='CC', \n",
    "         markevery=5,\n",
    "         lw=1.5, ms=10, markerfacecolor='none', markeredgewidth=1.5,\n",
    "         markeredgecolor = 'g')\n",
    "\n",
    "plt.plot(queries, average_accuracies_rand_15, 'bs-', label='Random', \n",
    "         markevery=5,\n",
    "         lw=1.5, ms=10, markerfacecolor='none', markeredgewidth=1.5,\n",
    "         markeredgecolor = 'b')\n",
    "\n",
    "plt.plot(queries, [average_accuracy_training_half]*queries.shape[0], 'k--', \n",
    "         color = '0.4', label='LR - half',lw=1.5, ms=10)\n",
    "\n",
    "plt.plot(queries, [accuracy_training_all]*queries.shape[0], 'k-', \n",
    "         color = '0.4', label='LR - all',lw=1.5, ms=10)\n",
    "\n",
    "plt.xlabel('Number of iterations')\n",
    "plt.ylabel('Accuracy averaged over %d tests' % n)\n",
    "plt.title('Average accuracy of a cutting plane active learning procedure (diabetes data set)')\n",
    "plt.legend(loc='best')\n",
    "\n",
    "plt.savefig('diabetes_experiment_all_15.png', dpi=600, bbox_inches='tight', transparent=True)\n",
    "plt.show()"
   ]
  }
 ],
 "metadata": {
  "kernelspec": {
   "display_name": "Python 3",
   "language": "python",
   "name": "python3"
  },
  "language_info": {
   "codemirror_mode": {
    "name": "ipython",
    "version": 3
   },
   "file_extension": ".py",
   "mimetype": "text/x-python",
   "name": "python",
   "nbconvert_exporter": "python",
   "pygments_lexer": "ipython3",
   "version": "3.5.1"
  }
 },
 "nbformat": 4,
 "nbformat_minor": 0
}
