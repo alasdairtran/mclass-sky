{
 "cells": [
  {
   "cell_type": "markdown",
   "metadata": {},
   "source": [
    "# Kernel Density Estimation for outlier detection"
   ]
  },
  {
   "cell_type": "code",
   "execution_count": 1,
   "metadata": {
    "collapsed": true
   },
   "outputs": [],
   "source": [
    "import pandas as pd\n",
    "import numpy as np\n",
    "import matplotlib.pyplot as plt\n",
    "from sklearn.neighbors.kde import KernelDensity\n",
    "\n",
    "%matplotlib inline"
   ]
  },
  {
   "cell_type": "markdown",
   "metadata": {},
   "source": [
    "Read SDSS data, preprocessed by colour indices and reddenning correction"
   ]
  },
  {
   "cell_type": "code",
   "execution_count": 2,
   "metadata": {
    "collapsed": false
   },
   "outputs": [
    {
     "data": {
      "text/html": [
       "<div>\n",
       "<table border=\"1\" class=\"dataframe\">\n",
       "  <thead>\n",
       "    <tr style=\"text-align: right;\">\n",
       "      <th></th>\n",
       "      <th>ra</th>\n",
       "      <th>dec</th>\n",
       "      <th>class</th>\n",
       "      <th>psfMag_r_w14</th>\n",
       "      <th>psf_u_g_w14</th>\n",
       "      <th>psf_g_r_w14</th>\n",
       "      <th>psf_r_i_w14</th>\n",
       "      <th>psf_i_z_w14</th>\n",
       "      <th>petroMag_r_w14</th>\n",
       "      <th>petro_u_g_w14</th>\n",
       "      <th>petro_g_r_w14</th>\n",
       "      <th>petro_r_i_w14</th>\n",
       "      <th>petro_i_z_w14</th>\n",
       "      <th>petroRad_r</th>\n",
       "    </tr>\n",
       "  </thead>\n",
       "  <tbody>\n",
       "    <tr>\n",
       "      <th>0</th>\n",
       "      <td>189.429821</td>\n",
       "      <td>-0.131042</td>\n",
       "      <td>Star</td>\n",
       "      <td>-1.662200</td>\n",
       "      <td>-0.241727</td>\n",
       "      <td>-1.822259</td>\n",
       "      <td>-1.687239</td>\n",
       "      <td>-1.711647</td>\n",
       "      <td>-1.116388</td>\n",
       "      <td>-0.070626</td>\n",
       "      <td>-1.593511</td>\n",
       "      <td>-1.560112</td>\n",
       "      <td>-0.898704</td>\n",
       "      <td>-0.753122</td>\n",
       "    </tr>\n",
       "    <tr>\n",
       "      <th>1</th>\n",
       "      <td>189.453801</td>\n",
       "      <td>-0.097313</td>\n",
       "      <td>Star</td>\n",
       "      <td>-2.012570</td>\n",
       "      <td>-0.439270</td>\n",
       "      <td>-0.909222</td>\n",
       "      <td>-0.912979</td>\n",
       "      <td>-1.080839</td>\n",
       "      <td>-1.422942</td>\n",
       "      <td>-0.203637</td>\n",
       "      <td>-0.830489</td>\n",
       "      <td>-0.827023</td>\n",
       "      <td>-0.549991</td>\n",
       "      <td>-0.761758</td>\n",
       "    </tr>\n",
       "    <tr>\n",
       "      <th>2</th>\n",
       "      <td>189.468747</td>\n",
       "      <td>-0.036000</td>\n",
       "      <td>Star</td>\n",
       "      <td>-2.336939</td>\n",
       "      <td>-0.382566</td>\n",
       "      <td>-0.761093</td>\n",
       "      <td>-0.550549</td>\n",
       "      <td>-1.104779</td>\n",
       "      <td>-1.723089</td>\n",
       "      <td>-0.167706</td>\n",
       "      <td>-0.688523</td>\n",
       "      <td>-0.543300</td>\n",
       "      <td>-0.495537</td>\n",
       "      <td>-0.762067</td>\n",
       "    </tr>\n",
       "    <tr>\n",
       "      <th>3</th>\n",
       "      <td>196.236650</td>\n",
       "      <td>0.412347</td>\n",
       "      <td>Galaxy</td>\n",
       "      <td>1.212605</td>\n",
       "      <td>0.299037</td>\n",
       "      <td>1.139600</td>\n",
       "      <td>1.495727</td>\n",
       "      <td>0.218688</td>\n",
       "      <td>1.150914</td>\n",
       "      <td>-0.239479</td>\n",
       "      <td>1.633250</td>\n",
       "      <td>1.309430</td>\n",
       "      <td>0.391270</td>\n",
       "      <td>-0.455298</td>\n",
       "    </tr>\n",
       "    <tr>\n",
       "      <th>4</th>\n",
       "      <td>196.193644</td>\n",
       "      <td>0.389485</td>\n",
       "      <td>Galaxy</td>\n",
       "      <td>1.429818</td>\n",
       "      <td>-0.922955</td>\n",
       "      <td>0.136786</td>\n",
       "      <td>1.242569</td>\n",
       "      <td>1.943976</td>\n",
       "      <td>1.104454</td>\n",
       "      <td>2.777891</td>\n",
       "      <td>1.323889</td>\n",
       "      <td>1.364680</td>\n",
       "      <td>0.475582</td>\n",
       "      <td>-0.114286</td>\n",
       "    </tr>\n",
       "  </tbody>\n",
       "</table>\n",
       "</div>"
      ],
      "text/plain": [
       "           ra       dec   class  psfMag_r_w14  psf_u_g_w14  psf_g_r_w14  \\\n",
       "0  189.429821 -0.131042    Star     -1.662200    -0.241727    -1.822259   \n",
       "1  189.453801 -0.097313    Star     -2.012570    -0.439270    -0.909222   \n",
       "2  189.468747 -0.036000    Star     -2.336939    -0.382566    -0.761093   \n",
       "3  196.236650  0.412347  Galaxy      1.212605     0.299037     1.139600   \n",
       "4  196.193644  0.389485  Galaxy      1.429818    -0.922955     0.136786   \n",
       "\n",
       "   psf_r_i_w14  psf_i_z_w14  petroMag_r_w14  petro_u_g_w14  petro_g_r_w14  \\\n",
       "0    -1.687239    -1.711647       -1.116388      -0.070626      -1.593511   \n",
       "1    -0.912979    -1.080839       -1.422942      -0.203637      -0.830489   \n",
       "2    -0.550549    -1.104779       -1.723089      -0.167706      -0.688523   \n",
       "3     1.495727     0.218688        1.150914      -0.239479       1.633250   \n",
       "4     1.242569     1.943976        1.104454       2.777891       1.323889   \n",
       "\n",
       "   petro_r_i_w14  petro_i_z_w14  petroRad_r  \n",
       "0      -1.560112      -0.898704   -0.753122  \n",
       "1      -0.827023      -0.549991   -0.761758  \n",
       "2      -0.543300      -0.495537   -0.762067  \n",
       "3       1.309430       0.391270   -0.455298  \n",
       "4       1.364680       0.475582   -0.114286  "
      ]
     },
     "execution_count": 2,
     "metadata": {},
     "output_type": "execute_result"
    }
   ],
   "source": [
    "sdss = pd.read_hdf('../data/sdss.h5', 'sdss')\n",
    "sdss.head()"
   ]
  },
  {
   "cell_type": "markdown",
   "metadata": {},
   "source": [
    "Use the same features as reported in Alasdair Tran's Honours thesis 2015."
   ]
  },
  {
   "cell_type": "code",
   "execution_count": 3,
   "metadata": {
    "collapsed": true
   },
   "outputs": [],
   "source": [
    "target_col = 'class'\n",
    "sdss_features = ['psfMag_r_w14', 'psf_u_g_w14', 'psf_g_r_w14', 'psf_r_i_w14',\n",
    "                'psf_i_z_w14', 'petroMag_r_w14', 'petro_u_g_w14', 'petro_g_r_w14',\n",
    "                'petro_r_i_w14', 'petro_i_z_w14', 'petroRad_r']"
   ]
  },
  {
   "cell_type": "markdown",
   "metadata": {},
   "source": [
    "(**TODO**) Define the training, validation, and test sets, and select appropriate Gaussian kernel bandwidth. Use sklearn's [grid search](http://scikit-learn.org/stable/auto_examples/neighbors/plot_digits_kde_sampling.html) to find a good bandwidth."
   ]
  },
  {
   "cell_type": "code",
   "execution_count": 4,
   "metadata": {
    "collapsed": true
   },
   "outputs": [],
   "source": [
    "h = 1/np.sqrt(0.02) # Bandwidth coming from Alasdair's SVM experiments\n",
    "idx_all = np.random.permutation(len(sdss))\n",
    "idx_train = idx_all[:100000]\n",
    "idx_test = idx_all[:10000]"
   ]
  },
  {
   "cell_type": "markdown",
   "metadata": {},
   "source": [
    "Estimate a kernel density estimator on the training set"
   ]
  },
  {
   "cell_type": "code",
   "execution_count": 5,
   "metadata": {
    "collapsed": false
   },
   "outputs": [
    {
     "data": {
      "text/plain": [
       "KernelDensity(algorithm='auto', atol=0, bandwidth=7.0710678118654755,\n",
       "       breadth_first=True, kernel='gaussian', leaf_size=40,\n",
       "       metric='euclidean', metric_params=None, rtol=1e-05)"
      ]
     },
     "execution_count": 5,
     "metadata": {},
     "output_type": "execute_result"
    }
   ],
   "source": [
    "kde = KernelDensity(kernel='gaussian', bandwidth=h, rtol=1e-5)\n",
    "Xtrain = sdss[sdss_features].ix[idx_train] \n",
    "kde.fit(Xtrain)"
   ]
  },
  {
   "cell_type": "markdown",
   "metadata": {},
   "source": [
    "Use the fitted density to estimate the log density for all items in the test set"
   ]
  },
  {
   "cell_type": "code",
   "execution_count": 6,
   "metadata": {
    "collapsed": false
   },
   "outputs": [],
   "source": [
    "Xtest = sdss[sdss_features].ix[idx_test]\n",
    "pred = kde.score_samples(Xtest)"
   ]
  },
  {
   "cell_type": "markdown",
   "metadata": {},
   "source": [
    "Choose an appropriate threshold for identifying outliers"
   ]
  },
  {
   "cell_type": "code",
   "execution_count": 7,
   "metadata": {
    "collapsed": false
   },
   "outputs": [
    {
     "data": {
      "image/png": "[encoded data removed]",
      "text/plain": [
       "<matplotlib.figure.Figure at 0x104b768d0>"
      ]
     },
     "metadata": {},
     "output_type": "display_data"
    }
   ],
   "source": [
    "_ = plt.hist(pred, bins=50)"
   ]
  },
  {
   "cell_type": "code",
   "execution_count": 8,
   "metadata": {
    "collapsed": false
   },
   "outputs": [
    {
     "data": {
      "text/plain": [
       "array([-40.40748064, -38.15861196, -34.90744968, -34.50653683,\n",
       "       -34.28533322, -34.14706098, -34.10068879, -33.92484664,\n",
       "       -33.86291526, -33.83880354])"
      ]
     },
     "execution_count": 8,
     "metadata": {},
     "output_type": "execute_result"
    }
   ],
   "source": [
    "idx_sort = np.argsort(pred)\n",
    "pred[idx_sort[:10]]"
   ]
  },
  {
   "cell_type": "markdown",
   "metadata": {},
   "source": [
    "Identify the outliers in the dataset. (**TODO**) Export or visualise appropriately for getting feedback from the astronomers."
   ]
  },
  {
   "cell_type": "code",
   "execution_count": 9,
   "metadata": {
    "collapsed": false
   },
   "outputs": [
    {
     "data": {
      "text/html": [
       "<div>\n",
       "<table border=\"1\" class=\"dataframe\">\n",
       "  <thead>\n",
       "    <tr style=\"text-align: right;\">\n",
       "      <th></th>\n",
       "      <th>ra</th>\n",
       "      <th>dec</th>\n",
       "      <th>class</th>\n",
       "      <th>psfMag_r_w14</th>\n",
       "      <th>psf_u_g_w14</th>\n",
       "      <th>psf_g_r_w14</th>\n",
       "      <th>psf_r_i_w14</th>\n",
       "      <th>psf_i_z_w14</th>\n",
       "      <th>petroMag_r_w14</th>\n",
       "      <th>petro_u_g_w14</th>\n",
       "      <th>petro_g_r_w14</th>\n",
       "      <th>petro_r_i_w14</th>\n",
       "      <th>petro_i_z_w14</th>\n",
       "      <th>petroRad_r</th>\n",
       "    </tr>\n",
       "  </thead>\n",
       "  <tbody>\n",
       "    <tr>\n",
       "      <th>356100</th>\n",
       "      <td>247.016146</td>\n",
       "      <td>16.766389</td>\n",
       "      <td>Star</td>\n",
       "      <td>1.141678</td>\n",
       "      <td>0.585969</td>\n",
       "      <td>1.016390</td>\n",
       "      <td>1.801990</td>\n",
       "      <td>-11.359251</td>\n",
       "      <td>0.993846</td>\n",
       "      <td>1.221205</td>\n",
       "      <td>1.442701</td>\n",
       "      <td>1.312873</td>\n",
       "      <td>-10.264575</td>\n",
       "      <td>-0.255242</td>\n",
       "    </tr>\n",
       "    <tr>\n",
       "      <th>1445097</th>\n",
       "      <td>124.329345</td>\n",
       "      <td>0.243335</td>\n",
       "      <td>Star</td>\n",
       "      <td>-0.431172</td>\n",
       "      <td>0.955631</td>\n",
       "      <td>-0.530784</td>\n",
       "      <td>-0.896689</td>\n",
       "      <td>-16.669938</td>\n",
       "      <td>-0.378749</td>\n",
       "      <td>-0.947202</td>\n",
       "      <td>-0.064086</td>\n",
       "      <td>-1.534349</td>\n",
       "      <td>-1.324078</td>\n",
       "      <td>0.091169</td>\n",
       "    </tr>\n",
       "    <tr>\n",
       "      <th>2652364</th>\n",
       "      <td>252.508148</td>\n",
       "      <td>18.886469</td>\n",
       "      <td>Star</td>\n",
       "      <td>0.031854</td>\n",
       "      <td>-1.356903</td>\n",
       "      <td>-2.029131</td>\n",
       "      <td>-2.008913</td>\n",
       "      <td>-1.368899</td>\n",
       "      <td>0.105470</td>\n",
       "      <td>-0.228840</td>\n",
       "      <td>-1.364747</td>\n",
       "      <td>-23.175641</td>\n",
       "      <td>19.237774</td>\n",
       "      <td>0.853671</td>\n",
       "    </tr>\n",
       "    <tr>\n",
       "      <th>1211948</th>\n",
       "      <td>348.343844</td>\n",
       "      <td>-3.319644</td>\n",
       "      <td>Galaxy</td>\n",
       "      <td>1.319126</td>\n",
       "      <td>-1.493136</td>\n",
       "      <td>0.972166</td>\n",
       "      <td>1.227764</td>\n",
       "      <td>1.101164</td>\n",
       "      <td>1.062752</td>\n",
       "      <td>-7.987612</td>\n",
       "      <td>13.069793</td>\n",
       "      <td>0.827783</td>\n",
       "      <td>0.452652</td>\n",
       "      <td>-0.008263</td>\n",
       "    </tr>\n",
       "    <tr>\n",
       "      <th>2238</th>\n",
       "      <td>246.236567</td>\n",
       "      <td>19.428159</td>\n",
       "      <td>Galaxy</td>\n",
       "      <td>1.334696</td>\n",
       "      <td>-0.184851</td>\n",
       "      <td>0.814941</td>\n",
       "      <td>0.331332</td>\n",
       "      <td>0.404435</td>\n",
       "      <td>0.811240</td>\n",
       "      <td>-0.616308</td>\n",
       "      <td>-0.328416</td>\n",
       "      <td>0.408284</td>\n",
       "      <td>-17.872583</td>\n",
       "      <td>0.433625</td>\n",
       "    </tr>\n",
       "    <tr>\n",
       "      <th>1854824</th>\n",
       "      <td>342.945985</td>\n",
       "      <td>14.577794</td>\n",
       "      <td>Star</td>\n",
       "      <td>1.562014</td>\n",
       "      <td>-0.262763</td>\n",
       "      <td>-7.594926</td>\n",
       "      <td>9.895707</td>\n",
       "      <td>-0.942755</td>\n",
       "      <td>1.657026</td>\n",
       "      <td>-0.066282</td>\n",
       "      <td>-5.743700</td>\n",
       "      <td>7.934197</td>\n",
       "      <td>-0.410976</td>\n",
       "      <td>-0.704144</td>\n",
       "    </tr>\n",
       "    <tr>\n",
       "      <th>1444296</th>\n",
       "      <td>188.462077</td>\n",
       "      <td>-0.146153</td>\n",
       "      <td>Galaxy</td>\n",
       "      <td>-0.690798</td>\n",
       "      <td>-2.564508</td>\n",
       "      <td>9.687042</td>\n",
       "      <td>-0.910653</td>\n",
       "      <td>-18.797512</td>\n",
       "      <td>-0.216574</td>\n",
       "      <td>-1.727491</td>\n",
       "      <td>7.723383</td>\n",
       "      <td>-0.760307</td>\n",
       "      <td>-11.668748</td>\n",
       "      <td>-0.815219</td>\n",
       "    </tr>\n",
       "  </tbody>\n",
       "</table>\n",
       "</div>"
      ],
      "text/plain": [
       "                 ra        dec   class  psfMag_r_w14  psf_u_g_w14  \\\n",
       "356100   247.016146  16.766389    Star      1.141678     0.585969   \n",
       "1445097  124.329345   0.243335    Star     -0.431172     0.955631   \n",
       "2652364  252.508148  18.886469    Star      0.031854    -1.356903   \n",
       "1211948  348.343844  -3.319644  Galaxy      1.319126    -1.493136   \n",
       "2238     246.236567  19.428159  Galaxy      1.334696    -0.184851   \n",
       "1854824  342.945985  14.577794    Star      1.562014    -0.262763   \n",
       "1444296  188.462077  -0.146153  Galaxy     -0.690798    -2.564508   \n",
       "\n",
       "         psf_g_r_w14  psf_r_i_w14  psf_i_z_w14  petroMag_r_w14  petro_u_g_w14  \\\n",
       "356100      1.016390     1.801990   -11.359251        0.993846       1.221205   \n",
       "1445097    -0.530784    -0.896689   -16.669938       -0.378749      -0.947202   \n",
       "2652364    -2.029131    -2.008913    -1.368899        0.105470      -0.228840   \n",
       "1211948     0.972166     1.227764     1.101164        1.062752      -7.987612   \n",
       "2238        0.814941     0.331332     0.404435        0.811240      -0.616308   \n",
       "1854824    -7.594926     9.895707    -0.942755        1.657026      -0.066282   \n",
       "1444296     9.687042    -0.910653   -18.797512       -0.216574      -1.727491   \n",
       "\n",
       "         petro_g_r_w14  petro_r_i_w14  petro_i_z_w14  petroRad_r  \n",
       "356100        1.442701       1.312873     -10.264575   -0.255242  \n",
       "1445097      -0.064086      -1.534349      -1.324078    0.091169  \n",
       "2652364      -1.364747     -23.175641      19.237774    0.853671  \n",
       "1211948      13.069793       0.827783       0.452652   -0.008263  \n",
       "2238         -0.328416       0.408284     -17.872583    0.433625  \n",
       "1854824      -5.743700       7.934197      -0.410976   -0.704144  \n",
       "1444296       7.723383      -0.760307     -11.668748   -0.815219  "
      ]
     },
     "execution_count": 9,
     "metadata": {},
     "output_type": "execute_result"
    }
   ],
   "source": [
    "idx_outlier = idx_test[np.where(pred < -34)]\n",
    "sdss.ix[idx_outlier]"
   ]
  },
  {
   "cell_type": "markdown",
   "metadata": {},
   "source": [
    "## Discussion\n",
    "\n",
    "* We need to check for outliers on the whole dataset. This can be done by cross validation (an outer loop). However, we also need to check that the various estimated densities from each split are similar.\n",
    "* We have not used the labels. Consider the difference between regions of low density in the unlabelled case and regions of low density when using only data from a single class.\n",
    "* The original downloaded SDSS data also contains uncertainties about the magnitude, which can be used to cross check whether outliers are noisy measurements.\n",
    "* A set of sanity checks are usually used for cleaning up the data before analysis. Cross check that the outliers mostly fail the sanity checks"
   ]
  },
  {
   "cell_type": "code",
   "execution_count": null,
   "metadata": {
    "collapsed": true
   },
   "outputs": [],
   "source": []
  }
 ],
 "metadata": {
  "kernelspec": {
   "display_name": "Python 3",
   "language": "python",
   "name": "python3"
  },
  "language_info": {
   "codemirror_mode": {
    "name": "ipython",
    "version": 3
   },
   "file_extension": ".py",
   "mimetype": "text/x-python",
   "name": "python",
   "nbconvert_exporter": "python",
   "pygments_lexer": "ipython3",
   "version": "3.4.3"
  }
 },
 "nbformat": 4,
 "nbformat_minor": 0
}
