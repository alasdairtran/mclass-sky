{
 "cells": [
  {
   "cell_type": "markdown",
   "metadata": {},
   "source": [
    "# Kernel Density Estimation for outlier detection"
   ]
  },
  {
   "cell_type": "markdown",
   "metadata": {},
   "source": [
    "# Motivation\n",
    "\n",
    "A common assumption in pattern recognition is that all classes are known. This assumption does not hold in many real-world applications, where classes which are not currently part of the model do exist. \n",
    "\n",
    "In the context of kernel densities, we hypothesize that a novel class is one in which samples in the feature space occur in regions of low density relative to each known class, but in high density relative to the overall population."
   ]
  },
  {
   "cell_type": "code",
   "execution_count": 15,
   "metadata": {
    "collapsed": false
   },
   "outputs": [],
   "source": [
    "import pandas as pd\n",
    "import numpy as np\n",
    "import matplotlib.pyplot as plt\n",
    "from sklearn import metrics\n",
    "from sklearn.neighbors.kde import KernelDensity\n",
    "\n",
    "%matplotlib inline"
   ]
  },
  {
   "cell_type": "markdown",
   "metadata": {},
   "source": [
    "Load sample glass data."
   ]
  },
  {
   "cell_type": "code",
   "execution_count": 92,
   "metadata": {
    "collapsed": false
   },
   "outputs": [
    {
     "data": {
      "text/html": [
       "<div>\n",
       "<table border=\"1\" class=\"dataframe\">\n",
       "  <thead>\n",
       "    <tr style=\"text-align: right;\">\n",
       "      <th></th>\n",
       "      <th>class</th>\n",
       "      <th>0</th>\n",
       "      <th>1</th>\n",
       "      <th>2</th>\n",
       "      <th>3</th>\n",
       "      <th>4</th>\n",
       "      <th>5</th>\n",
       "      <th>6</th>\n",
       "      <th>7</th>\n",
       "    </tr>\n",
       "  </thead>\n",
       "  <tbody>\n",
       "    <tr>\n",
       "      <th>0</th>\n",
       "      <td>1</td>\n",
       "      <td>-0.134323</td>\n",
       "      <td>-0.124812</td>\n",
       "      <td>1.000000</td>\n",
       "      <td>-0.495327</td>\n",
       "      <td>-0.296429</td>\n",
       "      <td>-0.980676</td>\n",
       "      <td>-0.382900</td>\n",
       "      <td>-1</td>\n",
       "    </tr>\n",
       "    <tr>\n",
       "      <th>1</th>\n",
       "      <td>1</td>\n",
       "      <td>-0.432839</td>\n",
       "      <td>-0.049624</td>\n",
       "      <td>0.603564</td>\n",
       "      <td>-0.333333</td>\n",
       "      <td>0.042858</td>\n",
       "      <td>-0.845411</td>\n",
       "      <td>-0.553903</td>\n",
       "      <td>-1</td>\n",
       "    </tr>\n",
       "    <tr>\n",
       "      <th>2</th>\n",
       "      <td>1</td>\n",
       "      <td>-0.558380</td>\n",
       "      <td>-0.157895</td>\n",
       "      <td>0.581292</td>\n",
       "      <td>-0.221184</td>\n",
       "      <td>0.135713</td>\n",
       "      <td>-0.874396</td>\n",
       "      <td>-0.563197</td>\n",
       "      <td>-1</td>\n",
       "    </tr>\n",
       "    <tr>\n",
       "      <th>3</th>\n",
       "      <td>1</td>\n",
       "      <td>-0.428443</td>\n",
       "      <td>-0.254135</td>\n",
       "      <td>0.643653</td>\n",
       "      <td>-0.376947</td>\n",
       "      <td>0.000000</td>\n",
       "      <td>-0.816425</td>\n",
       "      <td>-0.481413</td>\n",
       "      <td>-1</td>\n",
       "    </tr>\n",
       "    <tr>\n",
       "      <th>4</th>\n",
       "      <td>1</td>\n",
       "      <td>-0.449511</td>\n",
       "      <td>-0.236090</td>\n",
       "      <td>0.612472</td>\n",
       "      <td>-0.408100</td>\n",
       "      <td>0.167857</td>\n",
       "      <td>-0.822866</td>\n",
       "      <td>-0.509294</td>\n",
       "      <td>-1</td>\n",
       "    </tr>\n",
       "  </tbody>\n",
       "</table>\n",
       "</div>"
      ],
      "text/plain": [
       "   class         0         1         2         3         4         5  \\\n",
       "0      1 -0.134323 -0.124812  1.000000 -0.495327 -0.296429 -0.980676   \n",
       "1      1 -0.432839 -0.049624  0.603564 -0.333333  0.042858 -0.845411   \n",
       "2      1 -0.558380 -0.157895  0.581292 -0.221184  0.135713 -0.874396   \n",
       "3      1 -0.428443 -0.254135  0.643653 -0.376947  0.000000 -0.816425   \n",
       "4      1 -0.449511 -0.236090  0.612472 -0.408100  0.167857 -0.822866   \n",
       "\n",
       "          6  7  \n",
       "0 -0.382900 -1  \n",
       "1 -0.553903 -1  \n",
       "2 -0.563197 -1  \n",
       "3 -0.481413 -1  \n",
       "4 -0.509294 -1  "
      ]
     },
     "execution_count": 92,
     "metadata": {},
     "output_type": "execute_result"
    }
   ],
   "source": [
    "data = pd.read_csv(\"../data/glass.csv\", index_col=False,names=[\"class\"] + list(range(8))) \n",
    "data_features = [x for x in range(8)]\n",
    "classes = np.unique(data[\"class\"])\n",
    "data.head()"
   ]
  },
  {
   "cell_type": "markdown",
   "metadata": {},
   "source": [
    "Read SDSS data, preprocessed by colour indices and reddenning correction"
   ]
  },
  {
   "cell_type": "code",
   "execution_count": 41,
   "metadata": {
    "collapsed": false
   },
   "outputs": [],
   "source": [
    "# data = pd.read_hdf('../data/sdss.h5', 'sdss')\n",
    "# data.head()"
   ]
  },
  {
   "cell_type": "markdown",
   "metadata": {},
   "source": [
    "Use the same features as reported in Alasdair Tran's Honours thesis 2015."
   ]
  },
  {
   "cell_type": "code",
   "execution_count": 42,
   "metadata": {
    "collapsed": true
   },
   "outputs": [],
   "source": [
    "# target_col = 'class'\n",
    "# data_features = ['psfMag_r_w14', 'psf_u_g_w14', 'psf_g_r_w14', 'psf_r_i_w14',\n",
    "#                 'psf_i_z_w14', 'petroMag_r_w14', 'petro_u_g_w14', 'petro_g_r_w14',\n",
    "#                 'petro_r_i_w14', 'petro_i_z_w14', 'petroRad_r']"
   ]
  },
  {
   "cell_type": "markdown",
   "metadata": {},
   "source": [
    "### Bandwidth Selection\n",
    "\n",
    "We use the median of the pairwise Euclidean distances as a heuristic to determine bandwidth size."
   ]
  },
  {
   "cell_type": "code",
   "execution_count": 51,
   "metadata": {
    "collapsed": false
   },
   "outputs": [
    {
     "name": "stdout",
     "output_type": "stream",
     "text": [
      "Bandwidth: 0.899664948137\n"
     ]
    }
   ],
   "source": [
    "#h = 1/np.sqrt(0.02) # Bandwidth coming from Alasdair's SVM experiments\n",
    "\n",
    "def median_pairwise_distance(X, Y=None):\n",
    "    if Y is None: Y = X\n",
    "    distances = metrics.pairwise_distances(X, Y)\n",
    "    return np.median(distances)\n",
    "\n",
    "h = median_pairwise_distance(data[data_features].values)\n",
    "print(\"Bandwidth:\", h)"
   ]
  },
  {
   "cell_type": "markdown",
   "metadata": {},
   "source": [
    "(**TODO**) Define the training, validation, and test sets, and select appropriate Gaussian kernel bandwidth. Use sklearn's [grid search](http://scikit-learn.org/stable/auto_examples/neighbors/plot_digits_kde_sampling.html) to find a good bandwidth."
   ]
  },
  {
   "cell_type": "code",
   "execution_count": 66,
   "metadata": {
    "collapsed": false
   },
   "outputs": [],
   "source": [
    "num_data = len(data)\n",
    "idx_all = np.random.permutation(num_data)\n",
    "num_train = int(np.floor(0.7*num_data))\n",
    "idx_train = idx_all[:num_train]\n",
    "idx_test = idx_all[num_train:]"
   ]
  },
  {
   "cell_type": "markdown",
   "metadata": {},
   "source": [
    "Estimate a kernel density estimator on the training set"
   ]
  },
  {
   "cell_type": "code",
   "execution_count": 67,
   "metadata": {
    "collapsed": false
   },
   "outputs": [
    {
     "data": {
      "text/plain": [
       "KernelDensity(algorithm='auto', atol=0, bandwidth=0.89966494813743703,\n",
       "       breadth_first=True, kernel='gaussian', leaf_size=40,\n",
       "       metric='euclidean', metric_params=None, rtol=1e-05)"
      ]
     },
     "execution_count": 67,
     "metadata": {},
     "output_type": "execute_result"
    }
   ],
   "source": [
    "kde = KernelDensity(kernel='gaussian', bandwidth=h, rtol=1e-5)\n",
    "Xtrain = data[data_features].ix[idx_train] \n",
    "kde.fit(Xtrain)"
   ]
  },
  {
   "cell_type": "markdown",
   "metadata": {},
   "source": [
    "Use the fitted density to estimate the log density for all items in the test set"
   ]
  },
  {
   "cell_type": "code",
   "execution_count": 89,
   "metadata": {
    "collapsed": false
   },
   "outputs": [],
   "source": [
    "Xtest = data[data_features].ix[idx_test]\n",
    "pred = kde.score_samples(Xtest)"
   ]
  },
  {
   "cell_type": "markdown",
   "metadata": {},
   "source": [
    "Choose an appropriate threshold for identifying outliers"
   ]
  },
  {
   "cell_type": "code",
   "execution_count": 90,
   "metadata": {
    "collapsed": false
   },
   "outputs": [
    {
     "data": {
      "image/png": "[encoded data removed]",
      "text/plain": [
       "<matplotlib.figure.Figure at 0x7f94a6a4bdd8>"
      ]
     },
     "metadata": {},
     "output_type": "display_data"
    }
   ],
   "source": [
    "_ = plt.hist(pred, bins=50)"
   ]
  },
  {
   "cell_type": "code",
   "execution_count": 94,
   "metadata": {
    "collapsed": false
   },
   "outputs": [
    {
     "data": {
      "text/plain": [
       "array([-9.31586784, -8.51016478, -8.20275938, -8.20162763, -8.16754295,\n",
       "       -8.0830018 , -8.07620602, -7.98615994, -7.90797007, -7.76499082])"
      ]
     },
     "execution_count": 94,
     "metadata": {},
     "output_type": "execute_result"
    }
   ],
   "source": [
    "idx_sort = np.argsort(pred)\n",
    "pred[idx_sort[:10]]"
   ]
  },
  {
   "cell_type": "markdown",
   "metadata": {},
   "source": [
    "Identify the outliers in the dataset. (**TODO**) Export or visualise appropriately for getting feedback from the astronomers."
   ]
  },
  {
   "cell_type": "code",
   "execution_count": 71,
   "metadata": {
    "collapsed": false
   },
   "outputs": [
    {
     "data": {
      "text/html": [
       "<div>\n",
       "<table border=\"1\" class=\"dataframe\">\n",
       "  <thead>\n",
       "    <tr style=\"text-align: right;\">\n",
       "      <th></th>\n",
       "      <th>class</th>\n",
       "      <th>0</th>\n",
       "      <th>1</th>\n",
       "      <th>2</th>\n",
       "      <th>3</th>\n",
       "      <th>4</th>\n",
       "      <th>5</th>\n",
       "      <th>6</th>\n",
       "      <th>7</th>\n",
       "    </tr>\n",
       "  </thead>\n",
       "  <tbody>\n",
       "    <tr>\n",
       "      <th>117</th>\n",
       "      <td>2</td>\n",
       "      <td>-0.479371</td>\n",
       "      <td>-0.100752</td>\n",
       "      <td>0.639198</td>\n",
       "      <td>-0.052959</td>\n",
       "      <td>-0.196429</td>\n",
       "      <td>-0.793881</td>\n",
       "      <td>-0.544610</td>\n",
       "      <td>-1.000000</td>\n",
       "    </tr>\n",
       "    <tr>\n",
       "      <th>178</th>\n",
       "      <td>6</td>\n",
       "      <td>-0.373129</td>\n",
       "      <td>0.121805</td>\n",
       "      <td>-0.002227</td>\n",
       "      <td>-0.171340</td>\n",
       "      <td>-0.082144</td>\n",
       "      <td>-1.000000</td>\n",
       "      <td>-0.288104</td>\n",
       "      <td>-1.000000</td>\n",
       "    </tr>\n",
       "    <tr>\n",
       "      <th>213</th>\n",
       "      <td>7</td>\n",
       "      <td>-0.476734</td>\n",
       "      <td>0.052632</td>\n",
       "      <td>-1.000000</td>\n",
       "      <td>0.115265</td>\n",
       "      <td>0.267857</td>\n",
       "      <td>-1.000000</td>\n",
       "      <td>-0.407063</td>\n",
       "      <td>0.060317</td>\n",
       "    </tr>\n",
       "    <tr>\n",
       "      <th>167</th>\n",
       "      <td>5</td>\n",
       "      <td>-0.250215</td>\n",
       "      <td>-0.425564</td>\n",
       "      <td>-1.000000</td>\n",
       "      <td>-0.152648</td>\n",
       "      <td>0.407142</td>\n",
       "      <td>-0.877617</td>\n",
       "      <td>0.133829</td>\n",
       "      <td>-1.000000</td>\n",
       "    </tr>\n",
       "    <tr>\n",
       "      <th>21</th>\n",
       "      <td>1</td>\n",
       "      <td>-0.252852</td>\n",
       "      <td>0.215038</td>\n",
       "      <td>0.670379</td>\n",
       "      <td>-1.000000</td>\n",
       "      <td>-0.210715</td>\n",
       "      <td>-0.990338</td>\n",
       "      <td>-0.336431</td>\n",
       "      <td>-1.000000</td>\n",
       "    </tr>\n",
       "    <tr>\n",
       "      <th>188</th>\n",
       "      <td>7</td>\n",
       "      <td>-0.006144</td>\n",
       "      <td>0.242105</td>\n",
       "      <td>-0.020044</td>\n",
       "      <td>0.102804</td>\n",
       "      <td>-0.839284</td>\n",
       "      <td>-0.755233</td>\n",
       "      <td>-0.195167</td>\n",
       "      <td>-1.000000</td>\n",
       "    </tr>\n",
       "    <tr>\n",
       "      <th>170</th>\n",
       "      <td>5</td>\n",
       "      <td>0.100967</td>\n",
       "      <td>-0.184962</td>\n",
       "      <td>-1.000000</td>\n",
       "      <td>-0.196262</td>\n",
       "      <td>-0.139285</td>\n",
       "      <td>-0.896940</td>\n",
       "      <td>0.265799</td>\n",
       "      <td>-1.000000</td>\n",
       "    </tr>\n",
       "    <tr>\n",
       "      <th>43</th>\n",
       "      <td>1</td>\n",
       "      <td>-0.038631</td>\n",
       "      <td>-0.097744</td>\n",
       "      <td>0.710468</td>\n",
       "      <td>-0.732087</td>\n",
       "      <td>-0.303571</td>\n",
       "      <td>-0.945250</td>\n",
       "      <td>-0.198885</td>\n",
       "      <td>-1.000000</td>\n",
       "    </tr>\n",
       "    <tr>\n",
       "      <th>105</th>\n",
       "      <td>2</td>\n",
       "      <td>0.194032</td>\n",
       "      <td>-0.783459</td>\n",
       "      <td>-1.000000</td>\n",
       "      <td>-0.009346</td>\n",
       "      <td>-0.149999</td>\n",
       "      <td>-0.739130</td>\n",
       "      <td>0.451673</td>\n",
       "      <td>-1.000000</td>\n",
       "    </tr>\n",
       "    <tr>\n",
       "      <th>48</th>\n",
       "      <td>1</td>\n",
       "      <td>-0.027212</td>\n",
       "      <td>-0.254135</td>\n",
       "      <td>0.679287</td>\n",
       "      <td>-0.688474</td>\n",
       "      <td>-0.221429</td>\n",
       "      <td>-0.958132</td>\n",
       "      <td>-0.146840</td>\n",
       "      <td>-1.000000</td>\n",
       "    </tr>\n",
       "    <tr>\n",
       "      <th>174</th>\n",
       "      <td>5</td>\n",
       "      <td>-0.172074</td>\n",
       "      <td>-0.362406</td>\n",
       "      <td>-0.282851</td>\n",
       "      <td>0.171340</td>\n",
       "      <td>-0.153571</td>\n",
       "      <td>-0.755233</td>\n",
       "      <td>-0.206320</td>\n",
       "      <td>-0.847619</td>\n",
       "    </tr>\n",
       "    <tr>\n",
       "      <th>162</th>\n",
       "      <td>3</td>\n",
       "      <td>-0.037751</td>\n",
       "      <td>0.040602</td>\n",
       "      <td>0.683742</td>\n",
       "      <td>-0.613707</td>\n",
       "      <td>-0.446428</td>\n",
       "      <td>-0.925926</td>\n",
       "      <td>-0.310409</td>\n",
       "      <td>-1.000000</td>\n",
       "    </tr>\n",
       "    <tr>\n",
       "      <th>65</th>\n",
       "      <td>1</td>\n",
       "      <td>-0.136081</td>\n",
       "      <td>-0.109774</td>\n",
       "      <td>0.599109</td>\n",
       "      <td>-0.482866</td>\n",
       "      <td>-0.232143</td>\n",
       "      <td>-0.971014</td>\n",
       "      <td>-0.262082</td>\n",
       "      <td>-1.000000</td>\n",
       "    </tr>\n",
       "    <tr>\n",
       "      <th>130</th>\n",
       "      <td>2</td>\n",
       "      <td>-0.067601</td>\n",
       "      <td>-0.091729</td>\n",
       "      <td>-0.550111</td>\n",
       "      <td>-0.333333</td>\n",
       "      <td>-0.149999</td>\n",
       "      <td>-0.893720</td>\n",
       "      <td>0.061338</td>\n",
       "      <td>-1.000000</td>\n",
       "    </tr>\n",
       "    <tr>\n",
       "      <th>64</th>\n",
       "      <td>1</td>\n",
       "      <td>-0.071986</td>\n",
       "      <td>-0.172932</td>\n",
       "      <td>0.665924</td>\n",
       "      <td>-0.619938</td>\n",
       "      <td>-0.214285</td>\n",
       "      <td>-0.942029</td>\n",
       "      <td>-0.223048</td>\n",
       "      <td>-1.000000</td>\n",
       "    </tr>\n",
       "    <tr>\n",
       "      <th>187</th>\n",
       "      <td>7</td>\n",
       "      <td>0.053555</td>\n",
       "      <td>-0.184962</td>\n",
       "      <td>0.487751</td>\n",
       "      <td>-0.414330</td>\n",
       "      <td>-0.082144</td>\n",
       "      <td>-0.806763</td>\n",
       "      <td>-0.368030</td>\n",
       "      <td>-1.000000</td>\n",
       "    </tr>\n",
       "    <tr>\n",
       "      <th>192</th>\n",
       "      <td>7</td>\n",
       "      <td>-0.553995</td>\n",
       "      <td>0.043609</td>\n",
       "      <td>-1.000000</td>\n",
       "      <td>0.557632</td>\n",
       "      <td>0.303571</td>\n",
       "      <td>-0.987118</td>\n",
       "      <td>-0.328996</td>\n",
       "      <td>-0.746032</td>\n",
       "    </tr>\n",
       "    <tr>\n",
       "      <th>212</th>\n",
       "      <td>7</td>\n",
       "      <td>-0.529410</td>\n",
       "      <td>0.097745</td>\n",
       "      <td>-1.000000</td>\n",
       "      <td>0.028037</td>\n",
       "      <td>0.357142</td>\n",
       "      <td>-1.000000</td>\n",
       "      <td>-0.433086</td>\n",
       "      <td>-0.003175</td>\n",
       "    </tr>\n",
       "    <tr>\n",
       "      <th>165</th>\n",
       "      <td>5</td>\n",
       "      <td>-0.072865</td>\n",
       "      <td>-0.750376</td>\n",
       "      <td>-0.162583</td>\n",
       "      <td>-0.208723</td>\n",
       "      <td>0.089286</td>\n",
       "      <td>-0.848631</td>\n",
       "      <td>0.111524</td>\n",
       "      <td>-1.000000</td>\n",
       "    </tr>\n",
       "    <tr>\n",
       "      <th>152</th>\n",
       "      <td>3</td>\n",
       "      <td>-0.417035</td>\n",
       "      <td>-0.124812</td>\n",
       "      <td>0.625835</td>\n",
       "      <td>-0.775701</td>\n",
       "      <td>0.139285</td>\n",
       "      <td>-0.980676</td>\n",
       "      <td>-0.349442</td>\n",
       "      <td>-1.000000</td>\n",
       "    </tr>\n",
       "    <tr>\n",
       "      <th>207</th>\n",
       "      <td>7</td>\n",
       "      <td>-0.371381</td>\n",
       "      <td>0.100752</td>\n",
       "      <td>-1.000000</td>\n",
       "      <td>-0.046729</td>\n",
       "      <td>0.089286</td>\n",
       "      <td>-0.545894</td>\n",
       "      <td>-0.806691</td>\n",
       "      <td>0.828571</td>\n",
       "    </tr>\n",
       "    <tr>\n",
       "      <th>209</th>\n",
       "      <td>7</td>\n",
       "      <td>-0.553995</td>\n",
       "      <td>0.025564</td>\n",
       "      <td>-1.000000</td>\n",
       "      <td>0.613707</td>\n",
       "      <td>0.000000</td>\n",
       "      <td>-0.974235</td>\n",
       "      <td>-0.302974</td>\n",
       "      <td>-0.326984</td>\n",
       "    </tr>\n",
       "    <tr>\n",
       "      <th>0</th>\n",
       "      <td>1</td>\n",
       "      <td>-0.134323</td>\n",
       "      <td>-0.124812</td>\n",
       "      <td>1.000000</td>\n",
       "      <td>-0.495327</td>\n",
       "      <td>-0.296429</td>\n",
       "      <td>-0.980676</td>\n",
       "      <td>-0.382900</td>\n",
       "      <td>-1.000000</td>\n",
       "    </tr>\n",
       "    <tr>\n",
       "      <th>182</th>\n",
       "      <td>6</td>\n",
       "      <td>-0.296747</td>\n",
       "      <td>0.028571</td>\n",
       "      <td>-1.000000</td>\n",
       "      <td>0.121495</td>\n",
       "      <td>0.046427</td>\n",
       "      <td>-1.000000</td>\n",
       "      <td>0.013011</td>\n",
       "      <td>-1.000000</td>\n",
       "    </tr>\n",
       "    <tr>\n",
       "      <th>190</th>\n",
       "      <td>7</td>\n",
       "      <td>-0.562776</td>\n",
       "      <td>-0.052631</td>\n",
       "      <td>-0.207127</td>\n",
       "      <td>-0.065421</td>\n",
       "      <td>0.174999</td>\n",
       "      <td>-1.000000</td>\n",
       "      <td>-0.397770</td>\n",
       "      <td>-0.517460</td>\n",
       "    </tr>\n",
       "  </tbody>\n",
       "</table>\n",
       "</div>"
      ],
      "text/plain": [
       "     class         0         1         2         3         4         5  \\\n",
       "117      2 -0.479371 -0.100752  0.639198 -0.052959 -0.196429 -0.793881   \n",
       "178      6 -0.373129  0.121805 -0.002227 -0.171340 -0.082144 -1.000000   \n",
       "213      7 -0.476734  0.052632 -1.000000  0.115265  0.267857 -1.000000   \n",
       "167      5 -0.250215 -0.425564 -1.000000 -0.152648  0.407142 -0.877617   \n",
       "21       1 -0.252852  0.215038  0.670379 -1.000000 -0.210715 -0.990338   \n",
       "188      7 -0.006144  0.242105 -0.020044  0.102804 -0.839284 -0.755233   \n",
       "170      5  0.100967 -0.184962 -1.000000 -0.196262 -0.139285 -0.896940   \n",
       "43       1 -0.038631 -0.097744  0.710468 -0.732087 -0.303571 -0.945250   \n",
       "105      2  0.194032 -0.783459 -1.000000 -0.009346 -0.149999 -0.739130   \n",
       "48       1 -0.027212 -0.254135  0.679287 -0.688474 -0.221429 -0.958132   \n",
       "174      5 -0.172074 -0.362406 -0.282851  0.171340 -0.153571 -0.755233   \n",
       "162      3 -0.037751  0.040602  0.683742 -0.613707 -0.446428 -0.925926   \n",
       "65       1 -0.136081 -0.109774  0.599109 -0.482866 -0.232143 -0.971014   \n",
       "130      2 -0.067601 -0.091729 -0.550111 -0.333333 -0.149999 -0.893720   \n",
       "64       1 -0.071986 -0.172932  0.665924 -0.619938 -0.214285 -0.942029   \n",
       "187      7  0.053555 -0.184962  0.487751 -0.414330 -0.082144 -0.806763   \n",
       "192      7 -0.553995  0.043609 -1.000000  0.557632  0.303571 -0.987118   \n",
       "212      7 -0.529410  0.097745 -1.000000  0.028037  0.357142 -1.000000   \n",
       "165      5 -0.072865 -0.750376 -0.162583 -0.208723  0.089286 -0.848631   \n",
       "152      3 -0.417035 -0.124812  0.625835 -0.775701  0.139285 -0.980676   \n",
       "207      7 -0.371381  0.100752 -1.000000 -0.046729  0.089286 -0.545894   \n",
       "209      7 -0.553995  0.025564 -1.000000  0.613707  0.000000 -0.974235   \n",
       "0        1 -0.134323 -0.124812  1.000000 -0.495327 -0.296429 -0.980676   \n",
       "182      6 -0.296747  0.028571 -1.000000  0.121495  0.046427 -1.000000   \n",
       "190      7 -0.562776 -0.052631 -0.207127 -0.065421  0.174999 -1.000000   \n",
       "\n",
       "            6         7  \n",
       "117 -0.544610 -1.000000  \n",
       "178 -0.288104 -1.000000  \n",
       "213 -0.407063  0.060317  \n",
       "167  0.133829 -1.000000  \n",
       "21  -0.336431 -1.000000  \n",
       "188 -0.195167 -1.000000  \n",
       "170  0.265799 -1.000000  \n",
       "43  -0.198885 -1.000000  \n",
       "105  0.451673 -1.000000  \n",
       "48  -0.146840 -1.000000  \n",
       "174 -0.206320 -0.847619  \n",
       "162 -0.310409 -1.000000  \n",
       "65  -0.262082 -1.000000  \n",
       "130  0.061338 -1.000000  \n",
       "64  -0.223048 -1.000000  \n",
       "187 -0.368030 -1.000000  \n",
       "192 -0.328996 -0.746032  \n",
       "212 -0.433086 -0.003175  \n",
       "165  0.111524 -1.000000  \n",
       "152 -0.349442 -1.000000  \n",
       "207 -0.806691  0.828571  \n",
       "209 -0.302974 -0.326984  \n",
       "0   -0.382900 -1.000000  \n",
       "182  0.013011 -1.000000  \n",
       "190 -0.397770 -0.517460  "
      ]
     },
     "execution_count": 71,
     "metadata": {},
     "output_type": "execute_result"
    }
   ],
   "source": [
    "idx_outlier = idx_test[np.where(pred < -7)]\n",
    "data.ix[idx_outlier]"
   ]
  },
  {
   "cell_type": "markdown",
   "metadata": {},
   "source": [
    "Calculate class-specific densities"
   ]
  },
  {
   "cell_type": "code",
   "execution_count": 95,
   "metadata": {
    "collapsed": false
   },
   "outputs": [],
   "source": [
    "densities = {}\n",
    "for cl in classes:\n",
    "    Xtrain_cl = data[data[\"class\"]==cl]\n",
    "    densities[cl] = KernelDensity(kernel='gaussian', bandwidth=h, rtol=1e-5)\n",
    "    densities[cl].fit(Xtrain_cl)"
   ]
  },
  {
   "cell_type": "markdown",
   "metadata": {},
   "source": [
    "## Discussion\n",
    "\n",
    "* We need to check for outliers on the whole dataset. This can be done by cross validation (an outer loop). However, we also need to check that the various estimated densities from each split are similar.\n",
    "* We have not used the labels. Consider the difference between regions of low density in the unlabelled case and regions of low density when using only data from a single class.\n",
    "* The original downloaded SDSS data also contains uncertainties about the magnitude, which can be used to cross check whether outliers are noisy measurements.\n",
    "* A set of sanity checks are usually used for cleaning up the data before analysis. Cross check that the outliers mostly fail the sanity checks"
   ]
  },
  {
   "cell_type": "code",
   "execution_count": null,
   "metadata": {
    "collapsed": true
   },
   "outputs": [],
   "source": []
  }
 ],
 "metadata": {
  "kernelspec": {
   "display_name": "Python 3",
   "language": "python",
   "name": "python3"
  },
  "language_info": {
   "codemirror_mode": {
    "name": "ipython",
    "version": 3
   },
   "file_extension": ".py",
   "mimetype": "text/x-python",
   "name": "python",
   "nbconvert_exporter": "python",
   "pygments_lexer": "ipython3",
   "version": "3.4.3"
  }
 },
 "nbformat": 4,
 "nbformat_minor": 0
}
