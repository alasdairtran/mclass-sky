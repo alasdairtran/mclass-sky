{
 "cells": [
  {
   "cell_type": "markdown",
   "metadata": {},
   "source": [
    "# Dataset Prepration"
   ]
  },
  {
   "cell_type": "code",
   "execution_count": 1,
   "metadata": {
    "collapsed": false
   },
   "outputs": [
    {
     "name": "stderr",
     "output_type": "stream",
     "text": [
      "D:\\Projects\\Python\\Anaconda3\\lib\\site-packages\\IPython\\kernel\\__init__.py:13: ShimWarning: The `IPython.kernel` package has been deprecated. You should import from ipykernel or jupyter_client instead.\n",
      "  \"You should import from ipykernel or jupyter_client instead.\", ShimWarning)\n"
     ]
    }
   ],
   "source": [
    "import numpy as np\n",
    "import pandas as pd\n",
    "from astropy.io import fits\n",
    "from sklearn.preprocessing import StandardScaler\n",
    "from mclearn.preprocessing import csv_to_hdf\n",
    "from mclearn.photometry import (reddening_correction_w14,\n",
    "                                correct_magnitudes,\n",
    "                                compute_colours)\n",
    "from mclearn.tools import save_results"
   ]
  },
  {
   "cell_type": "markdown",
   "metadata": {},
   "source": [
    "## SDSS Dataset"
   ]
  },
  {
   "cell_type": "markdown",
   "metadata": {},
   "source": [
    "### Getting the Labelled SDSS Dataset"
   ]
  },
  {
   "cell_type": "markdown",
   "metadata": {},
   "source": [
    "The <a href=\"http://www.sdss.org/\" target=\"_blank\">Sloan Digital Sky Survey</a> (SDSS) is a comprehensive survey of the northern sky. We are interested in a subset of this survey, namely the photometric measurements and spectroscopic labels of around 2.8 million objects. Given the size of the dataset (385MB), we will need to manually query the SDSS server. To do this, create an account on the <a href=\"http://skyserver.sdss.org/CasJobs/\" target=\"_blank\">SDSS CasJobs</a> site and submit the following SQL query to the DR12 catalog:"
   ]
  },
  {
   "cell_type": "markdown",
   "metadata": {},
   "source": [
    "        SELECT\n",
    "        -- right ascension and declination in degrees\n",
    "        p.ra, p.dec,\n",
    "\n",
    "        -- class of object, expert opinion (galaxy, star, or quasar)\n",
    "        CASE s.class WHEN 'GALAXY' THEN 'Galaxy'\n",
    "                     WHEN 'STAR' THEN 'Star'\n",
    "                     WHEN 'QSO' THEN 'Quasar'\n",
    "                     END AS class,\n",
    "\n",
    "        -- subclass of object\n",
    "        s.subclass,\n",
    "\n",
    "        -- redshift of object from spectrum with error, expert opnion\n",
    "        s.z AS redshift,\n",
    "        s.zErr AS redshiftErr,\n",
    "\n",
    "        -- 0 if spectrum is ok\n",
    "        s.zWarning,\n",
    "\n",
    "        -- PSF magnitude measurements in 5 bands (ugriz) with error, assuming object is a point souce\n",
    "        p.psfMag_u, p.psfMagErr_u,\n",
    "        p.psfMag_g, p.psfMagErr_g,\n",
    "        p.psfMag_r, p.psfMagErr_r,\n",
    "        p.psfMag_i, p.psfMagErr_i,\n",
    "        p.psfMag_z, p.psfMagErr_z,\n",
    "\n",
    "        -- Petrosian magnitude measurements in 5 bands (ugriz) with error, assuming object is an extended souce\n",
    "        p.petroMag_u, p.petroMagErr_u,\n",
    "        p.petroMag_g, p.petroMagErr_g,\n",
    "        p.petroMag_r, p.petroMagErr_r,\n",
    "        p.petroMag_i, p.petroMagErr_i,\n",
    "        p.petroMag_z, p.petroMagErr_z,\n",
    "\n",
    "        -- extinction values\n",
    "        p.extinction_u, p.extinction_g, p.extinction_r, p.extinction_i, p.extinction_z,\n",
    "\n",
    "        -- size measurement in r-band in arc seconds\n",
    "        p.petroRad_r, p.petroRadErr_r\n",
    "\n",
    "    FROM PhotoObj AS p\n",
    "       JOIN SpecObj AS s\n",
    "       ON s.bestobjid = p.objid\n",
    "\n",
    "    WHERE\n",
    "        -- only include objects with complete and reasonably accurate data\n",
    "        p.psfMagErr_u BETWEEN 0 AND 3\n",
    "        AND p.psfMagErr_g BETWEEN 0 AND 3\n",
    "        AND p.psfMagErr_r BETWEEN 0 AND 3\n",
    "        AND p.psfMagErr_i BETWEEN 0 AND 3\n",
    "        AND p.psfMagErr_z BETWEEN 0 AND 3\n",
    "        AND p.petroMagErr_u BETWEEN 0 AND 3\n",
    "        AND p.petroMagErr_g BETWEEN 0 AND 3\n",
    "        AND p.petroMagErr_r BETWEEN 0 AND 3\n",
    "        AND p.petroMagErr_i BETWEEN 0 AND 3\n",
    "        AND p.petroMagErr_z BETWEEN 0 AND 3\n",
    "        AND p.petroRadErr_r BETWEEN 0 AND 3\n",
    "        AND s.zErr BETWEEN 0 AND 0.1\n",
    "        AND s.zWarning = 0    -- spectrum is ok"
   ]
  },
  {
   "cell_type": "markdown",
   "metadata": {},
   "source": [
    "The WHERE conditions ensure that we only select the best possible data. Alternatively, you can download the dataset from [here](http://filestore.nicta.com.au/mlrg-data/astro/sdss_dr7_photometry_source.csv.gz). From now, we assume the dataset is stored in **`data/sdss_dr7_photometry_source.csv.gz`**."
   ]
  },
  {
   "cell_type": "markdown",
   "metadata": {},
   "source": [
    "### About the Columns"
   ]
  },
  {
   "cell_type": "markdown",
   "metadata": {},
   "source": [
    "The downloaded dataset is a compressed csv file and can be loaded as a pandas DataFrame."
   ]
  },
  {
   "cell_type": "code",
   "execution_count": 2,
   "metadata": {
    "collapsed": false,
    "scrolled": true
   },
   "outputs": [],
   "source": [
    "sdss = pd.read_csv(\"../data/sdss_dr7_photometry_source.csv.gz\", compression=\"gzip\")"
   ]
  },
  {
   "cell_type": "markdown",
   "metadata": {},
   "source": [
    "Here are the first four rows of the table. Note that the DataFrame has been transposed below for easier viewing. Without the transpose, each row is an object is the sky and each column is a feature/input."
   ]
  },
  {
   "cell_type": "code",
   "execution_count": 3,
   "metadata": {
    "collapsed": false
   },
   "outputs": [
    {
     "data": {
      "text/html": [
       "<div>\n",
       "<table border=\"1\" class=\"dataframe\">\n",
       "  <thead>\n",
       "    <tr style=\"text-align: right;\">\n",
       "      <th></th>\n",
       "      <th>0</th>\n",
       "      <th>1</th>\n",
       "      <th>2</th>\n",
       "      <th>3</th>\n",
       "    </tr>\n",
       "  </thead>\n",
       "  <tbody>\n",
       "    <tr>\n",
       "      <th>ra</th>\n",
       "      <td>189.4298</td>\n",
       "      <td>189.4538</td>\n",
       "      <td>189.4687</td>\n",
       "      <td>196.2366</td>\n",
       "    </tr>\n",
       "    <tr>\n",
       "      <th>dec</th>\n",
       "      <td>-0.1310421</td>\n",
       "      <td>-0.09731284</td>\n",
       "      <td>-0.03599975</td>\n",
       "      <td>0.4123472</td>\n",
       "    </tr>\n",
       "    <tr>\n",
       "      <th>class</th>\n",
       "      <td>Star</td>\n",
       "      <td>Star</td>\n",
       "      <td>Star</td>\n",
       "      <td>Galaxy</td>\n",
       "    </tr>\n",
       "    <tr>\n",
       "      <th>subclass</th>\n",
       "      <td>A0</td>\n",
       "      <td>F5</td>\n",
       "      <td>F5</td>\n",
       "      <td>null</td>\n",
       "    </tr>\n",
       "    <tr>\n",
       "      <th>redshift</th>\n",
       "      <td>0.0006484753</td>\n",
       "      <td>5.906141e-07</td>\n",
       "      <td>0.0005791125</td>\n",
       "      <td>0.6179363</td>\n",
       "    </tr>\n",
       "    <tr>\n",
       "      <th>redshiftErr</th>\n",
       "      <td>7.360589e-06</td>\n",
       "      <td>9.354951e-06</td>\n",
       "      <td>1.180595e-05</td>\n",
       "      <td>0.0001318748</td>\n",
       "    </tr>\n",
       "    <tr>\n",
       "      <th>zWarning</th>\n",
       "      <td>0</td>\n",
       "      <td>0</td>\n",
       "      <td>0</td>\n",
       "      <td>0</td>\n",
       "    </tr>\n",
       "    <tr>\n",
       "      <th>psfMag_u</th>\n",
       "      <td>17.84807</td>\n",
       "      <td>17.66626</td>\n",
       "      <td>17.28147</td>\n",
       "      <td>24.66923</td>\n",
       "    </tr>\n",
       "    <tr>\n",
       "      <th>psfMagErr_u</th>\n",
       "      <td>0.01703377</td>\n",
       "      <td>0.01657351</td>\n",
       "      <td>0.01586868</td>\n",
       "      <td>0.8418523</td>\n",
       "    </tr>\n",
       "    <tr>\n",
       "      <th>psfMag_g</th>\n",
       "      <td>16.66706</td>\n",
       "      <td>16.64595</td>\n",
       "      <td>16.2146</td>\n",
       "      <td>23.05412</td>\n",
       "    </tr>\n",
       "    <tr>\n",
       "      <th>psfMagErr_g</th>\n",
       "      <td>0.0144116</td>\n",
       "      <td>0.01439991</td>\n",
       "      <td>0.01434032</td>\n",
       "      <td>0.2069454</td>\n",
       "    </tr>\n",
       "    <tr>\n",
       "      <th>psfMag_r</th>\n",
       "      <td>16.85531</td>\n",
       "      <td>16.28934</td>\n",
       "      <td>15.76875</td>\n",
       "      <td>21.47531</td>\n",
       "    </tr>\n",
       "    <tr>\n",
       "      <th>psfMagErr_r</th>\n",
       "      <td>0.01748326</td>\n",
       "      <td>0.01707548</td>\n",
       "      <td>0.01702425</td>\n",
       "      <td>0.1176952</td>\n",
       "    </tr>\n",
       "    <tr>\n",
       "      <th>psfMag_i</th>\n",
       "      <td>17.0429</td>\n",
       "      <td>16.17299</td>\n",
       "      <td>15.50953</td>\n",
       "      <td>20.41323</td>\n",
       "    </tr>\n",
       "    <tr>\n",
       "      <th>psfMagErr_i</th>\n",
       "      <td>0.01451051</td>\n",
       "      <td>0.01167456</td>\n",
       "      <td>0.01160269</td>\n",
       "      <td>0.165401</td>\n",
       "    </tr>\n",
       "    <tr>\n",
       "      <th>psfMag_z</th>\n",
       "      <td>17.16665</td>\n",
       "      <td>16.13468</td>\n",
       "      <td>15.47708</td>\n",
       "      <td>20.04133</td>\n",
       "    </tr>\n",
       "    <tr>\n",
       "      <th>psfMagErr_z</th>\n",
       "      <td>0.02462654</td>\n",
       "      <td>0.01768295</td>\n",
       "      <td>0.01717788</td>\n",
       "      <td>0.2461791</td>\n",
       "    </tr>\n",
       "    <tr>\n",
       "      <th>petroMag_u</th>\n",
       "      <td>17.88087</td>\n",
       "      <td>17.70506</td>\n",
       "      <td>17.33332</td>\n",
       "      <td>23.97661</td>\n",
       "    </tr>\n",
       "    <tr>\n",
       "      <th>petroMagErr_u</th>\n",
       "      <td>0.0111319</td>\n",
       "      <td>0.009922555</td>\n",
       "      <td>0.008038488</td>\n",
       "      <td>2.120464</td>\n",
       "    </tr>\n",
       "    <tr>\n",
       "      <th>petroMag_g</th>\n",
       "      <td>16.66306</td>\n",
       "      <td>16.67624</td>\n",
       "      <td>16.253</td>\n",
       "      <td>23.00093</td>\n",
       "    </tr>\n",
       "    <tr>\n",
       "      <th>petroMagErr_g</th>\n",
       "      <td>0.003165843</td>\n",
       "      <td>0.002867172</td>\n",
       "      <td>0.002438473</td>\n",
       "      <td>0.6729416</td>\n",
       "    </tr>\n",
       "    <tr>\n",
       "      <th>petroMag_r</th>\n",
       "      <td>16.87562</td>\n",
       "      <td>16.33335</td>\n",
       "      <td>15.8059</td>\n",
       "      <td>20.86409</td>\n",
       "    </tr>\n",
       "    <tr>\n",
       "      <th>petroMagErr_r</th>\n",
       "      <td>0.008610857</td>\n",
       "      <td>0.002749886</td>\n",
       "      <td>0.002263545</td>\n",
       "      <td>0.2500357</td>\n",
       "    </tr>\n",
       "    <tr>\n",
       "      <th>petroMag_i</th>\n",
       "      <td>17.0827</td>\n",
       "      <td>16.21605</td>\n",
       "      <td>15.5625</td>\n",
       "      <td>19.80136</td>\n",
       "    </tr>\n",
       "    <tr>\n",
       "      <th>petroMagErr_i</th>\n",
       "      <td>0.0201462</td>\n",
       "      <td>0.003140237</td>\n",
       "      <td>0.002287731</td>\n",
       "      <td>0.3799355</td>\n",
       "    </tr>\n",
       "    <tr>\n",
       "      <th>petroMag_z</th>\n",
       "      <td>17.19835</td>\n",
       "      <td>16.1933</td>\n",
       "      <td>15.51777</td>\n",
       "      <td>19.40505</td>\n",
       "    </tr>\n",
       "    <tr>\n",
       "      <th>petroMagErr_z</th>\n",
       "      <td>0.04253768</td>\n",
       "      <td>0.009198451</td>\n",
       "      <td>0.005646828</td>\n",
       "      <td>0.4743574</td>\n",
       "    </tr>\n",
       "    <tr>\n",
       "      <th>extinction_u</th>\n",
       "      <td>0.1196574</td>\n",
       "      <td>0.1151118</td>\n",
       "      <td>0.1186043</td>\n",
       "      <td>0.1026673</td>\n",
       "    </tr>\n",
       "    <tr>\n",
       "      <th>extinction_g</th>\n",
       "      <td>0.08804275</td>\n",
       "      <td>0.08469814</td>\n",
       "      <td>0.08726794</td>\n",
       "      <td>0.07554164</td>\n",
       "    </tr>\n",
       "    <tr>\n",
       "      <th>extinction_r</th>\n",
       "      <td>0.06385595</td>\n",
       "      <td>0.06143015</td>\n",
       "      <td>0.06329399</td>\n",
       "      <td>0.0547891</td>\n",
       "    </tr>\n",
       "    <tr>\n",
       "      <th>extinction_i</th>\n",
       "      <td>0.04842003</td>\n",
       "      <td>0.04658063</td>\n",
       "      <td>0.04799392</td>\n",
       "      <td>0.04154491</td>\n",
       "    </tr>\n",
       "    <tr>\n",
       "      <th>extinction_z</th>\n",
       "      <td>0.03433041</td>\n",
       "      <td>0.03302624</td>\n",
       "      <td>0.03402828</td>\n",
       "      <td>0.02945586</td>\n",
       "    </tr>\n",
       "    <tr>\n",
       "      <th>petroRad_r</th>\n",
       "      <td>1.286998</td>\n",
       "      <td>1.265791</td>\n",
       "      <td>1.265033</td>\n",
       "      <td>2.018322</td>\n",
       "    </tr>\n",
       "    <tr>\n",
       "      <th>petroRadErr_r</th>\n",
       "      <td>0.01953742</td>\n",
       "      <td>0.01779405</td>\n",
       "      <td>0.01784949</td>\n",
       "      <td>0.390549</td>\n",
       "    </tr>\n",
       "  </tbody>\n",
       "</table>\n",
       "</div>"
      ],
      "text/plain": [
       "                          0             1             2             3\n",
       "ra                 189.4298      189.4538      189.4687      196.2366\n",
       "dec              -0.1310421   -0.09731284   -0.03599975     0.4123472\n",
       "class                  Star          Star          Star        Galaxy\n",
       "subclass                 A0            F5            F5          null\n",
       "redshift       0.0006484753  5.906141e-07  0.0005791125     0.6179363\n",
       "redshiftErr    7.360589e-06  9.354951e-06  1.180595e-05  0.0001318748\n",
       "zWarning                  0             0             0             0\n",
       "psfMag_u           17.84807      17.66626      17.28147      24.66923\n",
       "psfMagErr_u      0.01703377    0.01657351    0.01586868     0.8418523\n",
       "psfMag_g           16.66706      16.64595       16.2146      23.05412\n",
       "psfMagErr_g       0.0144116    0.01439991    0.01434032     0.2069454\n",
       "psfMag_r           16.85531      16.28934      15.76875      21.47531\n",
       "psfMagErr_r      0.01748326    0.01707548    0.01702425     0.1176952\n",
       "psfMag_i            17.0429      16.17299      15.50953      20.41323\n",
       "psfMagErr_i      0.01451051    0.01167456    0.01160269      0.165401\n",
       "psfMag_z           17.16665      16.13468      15.47708      20.04133\n",
       "psfMagErr_z      0.02462654    0.01768295    0.01717788     0.2461791\n",
       "petroMag_u         17.88087      17.70506      17.33332      23.97661\n",
       "petroMagErr_u     0.0111319   0.009922555   0.008038488      2.120464\n",
       "petroMag_g         16.66306      16.67624        16.253      23.00093\n",
       "petroMagErr_g   0.003165843   0.002867172   0.002438473     0.6729416\n",
       "petroMag_r         16.87562      16.33335       15.8059      20.86409\n",
       "petroMagErr_r   0.008610857   0.002749886   0.002263545     0.2500357\n",
       "petroMag_i          17.0827      16.21605       15.5625      19.80136\n",
       "petroMagErr_i     0.0201462   0.003140237   0.002287731     0.3799355\n",
       "petroMag_z         17.19835       16.1933      15.51777      19.40505\n",
       "petroMagErr_z    0.04253768   0.009198451   0.005646828     0.4743574\n",
       "extinction_u      0.1196574     0.1151118     0.1186043     0.1026673\n",
       "extinction_g     0.08804275    0.08469814    0.08726794    0.07554164\n",
       "extinction_r     0.06385595    0.06143015    0.06329399     0.0547891\n",
       "extinction_i     0.04842003    0.04658063    0.04799392    0.04154491\n",
       "extinction_z     0.03433041    0.03302624    0.03402828    0.02945586\n",
       "petroRad_r         1.286998      1.265791      1.265033      2.018322\n",
       "petroRadErr_r    0.01953742    0.01779405    0.01784949      0.390549"
      ]
     },
     "execution_count": 3,
     "metadata": {},
     "output_type": "execute_result"
    }
   ],
   "source": [
    "sdss.head(4).transpose()"
   ]
  },
  {
   "cell_type": "markdown",
   "metadata": {},
   "source": [
    "The first two columns (**`ra`** and **`dec`**) are the right ascension and the declination of the object in degrees. The third column (**`class`**) is the spectroscopic class (Star, Galaxy, and Quasar) as determined by expert opnion. This will be the target vector in the classficiation. Some objects are also further divided into subclasses, as indicated by the fourth column.  The columns (**`redshift`** and **`redshiftErr`**) are the redshift (with errror) of the object, also determined by expert opinion.\n",
    "\n",
    "There are 11 columns that we can use as feature vectors. These are the different <a href=\"https://www.sdss3.org/dr10/algorithms/magnitudes.php#mag_psf\" target=\"_blank\">PSF</a> and <a href=\"https://www.sdss3.org/dr10/algorithms/magnitudes.php#mag_petro\" target=\"_blank\">Petrosian</a> magnitude measurements:\n",
    "\n",
    "* **`psfMag_u`**: PSF magnitude measurement in u-band, assuming the object is a point souce\n",
    "* **`psfMag_g`**: PSF magnitude measurement in g-band, assuming the object is a point souce\n",
    "* **`psfMag_r`**: PSF magnitude measurement in r-band, assuming the object is a point souce\n",
    "* **`psfMag_i`**: PSF magnitude measurement in i-band, assuming the object is a point souce\n",
    "* **`psfMag_z`**: PSF magnitude measurement in z-band, assuming the object is a point souce\n",
    "* **`petroMag_u`**: Petrosian magnitude measurement in u-band, assuming the object is an extended souce\n",
    "* **`petroMag_g`**: Petrosian magnitude measurement in g-band, assuming the object is an extended souce\n",
    "* **`petroMag_r`**: Petrosian magnitude measurement in r-band, assuming the object is an extended souce\n",
    "* **`petroMag_i`**: Petrosian magnitude measurement in i-band, assuming the object is an extended souce\n",
    "* **`petroMag_z`**: Petrosian magnitude measurement in z-band, assuming the object is an extended souce\n",
    "* **`petroRad_r`**: size measurement of the object in r-band in arc seconds\n",
    "\n",
    "Each of these 11 measurements also has an associated error.\n",
    "\n",
    "In addition, there are 4 columns that contain extinction values. These values should be subtracted from the magnitude measurements to correct for the scattering of light by the galactic dust:\n",
    "\n",
    "* **`extinction_u`**: Extinction value in the u-band\n",
    "* **`extinction_g`**: Extinction value in the g-band\n",
    "* **`extinction_r`**: Extinction value in the r-band\n",
    "* **`extinction_i`**: Extinction value in the i-band\n",
    "* **`extinction_z`**: Extinction value in the z-band"
   ]
  },
  {
   "cell_type": "markdown",
   "metadata": {},
   "source": [
    "### Getting the Full SDSS Dataset"
   ]
  },
  {
   "cell_type": "markdown",
   "metadata": {},
   "source": [
    "In a few notebooks we will also use the full dataset which contains photometric measurements of 800,000 million objects. To obtain these data, remove all the WHERE conditions and LEFT JOIN (instead of JOIN) PhotoObj with SpecObj. Note that since the full set is extremly large (around 200GB), you will not be able to use CasJobs. Instead, you need to email the SDSS Help Desk directly for a custom transfer. Here is the required query:"
   ]
  },
  {
   "cell_type": "markdown",
   "metadata": {},
   "source": [
    "        SELECT\n",
    "        p.ra, p.dec,\n",
    "        CASE s.class WHEN 'GALAXY' THEN 'Galaxy'\n",
    "                     WHEN 'STAR' THEN 'Star'\n",
    "                     WHEN 'QSO' THEN 'Quasar'\n",
    "                     END AS class,\n",
    "        s.subclass,\n",
    "        s.z AS redshift,\n",
    "        s.zErr AS redshiftErr,\n",
    "        s.zWarning,\n",
    "        p.psfMag_u, p.psfMagErr_u,\n",
    "        p.psfMag_g, p.psfMagErr_g,\n",
    "        p.psfMag_r, p.psfMagErr_r,\n",
    "        p.psfMag_i, p.psfMagErr_i,\n",
    "        p.psfMag_z, p.psfMagErr_z,\n",
    "        p.petroMag_u, p.petroMagErr_u,\n",
    "        p.petroMag_g, p.petroMagErr_g,\n",
    "        p.petroMag_r, p.petroMagErr_r,\n",
    "        p.petroMag_i, p.petroMagErr_i,\n",
    "        p.petroMag_z, p.petroMagErr_z,\n",
    "        p.extinction_u, p.extinction_g, p.extinction_r, p.extinction_i, p.extinction_z,\n",
    "        p.petroRad_r, p.petroRadErr_r\n",
    "\n",
    "    FROM PhotoObj AS p\n",
    "       LEFT JOIN SpecObj AS s\n",
    "       ON s.bestobjid = p.objid"
   ]
  },
  {
   "cell_type": "markdown",
   "metadata": {},
   "source": [
    "Assuming the files are split into 100 files with names `ANUdata00.csv`, `ANUdata01.csv`, etc., we now combine them into one HDF5 table."
   ]
  },
  {
   "cell_type": "code",
   "execution_count": null,
   "metadata": {
    "collapsed": true
   },
   "outputs": [],
   "source": [
    "csv_path = '../data/sdss_full/ANUdata{0:02d}.csv'\n",
    "hdf_path = '../data/hdss_full.h5'\n",
    "sdss_cols = ['objID', 'ra', 'dec', 'specobjid', 'class', 'subclass', 'redshift',\n",
    "             'redshiftErr', 'zWarning', 'type', 'clean', 'flags', 'probPSF', 'psfMag_u',\n",
    "             'psfMagErr_u', 'psfMag_g', 'psfMagErr_g', 'psfMag_r', 'psfMagErr_r',\n",
    "             'psfMag_i', 'psfMagErr_i', 'psfMag_z', 'psfMagErr_z', 'petroMag_u',\n",
    "             'petroMagErr_u', 'petroMag_g', 'petroMagErr_g', 'petroMag_r', 'petroMagErr_r',\n",
    "             'petroMag_i', 'petroMagErr_i', 'petroMag_z', 'petroMagErr_z', 'extinction_u',\n",
    "             'extinction_g', 'extinction_r', 'extinction_i', 'extinction_z', 'petroRad_r',\n",
    "             'petroRadErr_r']\n",
    "csv_to_hdf(csv_path, no_files=100, hdf_path=hdf_path, data_cols=sdss_cols,\n",
    "           expectedrows=7569900, min_itemsize=40, table_name='sdss_full')"
   ]
  },
  {
   "cell_type": "markdown",
   "metadata": {},
   "source": [
    "### Extracting Colour Features"
   ]
  },
  {
   "cell_type": "markdown",
   "metadata": {},
   "source": [
    "Extract the colour features and scale the data"
   ]
  },
  {
   "cell_type": "code",
   "execution_count": 3,
   "metadata": {
    "collapsed": true
   },
   "outputs": [],
   "source": [
    "# compute reddening correction\n",
    "A_u_w14, A_g_w14, A_r_w14, A_i_w14, A_z_w14 = reddening_correction_w14(sdss['extinction_r'])\n",
    "\n",
    "# useful variables\n",
    "psf_magnitudes = ['psfMag_u', 'psfMag_g', 'psfMag_r', 'psfMag_i', 'psfMag_z']\n",
    "petro_magnitudes = ['petroMag_u', 'petroMag_g', 'petroMag_r', 'petroMag_i', 'petroMag_z']\n",
    "w14_corrections = [A_u_w14, A_g_w14, A_r_w14, A_i_w14, A_z_w14]\n",
    "colours = [('psfMag_u', 'psfMag_g'), ('psfMag_g', 'psfMag_r'), ('psfMag_r', 'psfMag_i'), ('psfMag_i', 'psfMag_z'),\n",
    "           ('petroMag_u', 'petroMag_g'), ('petroMag_g', 'petroMag_r'), ('petroMag_r', 'petroMag_i'), ('petroMag_i', 'petroMag_z')]\n",
    "\n",
    "# calculate the corrected magnitudes\n",
    "correct_magnitudes(sdss, psf_magnitudes, w14_corrections, '_w14')\n",
    "correct_magnitudes(sdss, petro_magnitudes, w14_corrections, '_w14')\n",
    "\n",
    "# calculate the corrected magnitudes\n",
    "compute_colours(sdss, colours, '_w14')\n",
    "\n",
    "# scale data to zero mean and unit variance\n",
    "scaler = StandardScaler()\n",
    "w14_feature_cols = ['psfMag_r_w14', 'psf_u_g_w14', 'psf_g_r_w14', 'psf_r_i_w14',\n",
    "                'psf_i_z_w14', 'petroMag_r_w14', 'petro_u_g_w14', 'petro_g_r_w14',\n",
    "                'petro_r_i_w14', 'petro_i_z_w14', 'petroRad_r']\n",
    "sdss[w14_feature_cols] = scaler.fit_transform(sdss[w14_feature_cols])\n",
    "save_results(scaler, '../pickle/01_dataset_prepration/sdss_scaler.pickle')\n",
    "\n",
    "# save as HDF5 table\n",
    "relevant_cols = ['ra', 'dec', 'class', 'psfMag_r_w14', 'psf_u_g_w14', 'psf_g_r_w14', 'psf_r_i_w14',\n",
    "                'psf_i_z_w14', 'petroMag_r_w14', 'petro_u_g_w14', 'petro_g_r_w14',\n",
    "                'petro_r_i_w14', 'petro_i_z_w14', 'petroRad_r']\n",
    "sdss[relevant_cols].to_hdf('../data/sdss.h5', 'sdss')"
   ]
  },
  {
   "cell_type": "markdown",
   "metadata": {},
   "source": [
    "## VST ATLAS Dataset"
   ]
  },
  {
   "cell_type": "code",
   "execution_count": 2,
   "metadata": {
    "collapsed": true
   },
   "outputs": [],
   "source": [
    "sources = ['../data/vstatlas/lib_gal__AT.fits',\n",
    "           '../data/vstatlas/lib_qso__AT.fits',\n",
    "           '../data/vstatlas/lib_star_AT.fits',\n",
    "           '../data/vstatlas/lib_WD___AT.fits']\n",
    "\n",
    "classes = ['Galaxy', 'Quasar', 'Star', 'White Dwarf']\n",
    "vstatlas_features = ['rmagC', 'umg', 'gmr', 'rmi', 'imz', 'rmw1', 'w1m2']\n",
    "\n",
    "dfs = []\n",
    "for source, obj in zip(sources, classes):\n",
    "    data = fits.open(source)\n",
    "    df = pd.DataFrame(data[1].data)\n",
    "    df['class'] = obj\n",
    "    dfs.append(df)\n",
    "    \n",
    "vstatlas = pd.concat(dfs, axis=0, ignore_index=True)\n",
    "vstatlas = vstatlas[['class', 'rmagC', 'umg', 'gmr', 'rmi', 'imz', 'rmw1', 'w1m2']]\n",
    "vstatlas = vstatlas.iloc[np.random.permutation(len(vstatlas))]\n",
    "vstatlas = vstatlas.reset_index(drop=True)\n",
    "\n",
    "scaler = StandardScaler()\n",
    "vstatlas[vstatlas_features] = scaler.fit_transform(vstatlas[vstatlas_features])\n",
    "\n",
    "vstatlas.to_hdf('../data/vstatlas.h5', 'vstatlas')"
   ]
  },
  {
   "cell_type": "markdown",
   "metadata": {},
   "source": [
    "To represent a random sky"
   ]
  },
  {
   "cell_type": "code",
   "execution_count": 11,
   "metadata": {
    "collapsed": false
   },
   "outputs": [
    {
     "data": {
      "text/plain": [
       "array([ 6550,   374, 27751,   379])"
      ]
     },
     "execution_count": 11,
     "metadata": {},
     "output_type": "execute_result"
    }
   ],
   "source": [
    "# a-priori likelihood for a random object in the sky\n",
    "counts = np.array([6559, 2303, 25604, 590])\n",
    "likelihoods = [6559. / 127. * 2496,\n",
    "               2303. / 5. * 16,\n",
    "               25604. / 697. * 14868,\n",
    "               590. / 3. * 38]\n",
    "\n",
    "np.array(np.sum(counts) * (np.array(likelihoods) / np.sum(likelihoods)), dtype=int)"
   ]
  }
 ],
 "metadata": {
  "kernelspec": {
   "display_name": "Python 3",
   "language": "python",
   "name": "python3"
  },
  "language_info": {
   "codemirror_mode": {
    "name": "ipython",
    "version": 3
   },
   "file_extension": ".py",
   "mimetype": "text/x-python",
   "name": "python",
   "nbconvert_exporter": "python",
   "pygments_lexer": "ipython3",
   "version": "3.4.1"
  }
 },
 "nbformat": 4,
 "nbformat_minor": 0
}
